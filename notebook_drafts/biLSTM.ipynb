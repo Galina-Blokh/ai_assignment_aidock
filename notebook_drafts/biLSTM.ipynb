{
 "cells": [
  {
   "cell_type": "code",
   "execution_count": 1,
   "metadata": {},
   "outputs": [],
   "source": [
    "import tensorflow as tf\n",
    "from tensorflow.keras.preprocessing.sequence import pad_sequences\n",
    "from tensorflow.keras.layers import Input,Dense, Dropout, LSTM, Embedding, Bidirectional\n",
    "from tensorflow.keras.models import Sequential\n",
    "from tensorflow.keras import Model\n",
    "from tensorflow.keras.preprocessing.text import Tokenizer\n",
    "from tensorflow.keras.preprocessing.sequence import pad_sequences\n",
    "from tensorflow.keras.utils import to_categorical\n",
    "from tensorflow.keras.callbacks import TensorBoard\n",
    "import numpy as np\n",
    "import pickle\n",
    "import random\n",
    "import os\n",
    "import pandas as pd\n",
    "import re\n",
    "pd.set_option('display.max_colwidth', None)"
   ]
  },
  {
   "cell_type": "code",
   "execution_count": 2,
   "metadata": {},
   "outputs": [
    {
     "data": {
      "text/plain": [
       "0    79.71\n",
       "1    20.29\n",
       "Name: label, dtype: float64"
      ]
     },
     "execution_count": 2,
     "metadata": {},
     "output_type": "execute_result"
    }
   ],
   "source": [
    "train = pd.read_pickle('C:\\\\Users\\\\galin\\\\PycharmProjects\\\\aiAssignment\\\\data\\\\train_data_clean.pkl')\n",
    "round(train['label'].value_counts()/len(train)*100,2)"
   ]
  },
  {
   "cell_type": "code",
   "execution_count": 3,
   "metadata": {},
   "outputs": [
    {
     "data": {
      "text/plain": [
       "0    79.71\n",
       "1    20.29\n",
       "Name: label, dtype: float64"
      ]
     },
     "execution_count": 3,
     "metadata": {},
     "output_type": "execute_result"
    }
   ],
   "source": [
    "test = pd.read_pickle('C:\\\\Users\\\\galin\\\\PycharmProjects\\\\aiAssignment\\\\data\\\\test_data_clean.pkl')\n",
    "round(test['label'].value_counts()/len(test)*100,2)"
   ]
  },
  {
   "cell_type": "code",
   "execution_count": 4,
   "metadata": {},
   "outputs": [],
   "source": [
    "maxSequenceLength_train = train['clean_paragraph_len'].max()#121 \n",
    "maxSequenceLength_test = test['clean_paragraph_len'].max() "
   ]
  },
  {
   "cell_type": "code",
   "execution_count": 5,
   "metadata": {},
   "outputs": [],
   "source": [
    "#Sentences array for train and test sets + target variable for train and test\n",
    "text_train = train['remove_stop_words']\n",
    "y_train = train['label']\n",
    "\n",
    "text_test = test['remove_stop_words']\n",
    "y_test = test['label']\n"
   ]
  },
  {
   "cell_type": "code",
   "execution_count": 6,
   "metadata": {},
   "outputs": [
    {
     "data": {
      "text/plain": [
       "2190"
      ]
     },
     "execution_count": 6,
     "metadata": {},
     "output_type": "execute_result"
    }
   ],
   "source": [
    "#vocab_size count\n",
    "results = set()\n",
    "train.remove_stop_words.str.split().apply(results.update)\n",
    "vocab_size = len(results)\n",
    "vocab_size"
   ]
  },
  {
   "cell_type": "code",
   "execution_count": 7,
   "metadata": {},
   "outputs": [
    {
     "data": {
      "text/plain": [
       "(81, 121)"
      ]
     },
     "execution_count": 7,
     "metadata": {},
     "output_type": "execute_result"
    }
   ],
   "source": [
    "maxSequenceLength_train = train['clean_paragraph_len'].max()#121 91-seed 42\n",
    "maxSequenceLength_test = test['clean_paragraph_len'].max() #86 91-seed 42\n",
    "maxSequenceLength_test, maxSequenceLength_train #(81, 91),"
   ]
  },
  {
   "cell_type": "code",
   "execution_count": 8,
   "metadata": {},
   "outputs": [],
   "source": [
    "def sent2vec(texts, max_sequence_length):\n",
    "    \"\"\" Create a union train set vocabulary and turn text in set\n",
    "    into  padded sequences (word --> num )\n",
    "    :param texts: series of prepared strings\n",
    "           max_sequence_length: int max len of sentence in series\n",
    "    :return ndArray with transformed series of text to int\n",
    "            with 0-padding up to max_sequence_length\"\"\"\n",
    "        \n",
    "    tokenizer = Tokenizer(num_words=vocab_size)\n",
    "    tokenizer.fit_on_texts(texts)\n",
    "#     print('vocab len',vocab_size,len(tokenizer.word_index))\n",
    "    \n",
    "    # Turn text into  padded sequences (word --> num )\n",
    "    text_sequences = tokenizer.texts_to_sequences(texts)\n",
    "    return pad_sequences(text_sequences, maxlen=max_sequence_length,\n",
    "                         dtype=\"int32\", padding=\"post\", value=0)"
   ]
  },
  {
   "cell_type": "code",
   "execution_count": 9,
   "metadata": {},
   "outputs": [
    {
     "data": {
      "text/plain": [
       "256"
      ]
     },
     "execution_count": 9,
     "metadata": {},
     "output_type": "execute_result"
    }
   ],
   "source": [
    "#for train nlp\n",
    "sent2vec_train = sent2vec(text_train, maxSequenceLength_train)\n",
    "\n",
    "# index_max_len_sent = train[train['clean_paragraph_len'] == maxSequenceLength_train].index \n",
    "# sent2vec_train[index_max_len_sent]\n",
    "X_meta_train = train[['sent_count','num_count','clean_paragraph_len','contains_pron']]\n",
    "# sent2vec_train.shape, X_meta_train.shape\n",
    "\n",
    "embedding_dimensions = 256 #128\n",
    "embedding_dimensions"
   ]
  },
  {
   "cell_type": "code",
   "execution_count": 10,
   "metadata": {},
   "outputs": [
    {
     "data": {
      "text/plain": [
       "((1454, 121), (1454, 4))"
      ]
     },
     "execution_count": 10,
     "metadata": {},
     "output_type": "execute_result"
    }
   ],
   "source": [
    "#for test nlp\n",
    "sent2vec_test = sent2vec(text_test, maxSequenceLength_train)\n",
    "\n",
    "# index_max_len_sent = train[train['clean_paragraph_len'] == maxSequenceLength_train].index \n",
    "# sent2vec_train[index_max_len_sent]\n",
    "X_meta_test = test[['sent_count','num_count','clean_paragraph_len','contains_pron']]\n",
    "sent2vec_test.shape, X_meta_test.shape"
   ]
  },
  {
   "cell_type": "code",
   "execution_count": 11,
   "metadata": {},
   "outputs": [],
   "source": [
    "def get_model(sent2vec_train,X_meta_train, results,embedding_dimensions=int(len(results)**0.25)):\n",
    "    \n",
    "    nlp_input = Input(shape=(sent2vec_train.shape[1],)) \n",
    "\n",
    "    meta_input = Input(shape=(X_meta_train.shape[1],))\n",
    "\n",
    "    emb = Embedding(output_dim=embedding_dimensions, \n",
    "                    input_dim=len(results) + 1, \n",
    "                    input_length=sent2vec_train.shape[1],\n",
    "                    mask_zero=True)(nlp_input)  # Use masking to handle the variable sequence lengths\n",
    "\n",
    "    nlp_out = Bidirectional(LSTM(128))(emb) \n",
    "\n",
    "    concat = tf.concat([nlp_out, meta_input], axis=1) \n",
    "\n",
    "    classifier = Dense(32, activation='relu')(concat) \n",
    "\n",
    "    drop = Dropout(0.5)(classifier) #0.2\n",
    "\n",
    "    output = Dense(1, activation='sigmoid')(drop) \n",
    "\n",
    "    model = Model(inputs=[nlp_input , meta_input], outputs=[output])\n",
    "\n",
    "    \n",
    "    return model"
   ]
  },
  {
   "cell_type": "code",
   "execution_count": 12,
   "metadata": {},
   "outputs": [],
   "source": [
    "concat_biLstm = get_model(sent2vec_train,X_meta_train, results,embedding_dimensions)"
   ]
  },
  {
   "cell_type": "code",
   "execution_count": 13,
   "metadata": {
    "scrolled": false
   },
   "outputs": [
    {
     "name": "stdout",
     "output_type": "stream",
     "text": [
      "Model: \"model\"\n",
      "__________________________________________________________________________________________________\n",
      "Layer (type)                    Output Shape         Param #     Connected to                     \n",
      "==================================================================================================\n",
      "input_1 (InputLayer)            [(None, 121)]        0                                            \n",
      "__________________________________________________________________________________________________\n",
      "embedding (Embedding)           (None, 121, 256)     560896      input_1[0][0]                    \n",
      "__________________________________________________________________________________________________\n",
      "bidirectional (Bidirectional)   (None, 256)          394240      embedding[0][0]                  \n",
      "__________________________________________________________________________________________________\n",
      "input_2 (InputLayer)            [(None, 4)]          0                                            \n",
      "__________________________________________________________________________________________________\n",
      "tf.concat (TFOpLambda)          (None, 260)          0           bidirectional[0][0]              \n",
      "                                                                 input_2[0][0]                    \n",
      "__________________________________________________________________________________________________\n",
      "dense (Dense)                   (None, 32)           8352        tf.concat[0][0]                  \n",
      "__________________________________________________________________________________________________\n",
      "dropout (Dropout)               (None, 32)           0           dense[0][0]                      \n",
      "__________________________________________________________________________________________________\n",
      "dense_1 (Dense)                 (None, 1)            33          dropout[0][0]                    \n",
      "==================================================================================================\n",
      "Total params: 963,521\n",
      "Trainable params: 963,521\n",
      "Non-trainable params: 0\n",
      "__________________________________________________________________________________________________\n"
     ]
    }
   ],
   "source": [
    "concat_biLstm.summary()"
   ]
  },
  {
   "cell_type": "code",
   "execution_count": 14,
   "metadata": {},
   "outputs": [],
   "source": [
    "concat_biLstm.compile(optimizer='adam',\n",
    "                  loss='binary_crossentropy',\n",
    "                  metrics=['accuracy'])"
   ]
  },
  {
   "cell_type": "code",
   "execution_count": 15,
   "metadata": {},
   "outputs": [
    {
     "name": "stdout",
     "output_type": "stream",
     "text": [
      "Epoch 1/200\n",
      "11/11 [==============================] - 26s 2s/step - loss: 1.5465 - accuracy: 0.4214 - val_loss: 0.5458 - val_accuracy: 0.8041\n",
      "Epoch 2/200\n",
      "11/11 [==============================] - 16s 1s/step - loss: 0.4812 - accuracy: 0.8320 - val_loss: 0.0600 - val_accuracy: 0.9956\n",
      "Epoch 3/200\n",
      "11/11 [==============================] - 18s 2s/step - loss: 0.0953 - accuracy: 0.9722 - val_loss: 0.0218 - val_accuracy: 0.9912\n",
      "Epoch 4/200\n",
      "11/11 [==============================] - 18s 2s/step - loss: 0.0345 - accuracy: 0.9944 - val_loss: 0.0341 - val_accuracy: 0.9897\n"
     ]
    }
   ],
   "source": [
    "SEQ_LEN=121 # max len sequence\n",
    "EMBEDDING_SIZE=121\n",
    "BATCH_SIZE= 256#64 loss: 0.2981 - accuracy: 0.9498 #256 --> acc0.95 loss0.24, 128-->acc94 loss 0.26 with dropout 0.5\n",
    "EPOCHS=200\n",
    "THRESHOLD=0.5\n",
    "\n",
    "\n",
    "\n",
    "es = tf.keras.callbacks.EarlyStopping(monitor='val_loss'\n",
    "          , mode='min')\n",
    "callbacks=[es]\n",
    "history = concat_biLstm.fit([sent2vec_train,X_meta_train], y_train\n",
    "                    , batch_size=BATCH_SIZE\n",
    "                    , epochs=EPOCHS\n",
    "                    , validation_split=0.2\n",
    "                    , callbacks=callbacks)"
   ]
  },
  {
   "cell_type": "code",
   "execution_count": 16,
   "metadata": {},
   "outputs": [
    {
     "name": "stdout",
     "output_type": "stream",
     "text": [
      "6/6 [==============================] - 2s 374ms/step - loss: 0.1075 - accuracy: 0.9677\n",
      "\n",
      "Model Loss score: 0.10745111107826233\n",
      "Model Accuracy Evaluation : 0.9676753878593445\n"
     ]
    }
   ],
   "source": [
    "score = concat_biLstm.evaluate([sent2vec_test,X_meta_test], y_test,\n",
    "                       batch_size=BATCH_SIZE, verbose=1)\n",
    "print()\n",
    "print(u'Model Loss score: {}'.format(score[0]))\n",
    "print(u'Model Accuracy Evaluation : {}'.format(score[1]))\n"
   ]
  },
  {
   "cell_type": "code",
   "execution_count": 17,
   "metadata": {},
   "outputs": [
    {
     "data": {
      "image/png": "[encoded data removed]",
      "text/plain": [
       "<Figure size 1080x288 with 1 Axes>"
      ]
     },
     "metadata": {
      "needs_background": "light"
     },
     "output_type": "display_data"
    }
   ],
   "source": [
    "import matplotlib.pyplot as plt\n",
    "%matplotlib inline\n",
    "import warnings\n",
    "warnings.simplefilter(action='ignore')\n",
    "warnings.filterwarnings('ignore')\n",
    "\n",
    "#plot the accuracy \n",
    "plt.figure(figsize=(15,4))\n",
    "plt.plot(history.history['loss'],'r', label='loss')\n",
    "plt.plot(history.history['val_loss'],'g--', label = 'val_loss')\n",
    "plt.xlabel('Epoch')\n",
    "plt.ylabel('Loss')\n",
    "# plt.ylim([0, 0.5])\n",
    "# plt.xlim([0, 20])\n",
    "plt.title('The Loss vs val_Loss LSTM concat, activation = relu')\n",
    "plt.legend(loc='best');"
   ]
  },
  {
   "cell_type": "code",
   "execution_count": 21,
   "metadata": {},
   "outputs": [],
   "source": [
    "DATA_FILE = 'concat_biLstm.pkl'\n",
    "def check_dir_path(filename, what_to_do):\n",
    "    \"\"\"The function receive filename:txt\n",
    "    checks is the path exists and creates empty file\n",
    "    :return file and path\"\"\"\n",
    "    path = ''\n",
    "    if not os.path.exists('{}/data'.format(os.getcwd())):\n",
    "        os.makedirs('{}/data'.format(os.getcwd()))\n",
    "    try:\n",
    "        path = '{}/data/{}'.format(os.getcwd(), filename)\n",
    "        file = open(path, what_to_do)\n",
    "    except:\n",
    "        raise Exception('WTF!!!! Could not open {}'.format(path))\n",
    "    return file, path  # DON'T FORGET TO CLOSE `file` IN THE PLACE WHERE YOU CALL THIS FUNCTION\n",
    "\n",
    "\n",
    "def save_data_to_pkl(data_file, file_name=DATA_FILE):\n",
    "    \"\"\"The function receive  a data_file:obj\n",
    "    checks the path and dumps into the pkl file\n",
    "    :return full path of saved data_file:str\"\"\"\n",
    "\n",
    "    file, path = check_dir_path(file_name, 'wb')\n",
    "    pickle.dump(data_file, file, pickle.HIGHEST_PROTOCOL)\n",
    "    file.close()\n",
    "    return path"
   ]
  },
  {
   "cell_type": "markdown",
   "metadata": {},
   "source": [
    "### Saving/restoring the model"
   ]
  },
  {
   "cell_type": "code",
   "execution_count": 23,
   "metadata": {},
   "outputs": [],
   "source": [
    "concat_biLstm.save('my_model.h5')"
   ]
  },
  {
   "cell_type": "code",
   "execution_count": 24,
   "metadata": {},
   "outputs": [],
   "source": [
    "new_model = tf.keras.models.load_model('my_model.h5')"
   ]
  },
  {
   "cell_type": "code",
   "execution_count": 26,
   "metadata": {},
   "outputs": [
    {
     "name": "stdout",
     "output_type": "stream",
     "text": [
      "Model: \"model\"\n",
      "__________________________________________________________________________________________________\n",
      "Layer (type)                    Output Shape         Param #     Connected to                     \n",
      "==================================================================================================\n",
      "input_1 (InputLayer)            [(None, 121)]        0                                            \n",
      "__________________________________________________________________________________________________\n",
      "embedding (Embedding)           (None, 121, 256)     560896      input_1[0][0]                    \n",
      "__________________________________________________________________________________________________\n",
      "bidirectional (Bidirectional)   (None, 256)          394240      embedding[0][0]                  \n",
      "__________________________________________________________________________________________________\n",
      "input_2 (InputLayer)            [(None, 4)]          0                                            \n",
      "__________________________________________________________________________________________________\n",
      "tf.concat (TFOpLambda)          (None, 260)          0           bidirectional[0][0]              \n",
      "                                                                 input_2[0][0]                    \n",
      "__________________________________________________________________________________________________\n",
      "dense (Dense)                   (None, 32)           8352        tf.concat[0][0]                  \n",
      "__________________________________________________________________________________________________\n",
      "dropout (Dropout)               (None, 32)           0           dense[0][0]                      \n",
      "__________________________________________________________________________________________________\n",
      "dense_1 (Dense)                 (None, 1)            33          dropout[0][0]                    \n",
      "==================================================================================================\n",
      "Total params: 963,521\n",
      "Trainable params: 963,521\n",
      "Non-trainable params: 0\n",
      "__________________________________________________________________________________________________\n"
     ]
    }
   ],
   "source": [
    "new_model.summary()"
   ]
  },
  {
   "cell_type": "code",
   "execution_count": null,
   "metadata": {},
   "outputs": [],
   "source": []
  }
 ],
 "metadata": {
  "kernelspec": {
   "display_name": "Python 3",
   "language": "python",
   "name": "python3"
  },
  "language_info": {
   "codemirror_mode": {
    "name": "ipython",
    "version": 3
   },
   "file_extension": ".py",
   "mimetype": "text/x-python",
   "name": "python",
   "nbconvert_exporter": "python",
   "pygments_lexer": "ipython3",
   "version": "3.8.5"
  }
 },
 "nbformat": 4,
 "nbformat_minor": 4
}
