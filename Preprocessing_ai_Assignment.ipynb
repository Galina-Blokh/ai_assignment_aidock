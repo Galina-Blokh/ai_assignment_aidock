{
 "cells": [
  {
   "cell_type": "markdown",
   "metadata": {},
   "source": [
    "# Preprocessing of scraped recipes"
   ]
  },
  {
   "cell_type": "markdown",
   "metadata": {},
   "source": [
    "### Import libraries"
   ]
  },
  {
   "cell_type": "code",
   "execution_count": null,
   "metadata": {},
   "outputs": [],
   "source": [
    "# pip install tensorflow==2.1"
   ]
  },
  {
   "cell_type": "code",
   "execution_count": 2,
   "metadata": {
    "ExecuteTime": {
     "end_time": "2020-12-25T17:51:01.266507Z",
     "start_time": "2020-12-25T17:51:01.239036Z"
    }
   },
   "outputs": [],
   "source": [
    "import pandas as pd\n",
    "import re\n",
    "import pickle\n",
    "import numpy as np\n",
    "pd.set_option('display.max_colwidth', None)\n",
    "\n",
    "from collections import Counter\n",
    "import string\n",
    "from itertools import chain\n",
    "\n",
    "# import tensorflow as tf\n",
    "# from keras.layers import Input\n",
    "# from keras.models import Model\n",
    "# from keras.models import Sequential\n",
    "# from keras.layers import Activation, Dense, LSTM, Embedding, TimeDistributed\n",
    "# tf.keras.backend.clear_session()  # For easy reset of notebook s"
   ]
  },
  {
   "cell_type": "markdown",
   "metadata": {},
   "source": [
    "### Load the data"
   ]
  },
  {
   "cell_type": "code",
   "execution_count": 16,
   "metadata": {
    "scrolled": true
   },
   "outputs": [
    {
     "data": {
      "text/plain": [
       "list"
      ]
     },
     "execution_count": 16,
     "metadata": {},
     "output_type": "execute_result"
    }
   ],
   "source": [
    "# json_file = 'C:/Users/galin/PycharmProjects/aiAssignment/data/recipes.pkl'\n",
    "# set_json = pickle.load(open(json_file, 'rb'))\n",
    "# type(set_json)"
   ]
  },
  {
   "cell_type": "code",
   "execution_count": 17,
   "metadata": {
    "scrolled": true
   },
   "outputs": [
    {
     "data": {
      "text/html": [
       "<div>\n",
       "<style scoped>\n",
       "    .dataframe tbody tr th:only-of-type {\n",
       "        vertical-align: middle;\n",
       "    }\n",
       "\n",
       "    .dataframe tbody tr th {\n",
       "        vertical-align: top;\n",
       "    }\n",
       "\n",
       "    .dataframe thead th {\n",
       "        text-align: right;\n",
       "    }\n",
       "</style>\n",
       "<table border=\"1\" class=\"dataframe\">\n",
       "  <thead>\n",
       "    <tr style=\"text-align: right;\">\n",
       "      <th></th>\n",
       "      <th>Recipe</th>\n",
       "      <th>INSTRUCTIONS</th>\n",
       "    </tr>\n",
       "  </thead>\n",
       "  <tbody>\n",
       "    <tr>\n",
       "      <th>0</th>\n",
       "      <td>[2 cups diced strawberries, ½ cup frozen raspberries, thawed, with their juices, Pinches of cane sugar]</td>\n",
       "      <td>Make the macerated berries: In a medium bowl, combine the strawberries, raspberries, and a few pinches of sugar. Set aside for 10 minutes for the berries to soften. Stir before serving.\\n\\nMake the French toast: In a large bowl, whisk together the eggs, milk, cinnamon, cardamom, and salt. Dip each slice of bread into the mixture and set the soaked bread aside on a large tray or plate.\\n\\nHeat a non-stick skillet to medium heat and brush with coconut oil. Add the bread slices and cook until golden brown, about 2 minutes per side. Reduce the heat to low as needed to cook thoroughly without burning. Serve with maple syrup and the macerated berries.</td>\n",
       "    </tr>\n",
       "    <tr>\n",
       "      <th>1</th>\n",
       "      <td>[½ cup warm water, 110°, 1 (¼-ounce) package active dry yeast, 1 teaspoon cane sugar, ⅓ cup melted coconut oil, plus more for brushing, ½ cup almond milk, at room temperature, ⅓ cup cane sugar, 1 teaspoon sea salt, 2¾ cups all-purpose flour, plus more for kneading, ½ cup brown sugar, 1½ tablespoons cinnamon]</td>\n",
       "      <td>Grease an 8x11 or 9x13-inch baking dish.\\n\\nIn a small bowl, stir together the water, yeast, and sugar. Set aside for 5 minutes, or until the yeast is foamy.\\n\\nMake the dough: In a medium bowl, combine the coconut oil, almond milk, sugar, and salt. Stir in the yeast mixture. Place the flour in a large bowl, then add the yeast mixture and stir until combined. The mixture will be sticky. Use your hands to roughly knead the mixture, then turn it out onto a floured surface. Knead 3 to 4 minutes until smooth, sprinkle with more flour if needed, and form into a ball.\\n\\nBrush a large bowl with coconut oil and place the dough inside. Cover with plastic wrap and set aside in a warm place to rise until doubled in size, about 1 hour.\\n\\nMake the filling: In a small bowl, mix the brown sugar and cinnamon.\\n\\nPunch down dough and roll out on a floured surface into a 20x14-inch rectangle. Brush with 2 tablespoons melted coconut oil and sprinkle with the cinnamon sugar to within ½ inch of the edges.\\n\\nStarting at one of the short 14-inch ends, roll tightly into a log, then slice into 12 rolls. Place the rolls into the baking dish cut-side up, cover, and let rise for 1 hour.\\n\\nPreheat the oven to 350°F.\\n\\nMake the glaze: In a medium bowl, whisk together the powdered sugar, 3 tablespoons almond milk, and vanilla until smooth. If it’s too thick, add more almond milk.\\n\\nBake the rolls 25 to 30 minutes or until lightly golden on top. Remove and allow to cool for 10 minutes, then drizzle the glaze on top and serve.</td>\n",
       "    </tr>\n",
       "    <tr>\n",
       "      <th>2</th>\n",
       "      <td>[2 cups cubed butternut squash, 2 cups halved Brussels sprouts, 2 cups cauliflower florets, 2 carrots, cut into 1-inch pieces, 1 to 2 turnips, cut into 1-inch pieces]</td>\n",
       "      <td>Preheat the oven to 425°F and line 2 large baking sheets with parchment paper.\\n\\nChoose any vegetables you like from the list above and place them in separate rows on the baking sheets, grouping vegetables with similar cooking times together. See the notes below for the approximate roasting times for each vegetable pictured. Drizzle with olive oil and sprinkle with salt and pepper. Roast until tender and golden brown around the edges, tossing halfway through.\\n\\nIf you’re roasting two sheets in the oven at the same time, switch racks halfway through so that the vegetables on both sheets brown evenly. Remove the vegetables from the sheets as they’re done.\\n\\nVegetables can be served hot or warm. If you’d like to serve them piping hot, toss them all back into the oven to warm up for a few minutes before serving.\\n\\nMix the vegetables together and transfer to a serving platter. Season to taste with salt, pepper and squeezes of lemon. Sprinkle with rosemary and drizzle with apple cider vinegar dressing, if using. Serve with lemon wedges, if desired.</td>\n",
       "    </tr>\n",
       "    <tr>\n",
       "      <th>3</th>\n",
       "      <td>[1¾ cups warm water, 105° to 115°F, 1 (¼-ounce) package active dry yeast, (2¼ teaspoons), 1 tablespoon cane sugar, 3½ cups all-purpose flour, plus more for kneading, 1½ cups whole wheat flour]</td>\n",
       "      <td>In a medium bowl, stir together the water, yeast, and sugar. Set aside for 5 minutes, until the yeast is foamy.\\n\\nIn the bowl of a stand mixer fitted with a dough hook attachment, place the flours, salt, ¼ cup of the olive oil, and the yeast mixture and mix on medium speed until the dough forms a ball around the hook, 5 to 6 minutes.\\n\\nTransfer the dough to a lightly floured surface and knead several times, sprinkling with more flour, as needed, and form into a ball. Brush a large bowl with olive oil, and place the dough inside. Cover with plastic wrap and set aside to rise until doubled in size, 40 to 50 minutes.\\n\\nCoat a 10 × 15-inch rimmed baking sheet with the remaining ¼ cup olive oil. Punch the dough down, transfer to a lightly floured surface, and knead several times. Place the dough in the pan and press to spread it out to the pan’s edges. Flip the dough over and spread it to the edges again. Make indentations with your fingers, every few inches apart, all over the dough. Cover the baking sheet with plastic wrap and allow the dough to rise until it has doubled in size, about 40 minutes.\\n\\nPreheat the oven to 425°F. Remove the plastic wrap. Cut the roasted garlic cloves in half and push them into the surface of the dough. Sprinkle with the rosemary, and red pepper flakes, and bake for 20 minutes, until golden brown.</td>\n",
       "    </tr>\n",
       "    <tr>\n",
       "      <th>4</th>\n",
       "      <td>[2 cups all-purpose flour, 1½ teaspoons baking powder, ½ teaspoon baking soda, 1 teaspoon sea salt]</td>\n",
       "      <td>Preheat the oven to 350°F and line 2 baking sheets with parchment paper.\\n\\nIn a medium bowl, whisk together the flour, baking powder, baking soda, and salt until combined.\\n\\nIn a large bowl, whisk together the brown sugar, coconut oil, tahini, water, and vanilla until smooth.\\n\\nPour the dry ingredients into the bowl of wet ingredients and use a spatula to combine. Fold in the chocolate chips. Use a 2-tablespoon cookie scoop to scoop the dough onto the baking sheets. Bake, one sheet at a time, for 12 to 14 minutes. Remove from the oven and let cool on the baking sheet for at least 10 minutes.</td>\n",
       "    </tr>\n",
       "  </tbody>\n",
       "</table>\n",
       "</div>"
      ],
      "text/plain": [
       "                                                                                                                                                                                                                                                                                                                  Recipe  \\\n",
       "0                                                                                                                                                                                                                [2 cups diced strawberries, ½ cup frozen raspberries, thawed, with their juices, Pinches of cane sugar]   \n",
       "1  [½ cup warm water, 110°, 1 (¼-ounce) package active dry yeast, 1 teaspoon cane sugar, ⅓ cup melted coconut oil, plus more for brushing, ½ cup almond milk, at room temperature, ⅓ cup cane sugar, 1 teaspoon sea salt, 2¾ cups all-purpose flour, plus more for kneading, ½ cup brown sugar, 1½ tablespoons cinnamon]   \n",
       "2                                                                                                                                                 [2 cups cubed butternut squash, 2 cups halved Brussels sprouts, 2 cups cauliflower florets, 2 carrots, cut into 1-inch pieces, 1 to 2 turnips, cut into 1-inch pieces]   \n",
       "3                                                                                                                       [1¾ cups warm water, 105° to 115°F, 1 (¼-ounce) package active dry yeast, (2¼ teaspoons), 1 tablespoon cane sugar, 3½ cups all-purpose flour, plus more for kneading, 1½ cups whole wheat flour]   \n",
       "4                                                                                                                                                                                                                    [2 cups all-purpose flour, 1½ teaspoons baking powder, ½ teaspoon baking soda, 1 teaspoon sea salt]   \n",
       "\n",
       "                                                                                                                                                                                                                                                                                                                                                                                                                                                                                                                                                                                                                                                                                                                                                                                                                                                                                                                                                                                                                                                                                                                                                                                                                                                                                                                                                                                                                                                                                                                                                                            INSTRUCTIONS  \n",
       "0                                                                                                                                                                                                                                                                                                                                                                                                                                                                                                                                                                                                                                                                                                                                                                                                                                                                                                          Make the macerated berries: In a medium bowl, combine the strawberries, raspberries, and a few pinches of sugar. Set aside for 10 minutes for the berries to soften. Stir before serving.\\n\\nMake the French toast: In a large bowl, whisk together the eggs, milk, cinnamon, cardamom, and salt. Dip each slice of bread into the mixture and set the soaked bread aside on a large tray or plate.\\n\\nHeat a non-stick skillet to medium heat and brush with coconut oil. Add the bread slices and cook until golden brown, about 2 minutes per side. Reduce the heat to low as needed to cook thoroughly without burning. Serve with maple syrup and the macerated berries.  \n",
       "1  Grease an 8x11 or 9x13-inch baking dish.\\n\\nIn a small bowl, stir together the water, yeast, and sugar. Set aside for 5 minutes, or until the yeast is foamy.\\n\\nMake the dough: In a medium bowl, combine the coconut oil, almond milk, sugar, and salt. Stir in the yeast mixture. Place the flour in a large bowl, then add the yeast mixture and stir until combined. The mixture will be sticky. Use your hands to roughly knead the mixture, then turn it out onto a floured surface. Knead 3 to 4 minutes until smooth, sprinkle with more flour if needed, and form into a ball.\\n\\nBrush a large bowl with coconut oil and place the dough inside. Cover with plastic wrap and set aside in a warm place to rise until doubled in size, about 1 hour.\\n\\nMake the filling: In a small bowl, mix the brown sugar and cinnamon.\\n\\nPunch down dough and roll out on a floured surface into a 20x14-inch rectangle. Brush with 2 tablespoons melted coconut oil and sprinkle with the cinnamon sugar to within ½ inch of the edges.\\n\\nStarting at one of the short 14-inch ends, roll tightly into a log, then slice into 12 rolls. Place the rolls into the baking dish cut-side up, cover, and let rise for 1 hour.\\n\\nPreheat the oven to 350°F.\\n\\nMake the glaze: In a medium bowl, whisk together the powdered sugar, 3 tablespoons almond milk, and vanilla until smooth. If it’s too thick, add more almond milk.\\n\\nBake the rolls 25 to 30 minutes or until lightly golden on top. Remove and allow to cool for 10 minutes, then drizzle the glaze on top and serve.  \n",
       "2                                                                                                                                                                                                                                                                                                                                                                                                                                                                                 Preheat the oven to 425°F and line 2 large baking sheets with parchment paper.\\n\\nChoose any vegetables you like from the list above and place them in separate rows on the baking sheets, grouping vegetables with similar cooking times together. See the notes below for the approximate roasting times for each vegetable pictured. Drizzle with olive oil and sprinkle with salt and pepper. Roast until tender and golden brown around the edges, tossing halfway through.\\n\\nIf you’re roasting two sheets in the oven at the same time, switch racks halfway through so that the vegetables on both sheets brown evenly. Remove the vegetables from the sheets as they’re done.\\n\\nVegetables can be served hot or warm. If you’d like to serve them piping hot, toss them all back into the oven to warm up for a few minutes before serving.\\n\\nMix the vegetables together and transfer to a serving platter. Season to taste with salt, pepper and squeezes of lemon. Sprinkle with rosemary and drizzle with apple cider vinegar dressing, if using. Serve with lemon wedges, if desired.  \n",
       "3                                                                                                                                                                                   In a medium bowl, stir together the water, yeast, and sugar. Set aside for 5 minutes, until the yeast is foamy.\\n\\nIn the bowl of a stand mixer fitted with a dough hook attachment, place the flours, salt, ¼ cup of the olive oil, and the yeast mixture and mix on medium speed until the dough forms a ball around the hook, 5 to 6 minutes.\\n\\nTransfer the dough to a lightly floured surface and knead several times, sprinkling with more flour, as needed, and form into a ball. Brush a large bowl with olive oil, and place the dough inside. Cover with plastic wrap and set aside to rise until doubled in size, 40 to 50 minutes.\\n\\nCoat a 10 × 15-inch rimmed baking sheet with the remaining ¼ cup olive oil. Punch the dough down, transfer to a lightly floured surface, and knead several times. Place the dough in the pan and press to spread it out to the pan’s edges. Flip the dough over and spread it to the edges again. Make indentations with your fingers, every few inches apart, all over the dough. Cover the baking sheet with plastic wrap and allow the dough to rise until it has doubled in size, about 40 minutes.\\n\\nPreheat the oven to 425°F. Remove the plastic wrap. Cut the roasted garlic cloves in half and push them into the surface of the dough. Sprinkle with the rosemary, and red pepper flakes, and bake for 20 minutes, until golden brown.  \n",
       "4                                                                                                                                                                                                                                                                                                                                                                                                                                                                                                                                                                                                                                                                                                                                                                                                                                                                                                                                                              Preheat the oven to 350°F and line 2 baking sheets with parchment paper.\\n\\nIn a medium bowl, whisk together the flour, baking powder, baking soda, and salt until combined.\\n\\nIn a large bowl, whisk together the brown sugar, coconut oil, tahini, water, and vanilla until smooth.\\n\\nPour the dry ingredients into the bowl of wet ingredients and use a spatula to combine. Fold in the chocolate chips. Use a 2-tablespoon cookie scoop to scoop the dough onto the baking sheets. Bake, one sheet at a time, for 12 to 14 minutes. Remove from the oven and let cool on the baking sheet for at least 10 minutes.  "
      ]
     },
     "execution_count": 17,
     "metadata": {},
     "output_type": "execute_result"
    }
   ],
   "source": [
    "# filename='C:/Users/galin/PycharmProjects/aiAssignment/data/recipes.pkl'\n",
    "# df = pd.DataFrame(pd.read_pickle(filename))\n",
    "# df.head()"
   ]
  },
  {
   "cell_type": "markdown",
   "metadata": {},
   "source": [
    "### Check the shape and info"
   ]
  },
  {
   "cell_type": "code",
   "execution_count": 19,
   "metadata": {
    "scrolled": true
   },
   "outputs": [
    {
     "data": {
      "text/plain": [
       "1035"
      ]
     },
     "execution_count": 19,
     "metadata": {},
     "output_type": "execute_result"
    }
   ],
   "source": [
    "# len(set_json)"
   ]
  },
  {
   "cell_type": "code",
   "execution_count": 20,
   "metadata": {},
   "outputs": [],
   "source": [
    "# set_json"
   ]
  },
  {
   "cell_type": "code",
   "execution_count": 21,
   "metadata": {},
   "outputs": [
    {
     "data": {
      "text/plain": [
       "(1035, 2)"
      ]
     },
     "execution_count": 21,
     "metadata": {},
     "output_type": "execute_result"
    }
   ],
   "source": [
    "# df.shape"
   ]
  },
  {
   "cell_type": "markdown",
   "metadata": {},
   "source": [
    "<b><br> We have 1035 rows and 2 columns. \n",
    "<br>`Recipe` and `INSTRUCTIONS` are our 2 columns.\n",
    "<br> Also our present columns will be our labels for each sentence. \n",
    "<br> Later we will split the data for sentences: \n",
    "<br>each row will be a sentence and we will have a label 1- recipe and 0 - instructions.</b>"
   ]
  },
  {
   "cell_type": "code",
   "execution_count": 22,
   "metadata": {
    "scrolled": false
   },
   "outputs": [
    {
     "name": "stdout",
     "output_type": "stream",
     "text": [
      "<class 'pandas.core.frame.DataFrame'>\n",
      "RangeIndex: 1035 entries, 0 to 1034\n",
      "Data columns (total 2 columns):\n",
      " #   Column        Non-Null Count  Dtype \n",
      "---  ------        --------------  ----- \n",
      " 0   Recipe        1035 non-null   object\n",
      " 1   INSTRUCTIONS  1035 non-null   object\n",
      "dtypes: object(2)\n",
      "memory usage: 16.3+ KB\n"
     ]
    }
   ],
   "source": [
    "# df.info()"
   ]
  },
  {
   "cell_type": "markdown",
   "metadata": {},
   "source": [
    "<b>Ok, good. <br>Now let's transform our first column `Recipe` :</b>"
   ]
  },
  {
   "cell_type": "code",
   "execution_count": 23,
   "metadata": {
    "scrolled": false
   },
   "outputs": [
    {
     "data": {
      "text/html": [
       "<div>\n",
       "<style scoped>\n",
       "    .dataframe tbody tr th:only-of-type {\n",
       "        vertical-align: middle;\n",
       "    }\n",
       "\n",
       "    .dataframe tbody tr th {\n",
       "        vertical-align: top;\n",
       "    }\n",
       "\n",
       "    .dataframe thead th {\n",
       "        text-align: right;\n",
       "    }\n",
       "</style>\n",
       "<table border=\"1\" class=\"dataframe\">\n",
       "  <thead>\n",
       "    <tr style=\"text-align: right;\">\n",
       "      <th></th>\n",
       "      <th>sentence</th>\n",
       "    </tr>\n",
       "  </thead>\n",
       "  <tbody>\n",
       "    <tr>\n",
       "      <th>0</th>\n",
       "      <td>2 cups diced strawberries</td>\n",
       "    </tr>\n",
       "    <tr>\n",
       "      <th>1</th>\n",
       "      <td>½ cup frozen raspberries, thawed, with their juices</td>\n",
       "    </tr>\n",
       "    <tr>\n",
       "      <th>2</th>\n",
       "      <td>Pinches of cane sugar</td>\n",
       "    </tr>\n",
       "    <tr>\n",
       "      <th>3</th>\n",
       "      <td>½ cup warm water, 110°</td>\n",
       "    </tr>\n",
       "    <tr>\n",
       "      <th>4</th>\n",
       "      <td>1 (¼-ounce) package active dry yeast</td>\n",
       "    </tr>\n",
       "  </tbody>\n",
       "</table>\n",
       "</div>"
      ],
      "text/plain": [
       "                                              sentence\n",
       "0                            2 cups diced strawberries\n",
       "1  ½ cup frozen raspberries, thawed, with their juices\n",
       "2                                Pinches of cane sugar\n",
       "3                               ½ cup warm water, 110°\n",
       "4                 1 (¼-ounce) package active dry yeast"
      ]
     },
     "execution_count": 23,
     "metadata": {},
     "output_type": "execute_result"
    }
   ],
   "source": [
    "# recipe_col = df[\"Recipe\"].to_numpy()\n",
    "# recipe = np.concatenate(recipe_col).reshape(-1,1)\n",
    "# recipe = pd.DataFrame(recipe, columns=['sentence'])\n",
    "# recipe.head()"
   ]
  },
  {
   "cell_type": "markdown",
   "metadata": {},
   "source": [
    "<b>We have to add a column `label`:</b>"
   ]
  },
  {
   "cell_type": "code",
   "execution_count": 24,
   "metadata": {},
   "outputs": [
    {
     "data": {
      "text/html": [
       "<div>\n",
       "<style scoped>\n",
       "    .dataframe tbody tr th:only-of-type {\n",
       "        vertical-align: middle;\n",
       "    }\n",
       "\n",
       "    .dataframe tbody tr th {\n",
       "        vertical-align: top;\n",
       "    }\n",
       "\n",
       "    .dataframe thead th {\n",
       "        text-align: right;\n",
       "    }\n",
       "</style>\n",
       "<table border=\"1\" class=\"dataframe\">\n",
       "  <thead>\n",
       "    <tr style=\"text-align: right;\">\n",
       "      <th></th>\n",
       "      <th>sentence</th>\n",
       "      <th>label</th>\n",
       "    </tr>\n",
       "  </thead>\n",
       "  <tbody>\n",
       "    <tr>\n",
       "      <th>0</th>\n",
       "      <td>2 cups diced strawberries</td>\n",
       "      <td>1</td>\n",
       "    </tr>\n",
       "    <tr>\n",
       "      <th>1</th>\n",
       "      <td>½ cup frozen raspberries, thawed, with their juices</td>\n",
       "      <td>1</td>\n",
       "    </tr>\n",
       "    <tr>\n",
       "      <th>2</th>\n",
       "      <td>Pinches of cane sugar</td>\n",
       "      <td>1</td>\n",
       "    </tr>\n",
       "    <tr>\n",
       "      <th>3</th>\n",
       "      <td>½ cup warm water, 110°</td>\n",
       "      <td>1</td>\n",
       "    </tr>\n",
       "    <tr>\n",
       "      <th>4</th>\n",
       "      <td>1 (¼-ounce) package active dry yeast</td>\n",
       "      <td>1</td>\n",
       "    </tr>\n",
       "  </tbody>\n",
       "</table>\n",
       "</div>"
      ],
      "text/plain": [
       "                                              sentence  label\n",
       "0                            2 cups diced strawberries      1\n",
       "1  ½ cup frozen raspberries, thawed, with their juices      1\n",
       "2                                Pinches of cane sugar      1\n",
       "3                               ½ cup warm water, 110°      1\n",
       "4                 1 (¼-ounce) package active dry yeast      1"
      ]
     },
     "execution_count": 24,
     "metadata": {},
     "output_type": "execute_result"
    }
   ],
   "source": [
    "# recipe['label'] = np.ones(len(recipe),int)\n",
    "# recipe.head()"
   ]
  },
  {
   "cell_type": "code",
   "execution_count": 25,
   "metadata": {},
   "outputs": [
    {
     "data": {
      "text/plain": [
       "(4160, 2)"
      ]
     },
     "execution_count": 25,
     "metadata": {},
     "output_type": "execute_result"
    }
   ],
   "source": [
    "# recipe.to_numpy().shape"
   ]
  },
  {
   "cell_type": "markdown",
   "metadata": {},
   "source": [
    "<b>Great! It's time to prepare the `INSTRUCTIONS` column</b>"
   ]
  },
  {
   "cell_type": "code",
   "execution_count": 26,
   "metadata": {
    "scrolled": false
   },
   "outputs": [
    {
     "data": {
      "text/html": [
       "<div>\n",
       "<style scoped>\n",
       "    .dataframe tbody tr th:only-of-type {\n",
       "        vertical-align: middle;\n",
       "    }\n",
       "\n",
       "    .dataframe tbody tr th {\n",
       "        vertical-align: top;\n",
       "    }\n",
       "\n",
       "    .dataframe thead th {\n",
       "        text-align: right;\n",
       "    }\n",
       "</style>\n",
       "<table border=\"1\" class=\"dataframe\">\n",
       "  <thead>\n",
       "    <tr style=\"text-align: right;\">\n",
       "      <th></th>\n",
       "      <th>sentence</th>\n",
       "    </tr>\n",
       "  </thead>\n",
       "  <tbody>\n",
       "    <tr>\n",
       "      <th>0</th>\n",
       "      <td>Make the macerated berries: In a medium bowl, combine the strawberries, raspberries, and a few pinches of sugar. Set aside for 10 minutes for the berries to soften. Stir before serving.</td>\n",
       "    </tr>\n",
       "    <tr>\n",
       "      <th>1</th>\n",
       "      <td></td>\n",
       "    </tr>\n",
       "    <tr>\n",
       "      <th>2</th>\n",
       "      <td>Make the French toast: In a large bowl, whisk together the eggs, milk, cinnamon, cardamom, and salt. Dip each slice of bread into the mixture and set the soaked bread aside on a large tray or plate.</td>\n",
       "    </tr>\n",
       "    <tr>\n",
       "      <th>3</th>\n",
       "      <td></td>\n",
       "    </tr>\n",
       "    <tr>\n",
       "      <th>4</th>\n",
       "      <td>Heat a non-stick skillet to medium heat and brush with coconut oil. Add the bread slices and cook until golden brown, about 2 minutes per side. Reduce the heat to low as needed to cook thoroughly without burning. Serve with maple syrup and the macerated berries.</td>\n",
       "    </tr>\n",
       "  </tbody>\n",
       "</table>\n",
       "</div>"
      ],
      "text/plain": [
       "                                                                                                                                                                                                                                                                 sentence\n",
       "0                                                                               Make the macerated berries: In a medium bowl, combine the strawberries, raspberries, and a few pinches of sugar. Set aside for 10 minutes for the berries to soften. Stir before serving.\n",
       "1                                                                                                                                                                                                                                                                        \n",
       "2                                                                  Make the French toast: In a large bowl, whisk together the eggs, milk, cinnamon, cardamom, and salt. Dip each slice of bread into the mixture and set the soaked bread aside on a large tray or plate.\n",
       "3                                                                                                                                                                                                                                                                        \n",
       "4  Heat a non-stick skillet to medium heat and brush with coconut oil. Add the bread slices and cook until golden brown, about 2 minutes per side. Reduce the heat to low as needed to cook thoroughly without burning. Serve with maple syrup and the macerated berries."
      ]
     },
     "execution_count": 26,
     "metadata": {},
     "output_type": "execute_result"
    }
   ],
   "source": [
    "# instr_col = df[\"INSTRUCTIONS\"].str.split('\\n').to_numpy()\n",
    "# instr = np.concatenate(instr_col).reshape(-1,1)\n",
    "# instr = pd.DataFrame(instr, columns=['sentence'])\n",
    "# instr.head()"
   ]
  },
  {
   "cell_type": "markdown",
   "metadata": {},
   "source": [
    "<b>Adding column `label` with value 0</b>"
   ]
  },
  {
   "cell_type": "code",
   "execution_count": 27,
   "metadata": {
    "scrolled": true
   },
   "outputs": [
    {
     "data": {
      "text/html": [
       "<div>\n",
       "<style scoped>\n",
       "    .dataframe tbody tr th:only-of-type {\n",
       "        vertical-align: middle;\n",
       "    }\n",
       "\n",
       "    .dataframe tbody tr th {\n",
       "        vertical-align: top;\n",
       "    }\n",
       "\n",
       "    .dataframe thead th {\n",
       "        text-align: right;\n",
       "    }\n",
       "</style>\n",
       "<table border=\"1\" class=\"dataframe\">\n",
       "  <thead>\n",
       "    <tr style=\"text-align: right;\">\n",
       "      <th></th>\n",
       "      <th>sentence</th>\n",
       "      <th>label</th>\n",
       "    </tr>\n",
       "  </thead>\n",
       "  <tbody>\n",
       "    <tr>\n",
       "      <th>0</th>\n",
       "      <td>Make the macerated berries: In a medium bowl, combine the strawberries, raspberries, and a few pinches of sugar. Set aside for 10 minutes for the berries to soften. Stir before serving.</td>\n",
       "      <td>0</td>\n",
       "    </tr>\n",
       "    <tr>\n",
       "      <th>1</th>\n",
       "      <td></td>\n",
       "      <td>0</td>\n",
       "    </tr>\n",
       "    <tr>\n",
       "      <th>2</th>\n",
       "      <td>Make the French toast: In a large bowl, whisk together the eggs, milk, cinnamon, cardamom, and salt. Dip each slice of bread into the mixture and set the soaked bread aside on a large tray or plate.</td>\n",
       "      <td>0</td>\n",
       "    </tr>\n",
       "    <tr>\n",
       "      <th>3</th>\n",
       "      <td></td>\n",
       "      <td>0</td>\n",
       "    </tr>\n",
       "    <tr>\n",
       "      <th>4</th>\n",
       "      <td>Heat a non-stick skillet to medium heat and brush with coconut oil. Add the bread slices and cook until golden brown, about 2 minutes per side. Reduce the heat to low as needed to cook thoroughly without burning. Serve with maple syrup and the macerated berries.</td>\n",
       "      <td>0</td>\n",
       "    </tr>\n",
       "    <tr>\n",
       "      <th>...</th>\n",
       "      <td>...</td>\n",
       "      <td>...</td>\n",
       "    </tr>\n",
       "    <tr>\n",
       "      <th>7300</th>\n",
       "      <td>For \"fettucine\" noodles using a mandoline and a knife: Slice thin zucchini planks with the mandoline, and then cut those planks into fettuccine-sized strips.</td>\n",
       "      <td>0</td>\n",
       "    </tr>\n",
       "    <tr>\n",
       "      <th>7301</th>\n",
       "      <td></td>\n",
       "      <td>0</td>\n",
       "    </tr>\n",
       "    <tr>\n",
       "      <th>7302</th>\n",
       "      <td>For \"pappardelle\" noodles using a regular vegetable peeler: Use the peeler to simply peel thin strips of zucchini.</td>\n",
       "      <td>0</td>\n",
       "    </tr>\n",
       "    <tr>\n",
       "      <th>7303</th>\n",
       "      <td></td>\n",
       "      <td>0</td>\n",
       "    </tr>\n",
       "    <tr>\n",
       "      <th>7304</th>\n",
       "      <td>Serve the zucchini noodles raw with a warm sauce (the heat of the sauce will gently cook the noodles without making them mushy). Or heat a skillet to medium heat, brush with olive oil, add the noodles and heat 1 minute, or until just warmed through. Remove and serve with desired sauces and toppings.</td>\n",
       "      <td>0</td>\n",
       "    </tr>\n",
       "  </tbody>\n",
       "</table>\n",
       "<p>7305 rows × 2 columns</p>\n",
       "</div>"
      ],
      "text/plain": [
       "                                                                                                                                                                                                                                                                                                          sentence  \\\n",
       "0                                                                                                                        Make the macerated berries: In a medium bowl, combine the strawberries, raspberries, and a few pinches of sugar. Set aside for 10 minutes for the berries to soften. Stir before serving.   \n",
       "1                                                                                                                                                                                                                                                                                                                    \n",
       "2                                                                                                           Make the French toast: In a large bowl, whisk together the eggs, milk, cinnamon, cardamom, and salt. Dip each slice of bread into the mixture and set the soaked bread aside on a large tray or plate.   \n",
       "3                                                                                                                                                                                                                                                                                                                    \n",
       "4                                           Heat a non-stick skillet to medium heat and brush with coconut oil. Add the bread slices and cook until golden brown, about 2 minutes per side. Reduce the heat to low as needed to cook thoroughly without burning. Serve with maple syrup and the macerated berries.   \n",
       "...                                                                                                                                                                                                                                                                                                            ...   \n",
       "7300                                                                                                                                                 For \"fettucine\" noodles using a mandoline and a knife: Slice thin zucchini planks with the mandoline, and then cut those planks into fettuccine-sized strips.   \n",
       "7301                                                                                                                                                                                                                                                                                                                 \n",
       "7302                                                                                                                                                                                            For \"pappardelle\" noodles using a regular vegetable peeler: Use the peeler to simply peel thin strips of zucchini.   \n",
       "7303                                                                                                                                                                                                                                                                                                                 \n",
       "7304  Serve the zucchini noodles raw with a warm sauce (the heat of the sauce will gently cook the noodles without making them mushy). Or heat a skillet to medium heat, brush with olive oil, add the noodles and heat 1 minute, or until just warmed through. Remove and serve with desired sauces and toppings.   \n",
       "\n",
       "      label  \n",
       "0         0  \n",
       "1         0  \n",
       "2         0  \n",
       "3         0  \n",
       "4         0  \n",
       "...     ...  \n",
       "7300      0  \n",
       "7301      0  \n",
       "7302      0  \n",
       "7303      0  \n",
       "7304      0  \n",
       "\n",
       "[7305 rows x 2 columns]"
      ]
     },
     "execution_count": 27,
     "metadata": {},
     "output_type": "execute_result"
    }
   ],
   "source": [
    "# instr['label'] = np.zeros(len(instr),int)\n",
    "# instr"
   ]
  },
  {
   "cell_type": "code",
   "execution_count": 28,
   "metadata": {},
   "outputs": [
    {
     "data": {
      "text/plain": [
       "(7305, 2)"
      ]
     },
     "execution_count": 28,
     "metadata": {},
     "output_type": "execute_result"
    }
   ],
   "source": [
    "# instr.to_numpy().shape"
   ]
  },
  {
   "cell_type": "code",
   "execution_count": 29,
   "metadata": {},
   "outputs": [
    {
     "data": {
      "text/html": [
       "<div>\n",
       "<style scoped>\n",
       "    .dataframe tbody tr th:only-of-type {\n",
       "        vertical-align: middle;\n",
       "    }\n",
       "\n",
       "    .dataframe tbody tr th {\n",
       "        vertical-align: top;\n",
       "    }\n",
       "\n",
       "    .dataframe thead th {\n",
       "        text-align: right;\n",
       "    }\n",
       "</style>\n",
       "<table border=\"1\" class=\"dataframe\">\n",
       "  <thead>\n",
       "    <tr style=\"text-align: right;\">\n",
       "      <th></th>\n",
       "      <th>paragraph</th>\n",
       "      <th>label</th>\n",
       "    </tr>\n",
       "  </thead>\n",
       "  <tbody>\n",
       "    <tr>\n",
       "      <th>0</th>\n",
       "      <td>Make the macerated berries: In a medium bowl, combine the strawberries, raspberries, and a few pinches of sugar. Set aside for 10 minutes for the berries to soften. Stir before serving.</td>\n",
       "      <td>0</td>\n",
       "    </tr>\n",
       "    <tr>\n",
       "      <th>1</th>\n",
       "      <td></td>\n",
       "      <td>0</td>\n",
       "    </tr>\n",
       "    <tr>\n",
       "      <th>2</th>\n",
       "      <td>Make the French toast: In a large bowl, whisk together the eggs, milk, cinnamon, cardamom, and salt. Dip each slice of bread into the mixture and set the soaked bread aside on a large tray or plate.</td>\n",
       "      <td>0</td>\n",
       "    </tr>\n",
       "    <tr>\n",
       "      <th>3</th>\n",
       "      <td></td>\n",
       "      <td>0</td>\n",
       "    </tr>\n",
       "    <tr>\n",
       "      <th>4</th>\n",
       "      <td>Heat a non-stick skillet to medium heat and brush with coconut oil. Add the bread slices and cook until golden brown, about 2 minutes per side. Reduce the heat to low as needed to cook thoroughly without burning. Serve with maple syrup and the macerated berries.</td>\n",
       "      <td>0</td>\n",
       "    </tr>\n",
       "  </tbody>\n",
       "</table>\n",
       "</div>"
      ],
      "text/plain": [
       "                                                                                                                                                                                                                                                                paragraph  \\\n",
       "0                                                                               Make the macerated berries: In a medium bowl, combine the strawberries, raspberries, and a few pinches of sugar. Set aside for 10 minutes for the berries to soften. Stir before serving.   \n",
       "1                                                                                                                                                                                                                                                                           \n",
       "2                                                                  Make the French toast: In a large bowl, whisk together the eggs, milk, cinnamon, cardamom, and salt. Dip each slice of bread into the mixture and set the soaked bread aside on a large tray or plate.   \n",
       "3                                                                                                                                                                                                                                                                           \n",
       "4  Heat a non-stick skillet to medium heat and brush with coconut oil. Add the bread slices and cook until golden brown, about 2 minutes per side. Reduce the heat to low as needed to cook thoroughly without burning. Serve with maple syrup and the macerated berries.   \n",
       "\n",
       "  label  \n",
       "0     0  \n",
       "1     0  \n",
       "2     0  \n",
       "3     0  \n",
       "4     0  "
      ]
     },
     "execution_count": 29,
     "metadata": {},
     "output_type": "execute_result"
    }
   ],
   "source": [
    "# data = pd.DataFrame(np.concatenate((instr.to_numpy(), recipe.to_numpy())), columns=['paragraph','label'])\n",
    "# data.head()"
   ]
  },
  {
   "cell_type": "code",
   "execution_count": 30,
   "metadata": {},
   "outputs": [
    {
     "data": {
      "text/plain": [
       "(11465, 2)"
      ]
     },
     "execution_count": 30,
     "metadata": {},
     "output_type": "execute_result"
    }
   ],
   "source": [
    "# data.shape"
   ]
  },
  {
   "cell_type": "code",
   "execution_count": 31,
   "metadata": {},
   "outputs": [
    {
     "data": {
      "text/plain": [
       "4160"
      ]
     },
     "execution_count": 31,
     "metadata": {},
     "output_type": "execute_result"
    }
   ],
   "source": [
    "# data.label[data.label == 1].count()"
   ]
  },
  {
   "cell_type": "code",
   "execution_count": 32,
   "metadata": {},
   "outputs": [
    {
     "data": {
      "text/plain": [
       "7305"
      ]
     },
     "execution_count": 32,
     "metadata": {},
     "output_type": "execute_result"
    }
   ],
   "source": [
    "# data.label[data.label == 0].count()"
   ]
  },
  {
   "cell_type": "code",
   "execution_count": 33,
   "metadata": {},
   "outputs": [
    {
     "data": {
      "text/plain": [
       "paragraph    0\n",
       "label        0\n",
       "dtype: int64"
      ]
     },
     "execution_count": 33,
     "metadata": {},
     "output_type": "execute_result"
    }
   ],
   "source": [
    "# data.isna().sum()"
   ]
  },
  {
   "cell_type": "markdown",
   "metadata": {},
   "source": [
    "##### no null - good, check the proportion"
   ]
  },
  {
   "cell_type": "code",
   "execution_count": 34,
   "metadata": {},
   "outputs": [
    {
     "data": {
      "text/plain": [
       "0    63.72\n",
       "1    36.28\n",
       "Name: label, dtype: float64"
      ]
     },
     "execution_count": 34,
     "metadata": {},
     "output_type": "execute_result"
    }
   ],
   "source": [
    "# round(data['label'].value_counts()/len(data)*100,2)"
   ]
  },
  {
   "cell_type": "markdown",
   "metadata": {},
   "source": [
    "##### drop duplicated and empty rows"
   ]
  },
  {
   "cell_type": "code",
   "execution_count": 35,
   "metadata": {},
   "outputs": [],
   "source": [
    "# data = data[data.paragraph != '']\n"
   ]
  },
  {
   "cell_type": "code",
   "execution_count": 36,
   "metadata": {},
   "outputs": [
    {
     "data": {
      "text/html": [
       "<div>\n",
       "<style scoped>\n",
       "    .dataframe tbody tr th:only-of-type {\n",
       "        vertical-align: middle;\n",
       "    }\n",
       "\n",
       "    .dataframe tbody tr th {\n",
       "        vertical-align: top;\n",
       "    }\n",
       "\n",
       "    .dataframe thead th {\n",
       "        text-align: right;\n",
       "    }\n",
       "</style>\n",
       "<table border=\"1\" class=\"dataframe\">\n",
       "  <thead>\n",
       "    <tr style=\"text-align: right;\">\n",
       "      <th></th>\n",
       "      <th>paragraph</th>\n",
       "      <th>label</th>\n",
       "    </tr>\n",
       "  </thead>\n",
       "  <tbody>\n",
       "    <tr>\n",
       "      <th>6857</th>\n",
       "      <td>1 cup diced tomato</td>\n",
       "      <td>1</td>\n",
       "    </tr>\n",
       "    <tr>\n",
       "      <th>6858</th>\n",
       "      <td>½ cup diced white onion</td>\n",
       "      <td>1</td>\n",
       "    </tr>\n",
       "    <tr>\n",
       "      <th>6859</th>\n",
       "      <td>¼ cup chopped cilantro</td>\n",
       "      <td>1</td>\n",
       "    </tr>\n",
       "    <tr>\n",
       "      <th>6860</th>\n",
       "      <td>1 large sweet potato (just under 1 lb)</td>\n",
       "      <td>1</td>\n",
       "    </tr>\n",
       "    <tr>\n",
       "      <th>6861</th>\n",
       "      <td>½ medium onion, diced</td>\n",
       "      <td>1</td>\n",
       "    </tr>\n",
       "  </tbody>\n",
       "</table>\n",
       "</div>"
      ],
      "text/plain": [
       "                                   paragraph label\n",
       "6857                      1 cup diced tomato     1\n",
       "6858                 ½ cup diced white onion     1\n",
       "6859                  ¼ cup chopped cilantro     1\n",
       "6860  1 large sweet potato (just under 1 lb)     1\n",
       "6861                   ½ medium onion, diced     1"
      ]
     },
     "execution_count": 36,
     "metadata": {},
     "output_type": "execute_result"
    }
   ],
   "source": [
    "# data = data.drop_duplicates().reset_index(drop=True)\n",
    "# data.tail()"
   ]
  },
  {
   "cell_type": "markdown",
   "metadata": {},
   "source": [
    "##### check the proportion again"
   ]
  },
  {
   "cell_type": "code",
   "execution_count": 37,
   "metadata": {},
   "outputs": [
    {
     "data": {
      "text/plain": [
       "0    56.25\n",
       "1    43.75\n",
       "Name: label, dtype: float64"
      ]
     },
     "execution_count": 37,
     "metadata": {},
     "output_type": "execute_result"
    }
   ],
   "source": [
    "# round(data['label'].value_counts()/len(data)*100,2)"
   ]
  },
  {
   "cell_type": "markdown",
   "metadata": {},
   "source": [
    "##### Chenged not much, but +6.2%  of sentences in  `ingredients` and -6.2% in `recipe` after droping duplacates\n",
    "##### We have a little bit imballanced data set\n",
    "##### Replace `.` to token `zzdot` and split on it"
   ]
  },
  {
   "cell_type": "code",
   "execution_count": 38,
   "metadata": {},
   "outputs": [],
   "source": []
  },
  {
   "cell_type": "code",
   "execution_count": 39,
   "metadata": {},
   "outputs": [
    {
     "data": {
      "text/html": [
       "<div>\n",
       "<style scoped>\n",
       "    .dataframe tbody tr th:only-of-type {\n",
       "        vertical-align: middle;\n",
       "    }\n",
       "\n",
       "    .dataframe tbody tr th {\n",
       "        vertical-align: top;\n",
       "    }\n",
       "\n",
       "    .dataframe thead th {\n",
       "        text-align: right;\n",
       "    }\n",
       "</style>\n",
       "<table border=\"1\" class=\"dataframe\">\n",
       "  <thead>\n",
       "    <tr style=\"text-align: right;\">\n",
       "      <th></th>\n",
       "      <th>paragraph</th>\n",
       "      <th>label</th>\n",
       "    </tr>\n",
       "  </thead>\n",
       "  <tbody>\n",
       "    <tr>\n",
       "      <th>6847</th>\n",
       "      <td>zNUM  cup dried cranberries</td>\n",
       "      <td>1</td>\n",
       "    </tr>\n",
       "    <tr>\n",
       "      <th>6848</th>\n",
       "      <td>zNUM sticks  zNUM   zNUM tablespoons butter or vegan butter</td>\n",
       "      <td>1</td>\n",
       "    </tr>\n",
       "    <tr>\n",
       "      <th>6849</th>\n",
       "      <td>zNUM ounces bittersweet chocolate</td>\n",
       "      <td>1</td>\n",
       "    </tr>\n",
       "    <tr>\n",
       "      <th>6850</th>\n",
       "      <td>zNUM egg yolks</td>\n",
       "      <td>1</td>\n",
       "    </tr>\n",
       "    <tr>\n",
       "      <th>6851</th>\n",
       "      <td>zNUM cups powdered sugar</td>\n",
       "      <td>1</td>\n",
       "    </tr>\n",
       "    <tr>\n",
       "      <th>6852</th>\n",
       "      <td>zNUM cup all purpose or spelt flour</td>\n",
       "      <td>1</td>\n",
       "    </tr>\n",
       "    <tr>\n",
       "      <th>6853</th>\n",
       "      <td>zNUM to  zNUM tablespoons coconut oil</td>\n",
       "      <td>1</td>\n",
       "    </tr>\n",
       "    <tr>\n",
       "      <th>6854</th>\n",
       "      <td>zNUM  cup popping corn</td>\n",
       "      <td>1</td>\n",
       "    </tr>\n",
       "    <tr>\n",
       "      <th>6855</th>\n",
       "      <td>zNUM tablespoons earth balance butter  or regular butter</td>\n",
       "      <td>1</td>\n",
       "    </tr>\n",
       "    <tr>\n",
       "      <th>6856</th>\n",
       "      <td>Corn tortillas or tortilla chips</td>\n",
       "      <td>1</td>\n",
       "    </tr>\n",
       "    <tr>\n",
       "      <th>6857</th>\n",
       "      <td>zNUM cup diced tomato</td>\n",
       "      <td>1</td>\n",
       "    </tr>\n",
       "    <tr>\n",
       "      <th>6858</th>\n",
       "      <td>zNUM  cup diced white onion</td>\n",
       "      <td>1</td>\n",
       "    </tr>\n",
       "    <tr>\n",
       "      <th>6859</th>\n",
       "      <td>zNUM  cup chopped cilantro</td>\n",
       "      <td>1</td>\n",
       "    </tr>\n",
       "    <tr>\n",
       "      <th>6860</th>\n",
       "      <td>zNUM large sweet potato  just under  zNUM lb</td>\n",
       "      <td>1</td>\n",
       "    </tr>\n",
       "    <tr>\n",
       "      <th>6861</th>\n",
       "      <td>zNUM  medium onion  diced</td>\n",
       "      <td>1</td>\n",
       "    </tr>\n",
       "  </tbody>\n",
       "</table>\n",
       "</div>"
      ],
      "text/plain": [
       "                                                         paragraph label\n",
       "6847                                   zNUM  cup dried cranberries     1\n",
       "6848   zNUM sticks  zNUM   zNUM tablespoons butter or vegan butter     1\n",
       "6849                             zNUM ounces bittersweet chocolate     1\n",
       "6850                                                zNUM egg yolks     1\n",
       "6851                                      zNUM cups powdered sugar     1\n",
       "6852                           zNUM cup all purpose or spelt flour     1\n",
       "6853                         zNUM to  zNUM tablespoons coconut oil     1\n",
       "6854                                        zNUM  cup popping corn     1\n",
       "6855     zNUM tablespoons earth balance butter  or regular butter      1\n",
       "6856                              Corn tortillas or tortilla chips     1\n",
       "6857                                         zNUM cup diced tomato     1\n",
       "6858                                   zNUM  cup diced white onion     1\n",
       "6859                                    zNUM  cup chopped cilantro     1\n",
       "6860                 zNUM large sweet potato  just under  zNUM lb      1\n",
       "6861                                     zNUM  medium onion  diced     1"
      ]
     },
     "execution_count": 39,
     "metadata": {},
     "output_type": "execute_result"
    }
   ],
   "source": [
    "# DIGIT_RX = \"(\\d+([\\.|,]\\d+)?[\\w]*[\\s|-])|[^A-Za-z\\,()\\.'\\-: ]{1,7}\"\n",
    "# SIMBOL_RX =\"[/(/)\\-/*/,]|[^ -~]\"\n",
    "# DOT_RX = \"\\.|\\:\"\n",
    "\n",
    "# def replace_numbers_str(series):\n",
    "#         \"\"\"\n",
    "#         replace numbers expression (11 ; 11,00;  1111.99; 23-th 25-,1/2,¼) with tag ' zNUM ',\n",
    "#         . and : replace with ' zDOT '\n",
    "#         :param series: pandas series of text strings\n",
    "#         :return: series with replaced numbers\n",
    "#         \"\"\"\n",
    "#         new_series1 = re.sub(DIGIT_RX,\" zNUM \",series)\n",
    "#         new_series2 = re.sub(SIMBOL_RX,' ',new_series1)\n",
    "#         new_series = re.sub(DOT_RX,\" zDOT\",new_series2)\n",
    "#         return new_series\n",
    "\n",
    "# data['paragraph'] = data.paragraph.apply(replace_numbers_str)\n",
    "# data.tail(15)"
   ]
  },
  {
   "cell_type": "code",
   "execution_count": 3,
   "metadata": {
    "ExecuteTime": {
     "end_time": "2020-12-25T17:51:23.260416Z",
     "start_time": "2020-12-25T17:51:22.639717Z"
    },
    "scrolled": true
   },
   "outputs": [
    {
     "name": "stdout",
     "output_type": "stream",
     "text": [
      "shape all of paragraphs data matrix (11465, 2)\n",
      "shape without duplicates (6863, 2)\n",
      "shape without empty string rows (6862, 2)\n"
     ]
    },
    {
     "data": {
      "text/html": [
       "<div>\n",
       "<style scoped>\n",
       "    .dataframe tbody tr th:only-of-type {\n",
       "        vertical-align: middle;\n",
       "    }\n",
       "\n",
       "    .dataframe tbody tr th {\n",
       "        vertical-align: top;\n",
       "    }\n",
       "\n",
       "    .dataframe thead th {\n",
       "        text-align: right;\n",
       "    }\n",
       "</style>\n",
       "<table border=\"1\" class=\"dataframe\">\n",
       "  <thead>\n",
       "    <tr style=\"text-align: right;\">\n",
       "      <th></th>\n",
       "      <th>paragraph</th>\n",
       "      <th>label</th>\n",
       "    </tr>\n",
       "  </thead>\n",
       "  <tbody>\n",
       "    <tr>\n",
       "      <th>1</th>\n",
       "      <td>Optional zDOT  if you're making okra  drizzle with olive oil  salt  zNUM  pepper and roast at the same time   for about  zNUM minutes or until they start to brown  zDOT</td>\n",
       "      <td>0</td>\n",
       "    </tr>\n",
       "    <tr>\n",
       "      <th>2</th>\n",
       "      <td>also good on pasta  in salads  etc zDOT</td>\n",
       "      <td>0</td>\n",
       "    </tr>\n",
       "    <tr>\n",
       "      <th>3</th>\n",
       "      <td>optional   I served mine on top of a few handfuls of arugula  zDOT</td>\n",
       "      <td>0</td>\n",
       "    </tr>\n",
       "  </tbody>\n",
       "</table>\n",
       "</div>"
      ],
      "text/plain": [
       "                                                                                                                                                                    paragraph  \\\n",
       "1   Optional zDOT  if you're making okra  drizzle with olive oil  salt  zNUM  pepper and roast at the same time   for about  zNUM minutes or until they start to brown  zDOT    \n",
       "2                                                                                                                                   also good on pasta  in salads  etc zDOT     \n",
       "3                                                                                                         optional   I served mine on top of a few handfuls of arugula  zDOT    \n",
       "\n",
       "  label  \n",
       "1     0  \n",
       "2     0  \n",
       "3     0  "
      ]
     },
     "execution_count": 3,
     "metadata": {},
     "output_type": "execute_result"
    }
   ],
   "source": [
    "# load data\n",
    "filename='./recipes.pkl'\n",
    "df = pd.DataFrame(pd.read_pickle(filename))\n",
    "\n",
    "#transform recioe to array and give a label 1\n",
    "recipe_col = df[\"Recipe\"].to_numpy()\n",
    "recipe = np.concatenate(recipe_col).reshape(-1,1)\n",
    "recipe = np.hstack((recipe,np.ones(len(recipe),int).reshape(-1,1)))\n",
    "\n",
    "#transform instructions to array and give a label 0\n",
    "instr_col = df[\"INSTRUCTIONS\"].str.split('\\n').to_numpy()\n",
    "instr = np.concatenate(instr_col).reshape(-1,1)\n",
    "instr = np.hstack((instr,np.zeros(len(instr),int).reshape(-1,1)))\n",
    "\n",
    "#forming a full data array with labels\n",
    "data = np.concatenate((instr, recipe))\n",
    "print('shape all of paragraphs data matrix',data.shape)\n",
    "\n",
    "# remove duplicates\n",
    "unique = np.unique(data, axis=0)\n",
    "print('shape without duplicates',unique.shape)\n",
    "\n",
    "#remove empty string rows(from table)\n",
    "unique = np.delete(unique,np.where(unique == ''),axis=0)\n",
    "print('shape without empty string rows',unique.shape)\n",
    "\n",
    "#constants regex\n",
    "DIGIT_RX = \"(\\d+([\\.|,]\\d+)?[\\w]*[\\s|-])|[^A-Za-z\\,()\\.'\\-: ]{1,7}\"\n",
    "SIMBOL_RX =\"[/(/)\\-/*/,]|[^ -~]\"\n",
    "DOT_RX = \"\\.{1,4}|\\:\" \n",
    "\n",
    "\n",
    "def replace_numbers_str(series):\n",
    "        \"\"\"\n",
    "        replace numbers expression (11 ; 11,00;  1111.99; 23-th 25-,1/2,¼) with tag ' zNUM ',\n",
    "        . and : replace with ' zDOT '\n",
    "        :param series: pandas series of text strings\n",
    "        :return: series with replaced numbers\n",
    "        \"\"\"\n",
    "        new_series1 = re.sub(DIGIT_RX,\" zNUM \",series)\n",
    "        new_series2 = re.sub(SIMBOL_RX,' ',new_series1)\n",
    "        new_series = re.sub(DOT_RX,\" zDOT \",new_series2)\n",
    "        return new_series\n",
    "    \n",
    "#transform to pandas -> easy to clean    \n",
    "data = pd.DataFrame(unique, columns=['paragraph', 'label'])\n",
    "data['paragraph'] = data.paragraph.apply(replace_numbers_str)\n",
    "data[1:4]"
   ]
  },
  {
   "cell_type": "code",
   "execution_count": 4,
   "metadata": {
    "ExecuteTime": {
     "end_time": "2020-12-25T17:51:32.686782Z",
     "start_time": "2020-12-25T17:51:32.622281Z"
    },
    "scrolled": true
   },
   "outputs": [
    {
     "data": {
      "text/html": [
       "<div>\n",
       "<style scoped>\n",
       "    .dataframe tbody tr th:only-of-type {\n",
       "        vertical-align: middle;\n",
       "    }\n",
       "\n",
       "    .dataframe tbody tr th {\n",
       "        vertical-align: top;\n",
       "    }\n",
       "\n",
       "    .dataframe thead th {\n",
       "        text-align: right;\n",
       "    }\n",
       "</style>\n",
       "<table border=\"1\" class=\"dataframe\">\n",
       "  <thead>\n",
       "    <tr style=\"text-align: right;\">\n",
       "      <th></th>\n",
       "      <th>paragraph</th>\n",
       "      <th>label</th>\n",
       "      <th>sent_count</th>\n",
       "      <th>num_count</th>\n",
       "    </tr>\n",
       "  </thead>\n",
       "  <tbody>\n",
       "    <tr>\n",
       "      <th>0</th>\n",
       "      <td>Alternatively  omit the sparkling water  shake everything in a cocktail shaker with ice and serve in a rocks glass  zDOT</td>\n",
       "      <td>0</td>\n",
       "      <td>1</td>\n",
       "      <td>0</td>\n",
       "    </tr>\n",
       "    <tr>\n",
       "      <th>1</th>\n",
       "      <td>Optional zDOT  if you're making okra  drizzle with olive oil  salt  zNUM  pepper and roast at the same time   for about  zNUM minutes or until they start to brown  zDOT</td>\n",
       "      <td>0</td>\n",
       "      <td>2</td>\n",
       "      <td>2</td>\n",
       "    </tr>\n",
       "    <tr>\n",
       "      <th>2</th>\n",
       "      <td>also good on pasta  in salads  etc zDOT</td>\n",
       "      <td>0</td>\n",
       "      <td>1</td>\n",
       "      <td>0</td>\n",
       "    </tr>\n",
       "    <tr>\n",
       "      <th>3</th>\n",
       "      <td>optional   I served mine on top of a few handfuls of arugula  zDOT</td>\n",
       "      <td>0</td>\n",
       "      <td>1</td>\n",
       "      <td>0</td>\n",
       "    </tr>\n",
       "    <tr>\n",
       "      <th>4</th>\n",
       "      <td>optional step  Mix your yogurt sauce together and pop it in the fridge zDOT</td>\n",
       "      <td>0</td>\n",
       "      <td>1</td>\n",
       "      <td>0</td>\n",
       "    </tr>\n",
       "    <tr>\n",
       "      <th>5</th>\n",
       "      <td>optional  Pan sear your tofu slabs zDOT  Press the water out with paper towels  drizzle with a bit of soy sauce zDOT  Heat oil in a skillet  add the tofu  and cook for a few minutes per side zDOT  Remove and chop into cubes zDOT</td>\n",
       "      <td>0</td>\n",
       "      <td>4</td>\n",
       "      <td>0</td>\n",
       "    </tr>\n",
       "    <tr>\n",
       "      <th>6</th>\n",
       "      <td>optional  Toss carrot ribbons with a splash of rice vinegar and a few pinches of salt zDOT  Let marinate until ready to use zDOT</td>\n",
       "      <td>0</td>\n",
       "      <td>2</td>\n",
       "      <td>0</td>\n",
       "    </tr>\n",
       "    <tr>\n",
       "      <th>7</th>\n",
       "      <td>or  zNUM cups uncooked shells and sauce from here  here  or here</td>\n",
       "      <td>1</td>\n",
       "      <td>1</td>\n",
       "      <td>1</td>\n",
       "    </tr>\n",
       "    <tr>\n",
       "      <th>8</th>\n",
       "      <td>or about  zNUM  zNUM fresh roma tomatoes  roast them with the onions  zNUM  peel skins</td>\n",
       "      <td>1</td>\n",
       "      <td>1</td>\n",
       "      <td>3</td>\n",
       "    </tr>\n",
       "    <tr>\n",
       "      <th>9</th>\n",
       "      <td>or good cold pressed watermelon juice</td>\n",
       "      <td>1</td>\n",
       "      <td>1</td>\n",
       "      <td>0</td>\n",
       "    </tr>\n",
       "    <tr>\n",
       "      <th>10</th>\n",
       "      <td>reserve some pasta water</td>\n",
       "      <td>1</td>\n",
       "      <td>1</td>\n",
       "      <td>0</td>\n",
       "    </tr>\n",
       "    <tr>\n",
       "      <th>11</th>\n",
       "      <td>sub quinoa if gluten free</td>\n",
       "      <td>1</td>\n",
       "      <td>1</td>\n",
       "      <td>0</td>\n",
       "    </tr>\n",
       "    <tr>\n",
       "      <th>12</th>\n",
       "      <td>total   about  zNUM lbs of carrots and sweet potato</td>\n",
       "      <td>1</td>\n",
       "      <td>1</td>\n",
       "      <td>1</td>\n",
       "    </tr>\n",
       "    <tr>\n",
       "      <th>13</th>\n",
       "      <td>vegan sub zDOT  chipotle cashew cream or avocado cream</td>\n",
       "      <td>1</td>\n",
       "      <td>1</td>\n",
       "      <td>0</td>\n",
       "    </tr>\n",
       "    <tr>\n",
       "      <th>14</th>\n",
       "      <td>yeast is included in the mix</td>\n",
       "      <td>1</td>\n",
       "      <td>1</td>\n",
       "      <td>0</td>\n",
       "    </tr>\n",
       "    <tr>\n",
       "      <th>15</th>\n",
       "      <td>zNUM Optional zDOT  Instead of re rolling any extra dough  form the remainder into soft ginger cookies zDOT  Place  zNUM  cup cane sugar into a small bowl zDOT  Roll the dough into  zNUM  balls  and then roll them in the cane sugar zDOT  Place the balls on a cookie sheet and press down on them lightly to flatten zDOT  Bake  zNUM to  zNUM minutes zDOT</td>\n",
       "      <td>0</td>\n",
       "      <td>6</td>\n",
       "      <td>5</td>\n",
       "    </tr>\n",
       "    <tr>\n",
       "      <th>16</th>\n",
       "      <td>zNUM Quick pickled onions zDOT  thinly slice onion and place in a small jar zDOT  Cover with white wine vinegar and a few pinches of cane sugar and salt zDOT  Chill for at least  zNUM hour or overnight zDOT  Store any extra in the fridge  they'll be good for at least a few weeks zDOT</td>\n",
       "      <td>0</td>\n",
       "      <td>5</td>\n",
       "      <td>2</td>\n",
       "    </tr>\n",
       "    <tr>\n",
       "      <th>17</th>\n",
       "      <td>zNUM   zNUM pound  cauliflower head  broken into a few large pieces</td>\n",
       "      <td>1</td>\n",
       "      <td>1</td>\n",
       "      <td>2</td>\n",
       "    </tr>\n",
       "    <tr>\n",
       "      <th>18</th>\n",
       "      <td>zNUM   zNUM ounce  package of dark   zNUM  cacao  chocolate chips  or chopped semi sweet baking chocolate  I enjoy the Sunspire brand  which is vegan  zNUM  gluten free</td>\n",
       "      <td>1</td>\n",
       "      <td>1</td>\n",
       "      <td>4</td>\n",
       "    </tr>\n",
       "    <tr>\n",
       "      <th>19</th>\n",
       "      <td>zNUM   zNUM ounce  can hearts of palm  slice into  zNUM  inch pieces</td>\n",
       "      <td>1</td>\n",
       "      <td>1</td>\n",
       "      <td>3</td>\n",
       "    </tr>\n",
       "    <tr>\n",
       "      <th>20</th>\n",
       "      <td>zNUM   zNUM oz  package extra firm tofu  cubed</td>\n",
       "      <td>1</td>\n",
       "      <td>1</td>\n",
       "      <td>2</td>\n",
       "    </tr>\n",
       "    <tr>\n",
       "      <th>21</th>\n",
       "      <td>zNUM   zNUM ounce   can whole artichoke hearts  drained  patted dry  and chopped</td>\n",
       "      <td>1</td>\n",
       "      <td>1</td>\n",
       "      <td>2</td>\n",
       "    </tr>\n",
       "    <tr>\n",
       "      <th>22</th>\n",
       "      <td>zNUM   zNUM ounce  can artichoke hearts  drained and sliced into quarters</td>\n",
       "      <td>1</td>\n",
       "      <td>1</td>\n",
       "      <td>2</td>\n",
       "    </tr>\n",
       "    <tr>\n",
       "      <th>23</th>\n",
       "      <td>zNUM   zNUM ounce  can black beans  drained and rinsed</td>\n",
       "      <td>1</td>\n",
       "      <td>1</td>\n",
       "      <td>2</td>\n",
       "    </tr>\n",
       "    <tr>\n",
       "      <th>24</th>\n",
       "      <td>zNUM   zNUM ounce  can coconut milk  reserve  zNUM  cup for garnish</td>\n",
       "      <td>1</td>\n",
       "      <td>1</td>\n",
       "      <td>3</td>\n",
       "    </tr>\n",
       "    <tr>\n",
       "      <th>25</th>\n",
       "      <td>zNUM   zNUM ounce  can diced fire roasted tomatoes</td>\n",
       "      <td>1</td>\n",
       "      <td>1</td>\n",
       "      <td>2</td>\n",
       "    </tr>\n",
       "    <tr>\n",
       "      <th>26</th>\n",
       "      <td>zNUM   zNUM ounce  can full fat coconut milk</td>\n",
       "      <td>1</td>\n",
       "      <td>1</td>\n",
       "      <td>2</td>\n",
       "    </tr>\n",
       "    <tr>\n",
       "      <th>27</th>\n",
       "      <td>zNUM   zNUM ounce  can full fat coconut milk</td>\n",
       "      <td>1</td>\n",
       "      <td>1</td>\n",
       "      <td>2</td>\n",
       "    </tr>\n",
       "    <tr>\n",
       "      <th>28</th>\n",
       "      <td>zNUM   zNUM ounce  can light coconut milk  reserve  zNUM  cup for garnish</td>\n",
       "      <td>1</td>\n",
       "      <td>1</td>\n",
       "      <td>3</td>\n",
       "    </tr>\n",
       "    <tr>\n",
       "      <th>29</th>\n",
       "      <td>zNUM   zNUM ounce  can refried beans</td>\n",
       "      <td>1</td>\n",
       "      <td>1</td>\n",
       "      <td>2</td>\n",
       "    </tr>\n",
       "    <tr>\n",
       "      <th>30</th>\n",
       "      <td>zNUM   zNUM ounce  can refried black beans</td>\n",
       "      <td>1</td>\n",
       "      <td>1</td>\n",
       "      <td>2</td>\n",
       "    </tr>\n",
       "    <tr>\n",
       "      <th>31</th>\n",
       "      <td>zNUM   zNUM ounce  can refried pinto beans zNUM   see note</td>\n",
       "      <td>1</td>\n",
       "      <td>1</td>\n",
       "      <td>3</td>\n",
       "    </tr>\n",
       "    <tr>\n",
       "      <th>32</th>\n",
       "      <td>zNUM   zNUM ounce  package extra firm tofu  see notes</td>\n",
       "      <td>1</td>\n",
       "      <td>1</td>\n",
       "      <td>2</td>\n",
       "    </tr>\n",
       "    <tr>\n",
       "      <th>33</th>\n",
       "      <td>zNUM   zNUM oz  can diced tomatoes</td>\n",
       "      <td>1</td>\n",
       "      <td>1</td>\n",
       "      <td>2</td>\n",
       "    </tr>\n",
       "    <tr>\n",
       "      <th>34</th>\n",
       "      <td>zNUM   zNUM ounce  can chickpeas  drained and rinsed</td>\n",
       "      <td>1</td>\n",
       "      <td>1</td>\n",
       "      <td>2</td>\n",
       "    </tr>\n",
       "    <tr>\n",
       "      <th>35</th>\n",
       "      <td>zNUM   zNUM ounce  container whole milk ricotta cheese</td>\n",
       "      <td>1</td>\n",
       "      <td>1</td>\n",
       "      <td>2</td>\n",
       "    </tr>\n",
       "    <tr>\n",
       "      <th>36</th>\n",
       "      <td>zNUM   zNUM ounce  can Jackfruit  cored and shredded</td>\n",
       "      <td>1</td>\n",
       "      <td>1</td>\n",
       "      <td>2</td>\n",
       "    </tr>\n",
       "    <tr>\n",
       "      <th>37</th>\n",
       "      <td>zNUM   zNUM ounce  can whole tomatoes  San Marzano  preferably  zNUM</td>\n",
       "      <td>1</td>\n",
       "      <td>1</td>\n",
       "      <td>3</td>\n",
       "    </tr>\n",
       "    <tr>\n",
       "      <th>38</th>\n",
       "      <td>zNUM   zNUM pound  pumpkin  kabocha squash is best</td>\n",
       "      <td>1</td>\n",
       "      <td>1</td>\n",
       "      <td>2</td>\n",
       "    </tr>\n",
       "    <tr>\n",
       "      <th>39</th>\n",
       "      <td>zNUM   zNUM ounce  box Annie zNUM s Four Cheese Macaroni  zNUM  Cheese</td>\n",
       "      <td>1</td>\n",
       "      <td>1</td>\n",
       "      <td>4</td>\n",
       "    </tr>\n",
       "    <tr>\n",
       "      <th>40</th>\n",
       "      <td>zNUM   zNUM mL  bottle Barefoot Bubbly Brut Cuv zNUM e Champagne</td>\n",
       "      <td>1</td>\n",
       "      <td>1</td>\n",
       "      <td>3</td>\n",
       "    </tr>\n",
       "    <tr>\n",
       "      <th>41</th>\n",
       "      <td>zNUM   zNUM ml  bottle dry red wine  such as merlot</td>\n",
       "      <td>1</td>\n",
       "      <td>1</td>\n",
       "      <td>2</td>\n",
       "    </tr>\n",
       "    <tr>\n",
       "      <th>42</th>\n",
       "      <td>zNUM   zNUM ml  bottle of Champagne  prosecco  or cava  chilled</td>\n",
       "      <td>1</td>\n",
       "      <td>1</td>\n",
       "      <td>2</td>\n",
       "    </tr>\n",
       "    <tr>\n",
       "      <th>43</th>\n",
       "      <td>zNUM   zNUM ounce  brie wheel  chilled</td>\n",
       "      <td>1</td>\n",
       "      <td>1</td>\n",
       "      <td>2</td>\n",
       "    </tr>\n",
       "    <tr>\n",
       "      <th>44</th>\n",
       "      <td>zNUM   zNUM ounce   ball fresh mozzarella  sliced</td>\n",
       "      <td>1</td>\n",
       "      <td>1</td>\n",
       "      <td>2</td>\n",
       "    </tr>\n",
       "    <tr>\n",
       "      <th>45</th>\n",
       "      <td>zNUM   zNUM ounce  ball fresh mozzarella  not packed in water</td>\n",
       "      <td>1</td>\n",
       "      <td>1</td>\n",
       "      <td>2</td>\n",
       "    </tr>\n",
       "    <tr>\n",
       "      <th>46</th>\n",
       "      <td>zNUM   zNUM ounce  package tempeh</td>\n",
       "      <td>1</td>\n",
       "      <td>1</td>\n",
       "      <td>2</td>\n",
       "    </tr>\n",
       "    <tr>\n",
       "      <th>47</th>\n",
       "      <td>zNUM  approx zDOT   zNUM oz zDOT   ball of store bought pizza dough</td>\n",
       "      <td>1</td>\n",
       "      <td>2</td>\n",
       "      <td>2</td>\n",
       "    </tr>\n",
       "    <tr>\n",
       "      <th>48</th>\n",
       "      <td>zNUM   zNUM  ounce  package active dry yeast</td>\n",
       "      <td>1</td>\n",
       "      <td>1</td>\n",
       "      <td>2</td>\n",
       "    </tr>\n",
       "    <tr>\n",
       "      <th>49</th>\n",
       "      <td>zNUM   zNUM  ounce  package active dry yeast    zNUM teaspoons</td>\n",
       "      <td>1</td>\n",
       "      <td>1</td>\n",
       "      <td>3</td>\n",
       "    </tr>\n",
       "  </tbody>\n",
       "</table>\n",
       "</div>"
      ],
      "text/plain": [
       "                                                                                                                                                                                                                                                                                                                                                             paragraph  \\\n",
       "0                                                                                                                                                                                                                                            Alternatively  omit the sparkling water  shake everything in a cocktail shaker with ice and serve in a rocks glass  zDOT    \n",
       "1                                                                                                                                                                                            Optional zDOT  if you're making okra  drizzle with olive oil  salt  zNUM  pepper and roast at the same time   for about  zNUM minutes or until they start to brown  zDOT    \n",
       "2                                                                                                                                                                                                                                                                                                                            also good on pasta  in salads  etc zDOT     \n",
       "3                                                                                                                                                                                                                                                                                                  optional   I served mine on top of a few handfuls of arugula  zDOT    \n",
       "4                                                                                                                                                                                                                                                                                         optional step  Mix your yogurt sauce together and pop it in the fridge zDOT    \n",
       "5                                                                                                                                optional  Pan sear your tofu slabs zDOT  Press the water out with paper towels  drizzle with a bit of soy sauce zDOT  Heat oil in a skillet  add the tofu  and cook for a few minutes per side zDOT  Remove and chop into cubes zDOT    \n",
       "6                                                                                                                                                                                                                                    optional  Toss carrot ribbons with a splash of rice vinegar and a few pinches of salt zDOT  Let marinate until ready to use zDOT    \n",
       "7                                                                                                                                                                                                                                                                                                    or  zNUM cups uncooked shells and sauce from here  here  or here    \n",
       "8                                                                                                                                                                                                                                                                              or about  zNUM  zNUM fresh roma tomatoes  roast them with the onions  zNUM  peel skins    \n",
       "9                                                                                                                                                                                                                                                                                                                               or good cold pressed watermelon juice    \n",
       "10                                                                                                                                                                                                                                                                                                                                           reserve some pasta water    \n",
       "11                                                                                                                                                                                                                                                                                                                                          sub quinoa if gluten free    \n",
       "12                                                                                                                                                                                                                                                                                                                total   about  zNUM lbs of carrots and sweet potato    \n",
       "13                                                                                                                                                                                                                                                                                                             vegan sub zDOT  chipotle cashew cream or avocado cream    \n",
       "14                                                                                                                                                                                                                                                                                                                                       yeast is included in the mix    \n",
       "15   zNUM Optional zDOT  Instead of re rolling any extra dough  form the remainder into soft ginger cookies zDOT  Place  zNUM  cup cane sugar into a small bowl zDOT  Roll the dough into  zNUM  balls  and then roll them in the cane sugar zDOT  Place the balls on a cookie sheet and press down on them lightly to flatten zDOT  Bake  zNUM to  zNUM minutes zDOT    \n",
       "16                                                                       zNUM Quick pickled onions zDOT  thinly slice onion and place in a small jar zDOT  Cover with white wine vinegar and a few pinches of cane sugar and salt zDOT  Chill for at least  zNUM hour or overnight zDOT  Store any extra in the fridge  they'll be good for at least a few weeks zDOT    \n",
       "17                                                                                                                                                                                                                                                                                                 zNUM   zNUM pound  cauliflower head  broken into a few large pieces   \n",
       "18                                                                                                                                                                                           zNUM   zNUM ounce  package of dark   zNUM  cacao  chocolate chips  or chopped semi sweet baking chocolate  I enjoy the Sunspire brand  which is vegan  zNUM  gluten free    \n",
       "19                                                                                                                                                                                                                                                                                                zNUM   zNUM ounce  can hearts of palm  slice into  zNUM  inch pieces   \n",
       "20                                                                                                                                                                                                                                                                                                                      zNUM   zNUM oz  package extra firm tofu  cubed   \n",
       "21                                                                                                                                                                                                                                                                                    zNUM   zNUM ounce   can whole artichoke hearts  drained  patted dry  and chopped   \n",
       "22                                                                                                                                                                                                                                                                                           zNUM   zNUM ounce  can artichoke hearts  drained and sliced into quarters   \n",
       "23                                                                                                                                                                                                                                                                                                              zNUM   zNUM ounce  can black beans  drained and rinsed   \n",
       "24                                                                                                                                                                                                                                                                                                 zNUM   zNUM ounce  can coconut milk  reserve  zNUM  cup for garnish   \n",
       "25                                                                                                                                                                                                                                                                                                                  zNUM   zNUM ounce  can diced fire roasted tomatoes   \n",
       "26                                                                                                                                                                                                                                                                                                                        zNUM   zNUM ounce  can full fat coconut milk   \n",
       "27                                                                                                                                                                                                                                                                                                                        zNUM   zNUM ounce  can full fat coconut milk   \n",
       "28                                                                                                                                                                                                                                                                                           zNUM   zNUM ounce  can light coconut milk  reserve  zNUM  cup for garnish   \n",
       "29                                                                                                                                                                                                                                                                                                                                zNUM   zNUM ounce  can refried beans   \n",
       "30                                                                                                                                                                                                                                                                                                                          zNUM   zNUM ounce  can refried black beans   \n",
       "31                                                                                                                                                                                                                                                                                                         zNUM   zNUM ounce  can refried pinto beans zNUM   see note    \n",
       "32                                                                                                                                                                                                                                                                                                              zNUM   zNUM ounce  package extra firm tofu  see notes    \n",
       "33                                                                                                                                                                                                                                                                                                                                  zNUM   zNUM oz  can diced tomatoes   \n",
       "34                                                                                                                                                                                                                                                                                                                zNUM   zNUM ounce  can chickpeas  drained and rinsed   \n",
       "35                                                                                                                                                                                                                                                                                                              zNUM   zNUM ounce  container whole milk ricotta cheese   \n",
       "36                                                                                                                                                                                                                                                                                                                zNUM   zNUM ounce  can Jackfruit  cored and shredded   \n",
       "37                                                                                                                                                                                                                                                                                               zNUM   zNUM ounce  can whole tomatoes  San Marzano  preferably  zNUM    \n",
       "38                                                                                                                                                                                                                                                                                                                 zNUM   zNUM pound  pumpkin  kabocha squash is best    \n",
       "39                                                                                                                                                                                                                                                                                              zNUM   zNUM ounce  box Annie zNUM s Four Cheese Macaroni  zNUM  Cheese   \n",
       "40                                                                                                                                                                                                                                                                                                    zNUM   zNUM mL  bottle Barefoot Bubbly Brut Cuv zNUM e Champagne   \n",
       "41                                                                                                                                                                                                                                                                                                                 zNUM   zNUM ml  bottle dry red wine  such as merlot   \n",
       "42                                                                                                                                                                                                                                                                                                     zNUM   zNUM ml  bottle of Champagne  prosecco  or cava  chilled   \n",
       "43                                                                                                                                                                                                                                                                                                                              zNUM   zNUM ounce  brie wheel  chilled   \n",
       "44                                                                                                                                                                                                                                                                                                                   zNUM   zNUM ounce   ball fresh mozzarella  sliced   \n",
       "45                                                                                                                                                                                                                                                                                                       zNUM   zNUM ounce  ball fresh mozzarella  not packed in water   \n",
       "46                                                                                                                                                                                                                                                                                                                                   zNUM   zNUM ounce  package tempeh   \n",
       "47                                                                                                                                                                                                                                                                                                 zNUM  approx zDOT   zNUM oz zDOT   ball of store bought pizza dough   \n",
       "48                                                                                                                                                                                                                                                                                                                        zNUM   zNUM  ounce  package active dry yeast   \n",
       "49                                                                                                                                                                                                                                                                                                     zNUM   zNUM  ounce  package active dry yeast    zNUM teaspoons    \n",
       "\n",
       "   label  sent_count  num_count  \n",
       "0      0           1          0  \n",
       "1      0           2          2  \n",
       "2      0           1          0  \n",
       "3      0           1          0  \n",
       "4      0           1          0  \n",
       "5      0           4          0  \n",
       "6      0           2          0  \n",
       "7      1           1          1  \n",
       "8      1           1          3  \n",
       "9      1           1          0  \n",
       "10     1           1          0  \n",
       "11     1           1          0  \n",
       "12     1           1          1  \n",
       "13     1           1          0  \n",
       "14     1           1          0  \n",
       "15     0           6          5  \n",
       "16     0           5          2  \n",
       "17     1           1          2  \n",
       "18     1           1          4  \n",
       "19     1           1          3  \n",
       "20     1           1          2  \n",
       "21     1           1          2  \n",
       "22     1           1          2  \n",
       "23     1           1          2  \n",
       "24     1           1          3  \n",
       "25     1           1          2  \n",
       "26     1           1          2  \n",
       "27     1           1          2  \n",
       "28     1           1          3  \n",
       "29     1           1          2  \n",
       "30     1           1          2  \n",
       "31     1           1          3  \n",
       "32     1           1          2  \n",
       "33     1           1          2  \n",
       "34     1           1          2  \n",
       "35     1           1          2  \n",
       "36     1           1          2  \n",
       "37     1           1          3  \n",
       "38     1           1          2  \n",
       "39     1           1          4  \n",
       "40     1           1          3  \n",
       "41     1           1          2  \n",
       "42     1           1          2  \n",
       "43     1           1          2  \n",
       "44     1           1          2  \n",
       "45     1           1          2  \n",
       "46     1           1          2  \n",
       "47     1           2          2  \n",
       "48     1           1          2  \n",
       "49     1           1          3  "
      ]
     },
     "execution_count": 4,
     "metadata": {},
     "output_type": "execute_result"
    }
   ],
   "source": [
    "def count_paragraph_stats(series):\n",
    "    \"\"\"Count number of sentences in the paragraph\n",
    "        :param series: pandas series of text strings\n",
    "        :return: int count of sentences in the string (if no dots -> count = 1)\"\"\"\n",
    "    sent_count = series.count(' zDOT ')\n",
    "    if sent_count == 0:\n",
    "        sent_count = 1\n",
    "    return sent_count\n",
    "\n",
    "def num_count(series):\n",
    "    \"\"\"Count number of sentences in the paragraph\n",
    "        :param series: pandas series of text strings\n",
    "        :return: int count of sentences in the string\"\"\"\n",
    "    return series.count('zNUM') \n",
    "\n",
    "data['sent_count'] = data['paragraph'].apply(count_paragraph_stats)\n",
    "data['num_count'] = data['paragraph'].apply(num_count)\n",
    "data.head(50)"
   ]
  },
  {
   "cell_type": "markdown",
   "metadata": {},
   "source": [
    "##### Count words with stopwords and symbols"
   ]
  },
  {
   "cell_type": "code",
   "execution_count": null,
   "metadata": {},
   "outputs": [
    {
     "name": "stderr",
     "output_type": "stream",
     "text": [
      "ERROR: Exception:\n",
      "Traceback (most recent call last):\n",
      "  File \"C:\\Users\\galin\\Anaconda3\\lib\\site-packages\\pip\\_vendor\\urllib3\\response.py\", line 438, in _error_catcher\n",
      "    yield\n",
      "  File \"C:\\Users\\galin\\Anaconda3\\lib\\site-packages\\pip\\_vendor\\urllib3\\response.py\", line 519, in read\n",
      "    data = self._fp.read(amt) if not fp_closed else b\"\"\n",
      "  File \"C:\\Users\\galin\\Anaconda3\\lib\\site-packages\\pip\\_vendor\\cachecontrol\\filewrapper.py\", line 62, in read\n",
      "    data = self.__fp.read(amt)\n",
      "  File \"C:\\Users\\galin\\Anaconda3\\lib\\http\\client.py\", line 458, in read\n",
      "    n = self.readinto(b)\n",
      "  File \"C:\\Users\\galin\\Anaconda3\\lib\\http\\client.py\", line 502, in readinto\n",
      "    n = self.fp.readinto(b)\n",
      "  File \"C:\\Users\\galin\\Anaconda3\\lib\\socket.py\", line 669, in readinto\n",
      "    return self._sock.recv_into(b)\n",
      "  File \"C:\\Users\\galin\\Anaconda3\\lib\\ssl.py\", line 1241, in recv_into\n",
      "    return self.read(nbytes, buffer)\n",
      "  File \"C:\\Users\\galin\\Anaconda3\\lib\\ssl.py\", line 1099, in read\n",
      "    return self._sslobj.read(len, buffer)\n",
      "socket.timeout: The read operation timed out\n",
      "\n",
      "During handling of the above exception, another exception occurred:\n",
      "\n",
      "Traceback (most recent call last):\n",
      "  File \"C:\\Users\\galin\\Anaconda3\\lib\\site-packages\\pip\\_internal\\cli\\base_command.py\", line 224, in _main\n",
      "    status = self.run(options, args)\n",
      "  File \"C:\\Users\\galin\\Anaconda3\\lib\\site-packages\\pip\\_internal\\cli\\req_command.py\", line 180, in wrapper\n",
      "    return func(self, options, args)\n",
      "  File \"C:\\Users\\galin\\Anaconda3\\lib\\site-packages\\pip\\_internal\\commands\\install.py\", line 320, in run\n",
      "    requirement_set = resolver.resolve(\n",
      "  File \"C:\\Users\\galin\\Anaconda3\\lib\\site-packages\\pip\\_internal\\resolution\\resolvelib\\resolver.py\", line 121, in resolve\n",
      "    self._result = resolver.resolve(\n",
      "  File \"C:\\Users\\galin\\Anaconda3\\lib\\site-packages\\pip\\_vendor\\resolvelib\\resolvers.py\", line 445, in resolve\n",
      "    state = resolution.resolve(requirements, max_rounds=max_rounds)\n",
      "  File \"C:\\Users\\galin\\Anaconda3\\lib\\site-packages\\pip\\_vendor\\resolvelib\\resolvers.py\", line 339, in resolve\n",
      "    failure_causes = self._attempt_to_pin_criterion(name, criterion)\n",
      "  File \"C:\\Users\\galin\\Anaconda3\\lib\\site-packages\\pip\\_vendor\\resolvelib\\resolvers.py\", line 207, in _attempt_to_pin_criterion\n",
      "    criteria = self._get_criteria_to_update(candidate)\n",
      "  File \"C:\\Users\\galin\\Anaconda3\\lib\\site-packages\\pip\\_vendor\\resolvelib\\resolvers.py\", line 198, in _get_criteria_to_update\n",
      "    for r in self._p.get_dependencies(candidate):\n",
      "  File \"C:\\Users\\galin\\Anaconda3\\lib\\site-packages\\pip\\_internal\\resolution\\resolvelib\\provider.py\", line 170, in get_dependencies\n",
      "    return [\n",
      "  File \"C:\\Users\\galin\\Anaconda3\\lib\\site-packages\\pip\\_internal\\resolution\\resolvelib\\provider.py\", line 170, in <listcomp>\n",
      "    return [\n",
      "  File \"C:\\Users\\galin\\Anaconda3\\lib\\site-packages\\pip\\_internal\\resolution\\resolvelib\\candidates.py\", line 257, in iter_dependencies\n",
      "    requires = self.dist.requires() if with_requires else ()\n",
      "  File \"C:\\Users\\galin\\Anaconda3\\lib\\site-packages\\pip\\_internal\\resolution\\resolvelib\\candidates.py\", line 239, in dist\n",
      "    self._prepare()\n",
      "  File \"C:\\Users\\galin\\Anaconda3\\lib\\site-packages\\pip\\_internal\\resolution\\resolvelib\\candidates.py\", line 226, in _prepare\n",
      "    dist = self._prepare_distribution()\n",
      "  File \"C:\\Users\\galin\\Anaconda3\\lib\\site-packages\\pip\\_internal\\resolution\\resolvelib\\candidates.py\", line 318, in _prepare_distribution\n",
      "    return self._factory.preparer.prepare_linked_requirement(\n",
      "  File \"C:\\Users\\galin\\Anaconda3\\lib\\site-packages\\pip\\_internal\\operations\\prepare.py\", line 480, in prepare_linked_requirement\n",
      "    return self._prepare_linked_requirement(req, parallel_builds)\n",
      "  File \"C:\\Users\\galin\\Anaconda3\\lib\\site-packages\\pip\\_internal\\operations\\prepare.py\", line 503, in _prepare_linked_requirement\n",
      "    local_file = unpack_url(\n",
      "  File \"C:\\Users\\galin\\Anaconda3\\lib\\site-packages\\pip\\_internal\\operations\\prepare.py\", line 253, in unpack_url\n",
      "    file = get_http_url(\n",
      "  File \"C:\\Users\\galin\\Anaconda3\\lib\\site-packages\\pip\\_internal\\operations\\prepare.py\", line 130, in get_http_url\n",
      "    from_path, content_type = download(link, temp_dir.path)\n",
      "  File \"C:\\Users\\galin\\Anaconda3\\lib\\site-packages\\pip\\_internal\\network\\download.py\", line 163, in __call__\n",
      "    for chunk in chunks:\n",
      "  File \"C:\\Users\\galin\\Anaconda3\\lib\\site-packages\\pip\\_internal\\cli\\progress_bars.py\", line 168, in iter\n",
      "    for x in it:\n",
      "  File \"C:\\Users\\galin\\Anaconda3\\lib\\site-packages\\pip\\_internal\\network\\utils.py\", line 64, in response_chunks\n",
      "    for chunk in response.raw.stream(\n",
      "  File \"C:\\Users\\galin\\Anaconda3\\lib\\site-packages\\pip\\_vendor\\urllib3\\response.py\", line 576, in stream\n",
      "    data = self.read(amt=amt, decode_content=decode_content)\n",
      "  File \"C:\\Users\\galin\\Anaconda3\\lib\\site-packages\\pip\\_vendor\\urllib3\\response.py\", line 541, in read\n",
      "    raise IncompleteRead(self._fp_bytes_read, self.length_remaining)\n",
      "  File \"C:\\Users\\galin\\Anaconda3\\lib\\contextlib.py\", line 131, in __exit__\n",
      "    self.gen.throw(type, value, traceback)\n",
      "  File \"C:\\Users\\galin\\Anaconda3\\lib\\site-packages\\pip\\_vendor\\urllib3\\response.py\", line 443, in _error_catcher\n",
      "    raise ReadTimeoutError(self._pool, None, \"Read timed out.\")\n",
      "pip._vendor.urllib3.exceptions.ReadTimeoutError: HTTPSConnectionPool(host='files.pythonhosted.org', port=443): Read timed out.\n"
     ]
    },
    {
     "name": "stdout",
     "output_type": "stream",
     "text": [
      "Collecting spacy\n",
      "  Downloading spacy-2.3.5-cp38-cp38-win_amd64.whl (9.7 MB)\n"
     ]
    }
   ],
   "source": [
    "!pip install -U spacy\n",
    "# !pip install -U spacy[cuda92]\n",
    "\n",
    "# import spacy\n",
    "# ! python -m spacy download en"
   ]
  },
  {
   "cell_type": "code",
   "execution_count": 3,
   "metadata": {
    "scrolled": false
   },
   "outputs": [
    {
     "ename": "ModuleNotFoundError",
     "evalue": "No module named 'spacy'",
     "output_type": "error",
     "traceback": [
      "\u001b[1;31m---------------------------------------------------------------------------\u001b[0m",
      "\u001b[1;31mModuleNotFoundError\u001b[0m                       Traceback (most recent call last)",
      "\u001b[1;32m<ipython-input-3-b5ad3ea8f73f>\u001b[0m in \u001b[0;36m<module>\u001b[1;34m\u001b[0m\n\u001b[1;32m----> 1\u001b[1;33m \u001b[1;32mfrom\u001b[0m \u001b[0mspacy\u001b[0m\u001b[1;33m.\u001b[0m\u001b[0mlang\u001b[0m\u001b[1;33m.\u001b[0m\u001b[0men\u001b[0m \u001b[1;32mimport\u001b[0m \u001b[0mEnglish\u001b[0m\u001b[1;33m\u001b[0m\u001b[1;33m\u001b[0m\u001b[0m\n\u001b[0m\u001b[0;32m      2\u001b[0m \u001b[1;32mfrom\u001b[0m \u001b[0mspacy\u001b[0m\u001b[1;33m.\u001b[0m\u001b[0mlanguage\u001b[0m \u001b[1;32mimport\u001b[0m \u001b[0mLanguage\u001b[0m\u001b[1;33m\u001b[0m\u001b[1;33m\u001b[0m\u001b[0m\n\u001b[0;32m      3\u001b[0m \u001b[1;32mfrom\u001b[0m \u001b[0mspacy\u001b[0m\u001b[1;33m.\u001b[0m\u001b[0mtokenizer\u001b[0m \u001b[1;32mimport\u001b[0m \u001b[0mTokenizer\u001b[0m\u001b[1;33m\u001b[0m\u001b[1;33m\u001b[0m\u001b[0m\n\u001b[0;32m      4\u001b[0m \u001b[1;32mfrom\u001b[0m \u001b[0mspacy\u001b[0m\u001b[1;33m.\u001b[0m\u001b[0mtokens\u001b[0m \u001b[1;32mimport\u001b[0m \u001b[0mDoc\u001b[0m\u001b[1;33m,\u001b[0m \u001b[0mToken\u001b[0m\u001b[1;33m\u001b[0m\u001b[1;33m\u001b[0m\u001b[0m\n\u001b[0;32m      5\u001b[0m \u001b[1;32mimport\u001b[0m \u001b[0mutils\u001b[0m\u001b[1;33m\u001b[0m\u001b[1;33m\u001b[0m\u001b[0m\n",
      "\u001b[1;31mModuleNotFoundError\u001b[0m: No module named 'spacy'"
     ]
    }
   ],
   "source": [
    "from spacy.lang.en import English\n",
    "from spacy.language import Language\n",
    "from spacy.tokenizer import Tokenizer\n",
    "from spacy.tokens import Doc, Token\n",
    "import utils\n",
    "from utils.pipeline import Pipeline\n",
    "from nlp.stop_words import STOP_WORDS, QUESTION_WORDS"
   ]
  },
  {
   "cell_type": "code",
   "execution_count": null,
   "metadata": {},
   "outputs": [],
   "source": []
  }
 ],
 "metadata": {
  "kernelspec": {
   "display_name": "Python 3",
   "language": "python",
   "name": "python3"
  },
  "language_info": {
   "codemirror_mode": {
    "name": "ipython",
    "version": 3
   },
   "file_extension": ".py",
   "mimetype": "text/x-python",
   "name": "python",
   "nbconvert_exporter": "python",
   "pygments_lexer": "ipython3",
   "version": "3.6.10"
  }
 },
 "nbformat": 4,
 "nbformat_minor": 4
}
