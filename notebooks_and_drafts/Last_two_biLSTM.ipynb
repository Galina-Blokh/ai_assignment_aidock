{
  "nbformat": 4,
  "nbformat_minor": 0,
  "metadata": {
    "kernelspec": {
      "display_name": "Python 3",
      "language": "python",
      "name": "python3"
    },
    "language_info": {
      "codemirror_mode": {
        "name": "ipython",
        "version": 3
      },
      "file_extension": ".py",
      "mimetype": "text/x-python",
      "name": "python",
      "nbconvert_exporter": "python",
      "pygments_lexer": "ipython3",
      "version": "3.8.5"
    },
    "colab": {
      "name": "Copy of biLSTM.ipynb",
      "provenance": [],
      "collapsed_sections": []
    },
    "accelerator": "GPU"
  },
  "cells": [
    {
      "cell_type": "code",
      "metadata": {
        "id": "YnWcbPXH07Tl"
      },
      "source": [
        "import tensorflow as tf\n",
        "from tensorflow.keras.preprocessing.sequence import pad_sequences\n",
        "from tensorflow.keras.layers import Input,Dense, Dropout, LSTM, Embedding, Bidirectional\n",
        "from tensorflow.keras.models import Sequential\n",
        "from tensorflow.keras import Model\n",
        "from tensorflow.keras.preprocessing.text import Tokenizer\n",
        "from tensorflow.keras.preprocessing.sequence import pad_sequences\n",
        "from tensorflow.keras.utils import to_categorical\n",
        "from tensorflow.keras.callbacks import TensorBoard\n",
        "import numpy as np\n",
        "import pickle\n",
        "import random\n",
        "import os\n",
        "import pandas as pd\n",
        "import re\n",
        "pd.set_option('display.max_colwidth', None)"
      ],
      "execution_count": 1,
      "outputs": []
    },
    {
      "cell_type": "code",
      "metadata": {
        "colab": {
          "base_uri": "https://localhost:8080/"
        },
        "id": "GTY7-iLd1LRo",
        "outputId": "aac0216d-139f-4bf9-9fdf-e01007121fad"
      },
      "source": [
        "from google.colab import drive\n",
        "drive.mount('/content/drive')"
      ],
      "execution_count": 2,
      "outputs": [
        {
          "output_type": "stream",
          "text": [
            "Drive already mounted at /content/drive; to attempt to forcibly remount, call drive.mount(\"/content/drive\", force_remount=True).\n"
          ],
          "name": "stdout"
        }
      ]
    },
    {
      "cell_type": "markdown",
      "metadata": {
        "id": "PTd5uvNPh4Am"
      },
      "source": [
        "##Load the data"
      ]
    },
    {
      "cell_type": "code",
      "metadata": {
        "colab": {
          "base_uri": "https://localhost:8080/"
        },
        "id": "x-DL99uT07U2",
        "outputId": "4e311053-a5ad-4991-ffe1-074521944b99"
      },
      "source": [
        "train = pd.read_pickle('/content/drive/MyDrive/ai_assignment_aidock/data/new_train_data_clean.pkl')\n",
        "round(train['label'].value_counts()/len(train)*100,2)"
      ],
      "execution_count": 3,
      "outputs": [
        {
          "output_type": "execute_result",
          "data": {
            "text/plain": [
              "0    79.63\n",
              "1    20.37\n",
              "Name: label, dtype: float64"
            ]
          },
          "metadata": {
            "tags": []
          },
          "execution_count": 3
        }
      ]
    },
    {
      "cell_type": "code",
      "metadata": {
        "colab": {
          "base_uri": "https://localhost:8080/"
        },
        "id": "fPY_G8bM07U9",
        "outputId": "20544a5a-876d-4841-8260-a88cff02aac8"
      },
      "source": [
        "\n",
        "test = pd.read_pickle('/content/drive/MyDrive/ai_assignment_aidock/data/new_test_data_clean.pkl')\n",
        "round(test['label'].value_counts()/len(test)*100,2)"
      ],
      "execution_count": 4,
      "outputs": [
        {
          "output_type": "execute_result",
          "data": {
            "text/plain": [
              "0    79.65\n",
              "1    20.35\n",
              "Name: label, dtype: float64"
            ]
          },
          "metadata": {
            "tags": []
          },
          "execution_count": 4
        }
      ]
    },
    {
      "cell_type": "code",
      "metadata": {
        "id": "Q5jJmYr_07VC"
      },
      "source": [
        "#Sentences array for train and test sets + target variable for train and test\n",
        "text_train = train['remove_stop_words']\n",
        "y_train = train['label']\n",
        "\n",
        "text_test = test['remove_stop_words']\n",
        "y_test = test['label']\n"
      ],
      "execution_count": 5,
      "outputs": []
    },
    {
      "cell_type": "markdown",
      "metadata": {
        "id": "rvqPd6xehj5o"
      },
      "source": [
        "##Count hyper parameters"
      ]
    },
    {
      "cell_type": "code",
      "metadata": {
        "colab": {
          "base_uri": "https://localhost:8080/"
        },
        "id": "Flq1anA607VE",
        "outputId": "662f487f-0338-4d08-f15f-6b867c9476df"
      },
      "source": [
        "#vocab_size count\n",
        "results = set()\n",
        "train.remove_stop_words.str.split().apply(results.update)\n",
        "vocab_size = len(results)\n",
        "vocab_size"
      ],
      "execution_count": 6,
      "outputs": [
        {
          "output_type": "execute_result",
          "data": {
            "text/plain": [
              "2474"
            ]
          },
          "metadata": {
            "tags": []
          },
          "execution_count": 6
        }
      ]
    },
    {
      "cell_type": "code",
      "metadata": {
        "colab": {
          "base_uri": "https://localhost:8080/"
        },
        "id": "R9NpYmhP07VH",
        "outputId": "07db1fef-3a5b-452d-c661-75695aaa9197"
      },
      "source": [
        "maxSequenceLength_train = train['clean_paragraph_len'].max()\n",
        "maxSequenceLength_test = test['clean_paragraph_len'].max()\n",
        "maxSequenceLength_test, maxSequenceLength_train #(81, 121),"
      ],
      "execution_count": 7,
      "outputs": [
        {
          "output_type": "execute_result",
          "data": {
            "text/plain": [
              "(217, 217)"
            ]
          },
          "metadata": {
            "tags": []
          },
          "execution_count": 7
        }
      ]
    },
    {
      "cell_type": "markdown",
      "metadata": {
        "id": "Hdd0AmCehcvz"
      },
      "source": [
        "##Prepare sequence and additional features\n",
        "\n",
        "###First, commented cell makes simple sent2vec. Second, not commented cell makes TFIDF sequences vectors"
      ]
    },
    {
      "cell_type": "code",
      "metadata": {
        "id": "SQI8fhWm07VK"
      },
      "source": [
        "# def sent2vec(texts, max_sequence_length,vocab_size):\n",
        "#     \"\"\" Create a union train set vocabulary and turn text in set\n",
        "#     into  padded sequences (word --> num )\n",
        "#     :param texts: series of prepared strings\n",
        "#            max_sequence_length: int max len of sentence in series\n",
        "#     :return ndArray with transformed series of text to int\n",
        "#             with 0-padding up to max_sequence_length\"\"\"\n",
        "        \n",
        "#     tokenizer = Tokenizer(num_words=vocab_size)\n",
        "#     tokenizer.fit_on_texts(texts)\n",
        "# #     print('vocab len',vocab_size,len(tokenizer.word_index))\n",
        "    \n",
        "#     # Turn text into  padded sequences (word --> num )\n",
        "#     text_sequences = tokenizer.texts_to_sequences(texts)\n",
        "#     return pad_sequences(text_sequences, maxlen=max_sequence_length,\n",
        "#                          dtype=\"int32\", padding=\"post\", value=0)\n",
        "    \n",
        "    "
      ],
      "execution_count": 8,
      "outputs": []
    },
    {
      "cell_type": "code",
      "metadata": {
        "id": "s26Dbrv-ho4K"
      },
      "source": [
        "def tfidf(texts,vocab_size):\n",
        "    \"\"\" Create a union train set vocabulary and turn text in set\n",
        "    into  padded sequences (word --> num )\n",
        "    :param texts: series of prepared strings\n",
        "           max_sequence_length: int max len of sentence in series\n",
        "    :return ndArray with transformed series of text to int\n",
        "            with 0-padding up to max_sequence_length\"\"\"\n",
        "        \n",
        "    tokenizer = Tokenizer(num_words=vocab_size)\n",
        "    tokenizer.fit_on_texts(texts)\n",
        "#     print('vocab len',vocab_size,len(tokenizer.word_index))\n",
        "    \n",
        "    # Turn text into  padded sequences (word --> num )\n",
        "    text_sequences = tokenizer.texts_to_sequences(texts)\n",
        "    \n",
        "    return tokenizer.sequences_to_matrix(text_sequences, mode='tfidf')\n",
        "\n"
      ],
      "execution_count": 9,
      "outputs": []
    },
    {
      "cell_type": "code",
      "metadata": {
        "id": "pzNs-crw07VR"
      },
      "source": [
        "#for test nlp\n",
        "# sent2vec_test = sent2vec(text_test, maxSequenceLength_train,vocab_size)\n",
        "\n",
        "# index_max_len_sent = train[train['clean_paragraph_len'] == maxSequenceLength_train].index \n",
        "# sent2vec_train[index_max_len_sent]\n",
        "X_meta_test = test[['sent_count','num_count','clean_paragraph_len','verb_count','contains_pron']]\n",
        "# sent2vec_test.shape, X_meta_test.shape"
      ],
      "execution_count": 10,
      "outputs": []
    },
    {
      "cell_type": "code",
      "metadata": {
        "id": "2TPvPDaj07VO"
      },
      "source": [
        "#for train nlp\n",
        "# sent2vec_train = sent2vec(text_train, maxSequenceLength_train,vocab_size)\n",
        "\n",
        "# index_max_len_sent = train[train['clean_paragraph_len'] == maxSequenceLength_train].index \n",
        "# sent2vec_train[index_max_len_sent]\n",
        "X_meta_train = train[['sent_count','num_count','clean_paragraph_len','verb_count','contains_pron']]\n",
        "# sent2vec_train.shape, X_meta_train.shape\n",
        "\n",
        "embedding_dimensions = 32\n",
        "BATCH_SIZE= 32 \n",
        "EPOCHS=200\n",
        "THRESHOLD=0.5"
      ],
      "execution_count": 11,
      "outputs": []
    },
    {
      "cell_type": "code",
      "metadata": {
        "id": "lL0RvYtQifFF"
      },
      "source": [
        "# sent2vec_train.shape, X_meta_train.shape"
      ],
      "execution_count": 12,
      "outputs": []
    },
    {
      "cell_type": "code",
      "metadata": {
        "id": "fFsg5CPDh3X6"
      },
      "source": [
        "tf_idf_train = tfidf(text_train,vocab_size)\n",
        "tf_idf_test = tfidf(text_test,vocab_size)"
      ],
      "execution_count": 13,
      "outputs": []
    },
    {
      "cell_type": "code",
      "metadata": {
        "colab": {
          "base_uri": "https://localhost:8080/"
        },
        "id": "pkptGB_BiUD4",
        "outputId": "15a6e85d-9b18-437a-b6c5-736017e52c20"
      },
      "source": [
        "tf_idf_train.shape, tf_idf_test.shape"
      ],
      "execution_count": 14,
      "outputs": [
        {
          "output_type": "execute_result",
          "data": {
            "text/plain": [
              "((3898, 2474), (973, 2474))"
            ]
          },
          "metadata": {
            "tags": []
          },
          "execution_count": 14
        }
      ]
    },
    {
      "cell_type": "markdown",
      "metadata": {
        "id": "38vs67n4hOtc"
      },
      "source": [
        "## Create the model"
      ]
    },
    {
      "cell_type": "code",
      "metadata": {
        "id": "8fhA5vD707VT"
      },
      "source": [
        "from tensorflow.keras import regularizers\n",
        "\n",
        "def get_model1(tf_idf_train,X_meta_train, results,embedding_dimensions):\n",
        "    \n",
        "    # nlp_input = Input(shape=(sent2vec_train.shape[1],)) \n",
        "\n",
        "    tf_idf_input = Input(shape=(tf_idf_train.shape[1],))\n",
        "\n",
        "    meta_input = Input(shape=(X_meta_train.shape[1],))\n",
        "\n",
        "    # emb1 = Embedding(output_dim=embedding_dimensions, \n",
        "    #                 input_dim=len(results) + 1, \n",
        "    #                 input_length=sent2vec_train.shape[1],\n",
        "    #                 mask_zero=True)(nlp_input)  # Use masking to handle the variable sequence lengths\n",
        "\n",
        "    emb2 = Embedding(output_dim=embedding_dimensions, \n",
        "                        input_dim=len(results) + 1, \n",
        "                        input_length=tf_idf_train.shape[1],\n",
        "                        mask_zero=True)(tf_idf_input)  # Use masking to handle the variable sequence lengths\n",
        "\n",
        "    # emb_concat =  tf.concat([emb1, emb2], axis=0)    \n",
        "\n",
        "    nlp_out = Bidirectional(LSTM(64))(emb2) #\n",
        "\n",
        "    concat = tf.concat([nlp_out, meta_input], axis=1) \n",
        "    concat = tf.expand_dims(concat, axis=-1)\n",
        "\n",
        "    concat_lstm = Bidirectional(LSTM(64))(concat)\n",
        "\n",
        "    classifier = Dense(32,activation='relu')(concat_lstm) \n",
        "\n",
        "    drop = Dropout(0.2)(classifier) #0.1 to avoid overfit\n",
        "\n",
        "\n",
        "    output = Dense(1, activation='sigmoid')(drop) \n",
        "\n",
        "    model = Model(inputs=[tf_idf_input , meta_input], outputs=[output])\n",
        "\n",
        "    \n",
        "    return model"
      ],
      "execution_count": 15,
      "outputs": []
    },
    {
      "cell_type": "code",
      "metadata": {
        "id": "lrp93s4n07VY"
      },
      "source": [
        "concat_lstm = get_model1(tf_idf_train,X_meta_train, results,embedding_dimensions)"
      ],
      "execution_count": 16,
      "outputs": []
    },
    {
      "cell_type": "markdown",
      "metadata": {
        "id": "Xw1s7XZEUFOh"
      },
      "source": [
        "## Model summary"
      ]
    },
    {
      "cell_type": "code",
      "metadata": {
        "scrolled": false,
        "colab": {
          "base_uri": "https://localhost:8080/"
        },
        "id": "XG3IP83s07Va",
        "outputId": "e2b6331d-dd34-442f-94c3-039f705b5ef6"
      },
      "source": [
        "concat_lstm.summary()"
      ],
      "execution_count": 17,
      "outputs": [
        {
          "output_type": "stream",
          "text": [
            "Model: \"model\"\n",
            "__________________________________________________________________________________________________\n",
            "Layer (type)                    Output Shape         Param #     Connected to                     \n",
            "==================================================================================================\n",
            "input_1 (InputLayer)            [(None, 2474)]       0                                            \n",
            "__________________________________________________________________________________________________\n",
            "embedding (Embedding)           (None, 2474, 32)     79200       input_1[0][0]                    \n",
            "__________________________________________________________________________________________________\n",
            "bidirectional (Bidirectional)   (None, 128)          49664       embedding[0][0]                  \n",
            "__________________________________________________________________________________________________\n",
            "input_2 (InputLayer)            [(None, 5)]          0                                            \n",
            "__________________________________________________________________________________________________\n",
            "tf.concat (TFOpLambda)          (None, 133)          0           bidirectional[0][0]              \n",
            "                                                                 input_2[0][0]                    \n",
            "__________________________________________________________________________________________________\n",
            "tf.expand_dims (TFOpLambda)     (None, 133, 1)       0           tf.concat[0][0]                  \n",
            "__________________________________________________________________________________________________\n",
            "bidirectional_1 (Bidirectional) (None, 128)          33792       tf.expand_dims[0][0]             \n",
            "__________________________________________________________________________________________________\n",
            "dense (Dense)                   (None, 32)           4128        bidirectional_1[0][0]            \n",
            "__________________________________________________________________________________________________\n",
            "dropout (Dropout)               (None, 32)           0           dense[0][0]                      \n",
            "__________________________________________________________________________________________________\n",
            "dense_1 (Dense)                 (None, 1)            33          dropout[0][0]                    \n",
            "==================================================================================================\n",
            "Total params: 166,817\n",
            "Trainable params: 166,817\n",
            "Non-trainable params: 0\n",
            "__________________________________________________________________________________________________\n"
          ],
          "name": "stdout"
        }
      ]
    },
    {
      "cell_type": "markdown",
      "metadata": {
        "id": "94oqfEWTT0R8"
      },
      "source": [
        "## Build the model"
      ]
    },
    {
      "cell_type": "code",
      "metadata": {
        "id": "9mZh3qhE07Vc"
      },
      "source": [
        "concat_lstm.compile(optimizer='adam',\n",
        "                  loss='binary_crossentropy',\n",
        "                  metrics=[tf.keras.metrics.Recall(),\n",
        "                           tf.keras.metrics.Precision(),\n",
        "                           'accuracy',\n",
        "                           tf.keras.metrics.AUC()])"
      ],
      "execution_count": 18,
      "outputs": []
    },
    {
      "cell_type": "markdown",
      "metadata": {
        "id": "egIJ2g2wTjuF"
      },
      "source": [
        "## Train the model"
      ]
    },
    {
      "cell_type": "code",
      "metadata": {
        "colab": {
          "base_uri": "https://localhost:8080/"
        },
        "id": "Z-TGv_v907Ve",
        "outputId": "008f9205-b498-43d9-b205-b3d5dec2f973"
      },
      "source": [
        "es = tf.keras.callbacks.EarlyStopping(monitor='val_loss'\n",
        "          , mode='min')\n",
        "callbacks=[es]\n",
        "history = concat_lstm.fit([tf_idf_train,X_meta_train], y_train\n",
        "                    , batch_size=BATCH_SIZE\n",
        "                    , epochs=EPOCHS\n",
        "                    , validation_split=0.2\n",
        "                    , callbacks=callbacks)"
      ],
      "execution_count": 19,
      "outputs": [
        {
          "output_type": "stream",
          "text": [
            "Epoch 1/200\n",
            "98/98 [==============================] - 1112s 11s/step - loss: 0.5199 - recall: 0.0859 - precision: 0.2581 - accuracy: 0.7506 - auc: 0.5974 - val_loss: 0.2608 - val_recall: 0.7226 - val_precision: 0.9912 - val_accuracy: 0.9436 - val_auc: 0.9551\n",
            "Epoch 2/200\n",
            "98/98 [==============================] - 1168s 12s/step - loss: 0.2128 - recall: 0.7281 - precision: 0.9710 - accuracy: 0.9386 - auc: 0.9657 - val_loss: 0.1051 - val_recall: 0.8774 - val_precision: 0.9577 - val_accuracy: 0.9679 - val_auc: 0.9833\n",
            "Epoch 3/200\n",
            "98/98 [==============================] - 1082s 11s/step - loss: 0.1115 - recall: 0.8869 - precision: 0.9595 - accuracy: 0.9697 - auc: 0.9804 - val_loss: 0.0773 - val_recall: 0.9032 - val_precision: 0.9722 - val_accuracy: 0.9756 - val_auc: 0.9912\n",
            "Epoch 4/200\n",
            "98/98 [==============================] - 1102s 11s/step - loss: 0.0961 - recall: 0.9035 - precision: 0.9636 - accuracy: 0.9710 - auc: 0.9855 - val_loss: 0.0727 - val_recall: 0.9161 - val_precision: 0.9793 - val_accuracy: 0.9795 - val_auc: 0.9889\n",
            "Epoch 5/200\n",
            "98/98 [==============================] - 1089s 11s/step - loss: 0.0618 - recall: 0.9335 - precision: 0.9874 - accuracy: 0.9831 - auc: 0.9915 - val_loss: 0.0597 - val_recall: 0.9161 - val_precision: 0.9930 - val_accuracy: 0.9821 - val_auc: 0.9947\n",
            "Epoch 6/200\n",
            "98/98 [==============================] - 1095s 11s/step - loss: 0.0476 - recall: 0.9419 - precision: 0.9756 - accuracy: 0.9842 - auc: 0.9961 - val_loss: 0.0467 - val_recall: 0.9484 - val_precision: 0.9671 - val_accuracy: 0.9833 - val_auc: 0.9979\n",
            "Epoch 7/200\n",
            "98/98 [==============================] - 1109s 11s/step - loss: 0.0400 - recall: 0.9426 - precision: 0.9963 - accuracy: 0.9884 - auc: 0.9965 - val_loss: 0.0399 - val_recall: 0.9419 - val_precision: 0.9733 - val_accuracy: 0.9833 - val_auc: 0.9981\n",
            "Epoch 8/200\n",
            "98/98 [==============================] - 1080s 11s/step - loss: 0.0405 - recall: 0.9676 - precision: 0.9742 - accuracy: 0.9877 - auc: 0.9978 - val_loss: 0.0428 - val_recall: 0.9548 - val_precision: 0.9487 - val_accuracy: 0.9808 - val_auc: 0.9988\n"
          ],
          "name": "stdout"
        }
      ]
    },
    {
      "cell_type": "markdown",
      "metadata": {
        "id": "_1cy7mqnhFgI"
      },
      "source": [
        "##Evaluate the model"
      ]
    },
    {
      "cell_type": "code",
      "metadata": {
        "colab": {
          "base_uri": "https://localhost:8080/"
        },
        "id": "rOhTwg7607Vh",
        "outputId": "0b5a7871-e954-45fa-8f20-e530d8d1b00d"
      },
      "source": [
        "score = concat_lstm.evaluate([tf_idf_test,X_meta_test], y_test,\n",
        "                       batch_size=BATCH_SIZE, verbose=1)\n",
        "print()\n",
        "print('Model Loss score: {}'.format(score[0]))\n",
        "print('Model Recall class 1 Evaluation : {}'.format(score[1]))\n"
      ],
      "execution_count": 21,
      "outputs": [
        {
          "output_type": "stream",
          "text": [
            "31/31 [==============================] - 39s 1s/step - loss: 0.0381 - recall: 0.9798 - precision: 0.9510 - accuracy: 0.9856 - auc: 0.9992\n",
            "\n",
            "Model Loss score: 0.0381234809756279\n",
            "Model Recall class 1 Evaluation : 0.9797979593276978\n"
          ],
          "name": "stdout"
        }
      ]
    },
    {
      "cell_type": "code",
      "metadata": {
        "colab": {
          "base_uri": "https://localhost:8080/"
        },
        "id": "B5KJkQTaAGxe",
        "outputId": "e090029c-f883-4538-d51d-b3cdeed916d8"
      },
      "source": [
        "for i,j in zip(['Loss','Recall','Precision','Accuracy','AUC'],score):\n",
        "  print(i,j)"
      ],
      "execution_count": 22,
      "outputs": [
        {
          "output_type": "stream",
          "text": [
            "Loss 0.0381234809756279\n",
            "Recall 0.9797979593276978\n",
            "Precision 0.9509803652763367\n",
            "Accuracy 0.9856114983558655\n",
            "AUC 0.9991951584815979\n"
          ],
          "name": "stdout"
        }
      ]
    },
    {
      "cell_type": "markdown",
      "metadata": {
        "id": "A1BZFTGGgvLJ"
      },
      "source": [
        "##Plot the loss. (On the legend are loss and recall values)"
      ]
    },
    {
      "cell_type": "code",
      "metadata": {
        "colab": {
          "base_uri": "https://localhost:8080/",
          "height": 294
        },
        "id": "GW0L8V9r07Vi",
        "outputId": "8ef450d6-a56d-4e0a-bb60-1ed74a60b3b9"
      },
      "source": [
        "import matplotlib.pyplot as plt\n",
        "%matplotlib inline\n",
        "import warnings\n",
        "warnings.simplefilter(action='ignore')\n",
        "warnings.filterwarnings('ignore')\n",
        "\n",
        "#plot the accuracy \n",
        "plt.figure(figsize=(15,4))\n",
        "plt.plot(history.history['loss'], 'r', label=f'loss {round(score[0],2)}')\n",
        "plt.plot(history.history['val_loss'], 'g--', label=f'val_loss {round(score[1],2)}')\n",
        "plt.xlabel('Epoch')\n",
        "plt.ylabel('Loss')\n",
        "\n",
        "plt.title('The Loss vs val_Loss LSTM concat, activation = relu')\n",
        "plt.legend(loc='best');"
      ],
      "execution_count": 23,
      "outputs": [
        {
          "output_type": "display_data",
          "data": {
            "image/png": "[encoded data removed]",
            "text/plain": [
              "<Figure size 1080x288 with 1 Axes>"
            ]
          },
          "metadata": {
            "tags": [],
            "needs_background": "light"
          }
        }
      ]
    },
    {
      "cell_type": "markdown",
      "metadata": {
        "id": "hV5S5aMl07Vj"
      },
      "source": [
        "## Saving/restoring the model"
      ]
    },
    {
      "cell_type": "code",
      "metadata": {
        "id": "acm12uSK07Vp"
      },
      "source": [
        "concat_lstm.save('/content/drive/MyDrive/ai_assignment_aidock/data/my_model-1.h5')"
      ],
      "execution_count": 24,
      "outputs": []
    },
    {
      "cell_type": "code",
      "metadata": {
        "id": "UOXC5A2q07Vr"
      },
      "source": [
        "# new_model = tf.keras.models.load_model('/content/drive/MyDrive/ai_assignment_aidock/data/my_model-92-11-tfidf.h5')"
      ],
      "execution_count": 24,
      "outputs": []
    },
    {
      "cell_type": "code",
      "metadata": {
        "id": "9PNe9GRI07Vt"
      },
      "source": [
        "# new_model.summary()"
      ],
      "execution_count": 25,
      "outputs": []
    },
    {
      "cell_type": "markdown",
      "metadata": {
        "id": "lIGOacXI47Kg"
      },
      "source": [
        "## All in one cell\n",
        "\n",
        "### The code doesn't run on my laptop - not enough powers, only googlecollab\n",
        "\n",
        "\n",
        "### different in dropout layer: 0.3 in the model abow and  0.2 in the model below"
      ]
    },
    {
      "cell_type": "code",
      "metadata": {
        "id": "WV41owF607Vv",
        "colab": {
          "base_uri": "https://localhost:8080/",
          "height": 1000
        },
        "outputId": "95c2b758-0189-42d3-d593-2eb4b5be399f"
      },
      "source": [
        "import tensorflow\n",
        "import matplotlib.pyplot as plt\n",
        "import pandas as pd\n",
        "\n",
        "BATCH_SIZE = 64\n",
        "EPOCHS = 200 \n",
        "MODEL_NAME = '/content/drive/MyDrive/ai_assignment_aidock/data/my_model.h5'\n",
        "TRAIN_DATA_CLEAN = '/content/drive/MyDrive/ai_assignment_aidock/data/new_train_data_clean.pkl'\n",
        "TEST_DATA_CLEAN = '/content/drive/MyDrive/ai_assignment_aidock/data/new_test_data_clean.pkl'\n",
        "EMBEDDING_DIM = 64\n",
        "THRESHOLD=0.5\n",
        "\n",
        "def tfidf(texts, vocab_size):\n",
        "    \"\"\" Create a union train set vocabulary and turn text in set\n",
        "    into  padded sequences (word --> num )\n",
        "    :param texts: series of prepared strings\n",
        "           max_sequence_length: int max len of sentence in series\n",
        "    :return ndArray with transformed series of text to arrays of float Tf-IdF coefficients\"\"\"\n",
        "\n",
        "    tokenizer = Tokenizer(num_words=vocab_size)\n",
        "    tokenizer.fit_on_texts(texts)\n",
        "\n",
        "    # Turn text into  padded sequences (word --> num )\n",
        "    text_sequences = tokenizer.texts_to_sequences(texts)\n",
        "\n",
        "    return tokenizer.sequences_to_matrix(text_sequences, mode='tfidf')\n",
        "\n",
        "\n",
        "\n",
        "\n",
        "def get_model(tf_idf_train, X_meta_train, results,\n",
        "              embedding_dimensions=EMBEDDING_DIM):  # TODO move it into model_train.py\n",
        "    \"\"\"\n",
        "    The function creates the model for 2 different input data:\n",
        "    NLP set and additional features not NLP set\n",
        "    Layers: Embedding - TFIDF MATRIX Use masking to handle the variable sequence lengths,\n",
        "            BiLSTM, concatenation of 2 data types,\n",
        "            Dense/fully connected layer with activation function \"relu\",\n",
        "            Dropout layer to avoid overfitting,\n",
        "            Dense/fully connected layer with activation function \"sigmoid\"\n",
        "            All hyper-parameters as constants are in config.py\n",
        "    :params tf_idf_train: ndArray(ndArray(int)) - a set with tfidf vectors\n",
        "    :params X_meta_train: ndArray(int))- a set with non-nlp features\n",
        "    :params results: set{str} - word vocabulary of the train set (config.VOCAB_SIZE=2263)\n",
        "    :params embedding_dimensions:int hyper-parameter, can be done as = int(len(results)**0.25)\n",
        "    :return a model\n",
        "    \"\"\"\n",
        "    nlp_input = Input(shape=(tf_idf_train.shape[1],))\n",
        "\n",
        "    meta_input = Input(shape=(X_meta_train.shape[1],))\n",
        "\n",
        "    emb = Embedding(output_dim=embedding_dimensions,\n",
        "                    input_dim=len(results) + 1,\n",
        "                    input_length=tf_idf_train.shape[1],\n",
        "                    mask_zero=True)(nlp_input)\n",
        "\n",
        "    nlp_out = Bidirectional(LSTM(64))(emb)\n",
        "\n",
        "    concat = tensorflow.concat([nlp_out, meta_input], axis=1)\n",
        "\n",
        "    classifier = Dense(32, activation='relu')(concat)\n",
        "\n",
        "    drop = Dropout(0.1)(classifier)\n",
        "\n",
        "    output = Dense(1, activation='sigmoid')(drop)\n",
        "    model = Model(inputs=[nlp_input, meta_input], outputs=[output])\n",
        "\n",
        "    return model\n",
        "\n",
        "\n",
        "\n",
        "def model_train(train_data_clean_path= TRAIN_DATA_CLEAN, test_data_clean_path=TEST_DATA_CLEAN):\n",
        "    \"\"\"Read train and test data from pkl files\n",
        "            count max len sent/sequence\n",
        "            count vocabulary size\n",
        "            transform data into sequences\n",
        "            split data into nlp and meta sets for test and train\n",
        "            train the model, evaluate and plot loss vs val_loss\n",
        "            save the model into 'data/lstm_concat-86-85.h5' file\n",
        "    :param train_data_clean_path: str - default  config.TRAIN_DATA_CLEAN\n",
        "    :param test_data_clean_path: str - default config.TEST_DATA_CLEAN\n",
        "    :return void\n",
        "    \"\"\"\n",
        "\n",
        "    train_data_clean = pd.read_pickle(train_data_clean_path)\n",
        "    print(f'In train {round(train_data_clean.label.value_counts() / len(train_data_clean) * 100, 2)}')\n",
        "\n",
        "    test_data_clean = pd.read_pickle(test_data_clean_path)\n",
        "    print(f'In test {round(test_data_clean.label.value_counts() / len(test_data_clean) * 100, 2)}')\n",
        "\n",
        "    # max len sequence count will be constanta at the end  (it is 121 in train - we will use it)\n",
        "    max_sequence_length = train_data_clean['clean_paragraph_len'].max()\n",
        "    print(f'The max_sequence_len is {max_sequence_length}')\n",
        "    # vocab_size - count in train set\n",
        "    results = set()\n",
        "    train_data_clean.remove_stop_words.str.split().apply(results.update)\n",
        "    vocab_size = len(results)\n",
        "    print(f'The vocab_size is {vocab_size}')\n",
        "\n",
        "    # sent to sequence only for  NLP TRAIN\n",
        "    tf_idf_train = tfidf(train_data_clean.remove_stop_words, vocab_size)\n",
        "    # for other features train\n",
        "    X_meta_train = train_data_clean[['sent_count', 'num_count', 'clean_paragraph_len', 'verb_count','contains_pron']]\n",
        "    y_train = train_data_clean['label']\n",
        "\n",
        "    # for NLP TEST\n",
        "    tf_idf_test = tfidf(test_data_clean.remove_stop_words, vocab_size)\n",
        "    # for other features test\n",
        "    X_meta_test = test_data_clean[['sent_count', 'num_count', 'clean_paragraph_len', 'verb_count','contains_pron']]\n",
        "    y_test = test_data_clean['label']\n",
        "\n",
        "    # create and train the MODEL\n",
        "    model = get_model(tf_idf_train, X_meta_train, results)\n",
        "    model.compile(optimizer='adam',\n",
        "                          loss='binary_crossentropy',\n",
        "                          metrics=[tensorflow.keras.metrics.Recall(),\n",
        "                                   tensorflow.keras.metrics.Precision(),\n",
        "                                   'accuracy',\n",
        "                                   tensorflow.keras.metrics.AUC()])\n",
        "    es = tensorflow.keras.callbacks.EarlyStopping(monitor='val_loss')\n",
        "    print(model.summary())\n",
        "    history = model.fit([tf_idf_train, X_meta_train],\n",
        "                                y_train,\n",
        "                                batch_size=BATCH_SIZE,\n",
        "                                epochs=EPOCHS,\n",
        "                                validation_split=0.2,\n",
        "                                callbacks=[es])\n",
        "    # evaluate the model\n",
        "    score = model.evaluate([tf_idf_test, X_meta_test], y_test, batch_size=BATCH_SIZE, verbose=1)\n",
        "    print(f'Model Loss score: {round(score[0], 2)}')\n",
        "    print(f'Model Recall score: {round(score[1], 2)}')\n",
        "    print(f'Model Precision score: {round(score[2], 2)}')\n",
        "    print(f'Model Accuracy Evaluation : {round(score[3], 2)}')\n",
        "    print(f'Model AUC Evaluation : {round(score[4], 2)}')\n",
        "\n",
        "\n",
        "    # plot the loss\n",
        "    plt.figure(figsize=(15, 4))\n",
        "    plt.plot(history.history['loss'], 'r', label=f'loss  ')\n",
        "    plt.plot(history.history['val_loss'], 'g--', label=f'val_loss ')\n",
        "    plt.xlabel('Epoch')\n",
        "    plt.ylabel('Loss')\n",
        "    plt.title('The Loss vs val_Loss LSTM Concat, activation = relu')\n",
        "    plt.legend(loc='best')\n",
        "    plt.show()\n",
        "\n",
        "    model.save(MODEL_NAME)\n",
        "    print(f'The model is saved to {MODEL_NAME}')\n",
        "\n",
        "\n",
        "# if __name__ == '__main__':\n",
        "model_train()\n"
      ],
      "execution_count": 27,
      "outputs": [
        {
          "output_type": "stream",
          "text": [
            "In train 0    79.63\n",
            "1    20.37\n",
            "Name: label, dtype: float64\n",
            "In test 0    79.65\n",
            "1    20.35\n",
            "Name: label, dtype: float64\n",
            "The max_sequence_len is 217\n",
            "The vocab_size is 2474\n",
            "Epoch 1/200\n",
            "49/49 [==============================] - 580s 12s/step - loss: 0.5887 - recall_1: 0.5464 - precision_1: 0.4947 - accuracy: 0.7636 - auc_1: 0.7003 - val_loss: 0.1606 - val_recall_1: 0.8129 - val_precision_1: 0.9545 - val_accuracy: 0.9551 - val_auc_1: 0.9670\n",
            "Epoch 2/200\n",
            "49/49 [==============================] - 580s 12s/step - loss: 0.1958 - recall_1: 0.7395 - precision_1: 0.9245 - accuracy: 0.9343 - auc_1: 0.9464 - val_loss: 0.1275 - val_recall_1: 0.8065 - val_precision_1: 0.9766 - val_accuracy: 0.9577 - val_auc_1: 0.9789\n",
            "Epoch 3/200\n",
            "49/49 [==============================] - 571s 12s/step - loss: 0.1199 - recall_1: 0.8449 - precision_1: 0.9605 - accuracy: 0.9626 - auc_1: 0.9795 - val_loss: 0.1032 - val_recall_1: 0.8774 - val_precision_1: 0.9784 - val_accuracy: 0.9718 - val_auc_1: 0.9884\n",
            "Epoch 4/200\n",
            "49/49 [==============================] - 572s 12s/step - loss: 0.1151 - recall_1: 0.8549 - precision_1: 0.9628 - accuracy: 0.9613 - auc_1: 0.9872 - val_loss: 0.0949 - val_recall_1: 0.8774 - val_precision_1: 0.9927 - val_accuracy: 0.9744 - val_auc_1: 0.9878\n",
            "Epoch 5/200\n",
            "49/49 [==============================] - 574s 12s/step - loss: 0.0847 - recall_1: 0.8798 - precision_1: 0.9884 - accuracy: 0.9735 - auc_1: 0.9938 - val_loss: 0.0866 - val_recall_1: 0.9032 - val_precision_1: 0.9524 - val_accuracy: 0.9718 - val_auc_1: 0.9903\n",
            "Epoch 6/200\n",
            "49/49 [==============================] - 567s 12s/step - loss: 0.0814 - recall_1: 0.8812 - precision_1: 0.9799 - accuracy: 0.9720 - auc_1: 0.9934 - val_loss: 0.0781 - val_recall_1: 0.8968 - val_precision_1: 0.9586 - val_accuracy: 0.9718 - val_auc_1: 0.9925\n",
            "Epoch 7/200\n",
            "49/49 [==============================] - 563s 12s/step - loss: 0.0737 - recall_1: 0.9006 - precision_1: 0.9749 - accuracy: 0.9753 - auc_1: 0.9947 - val_loss: 0.0733 - val_recall_1: 0.8968 - val_precision_1: 0.9929 - val_accuracy: 0.9782 - val_auc_1: 0.9936\n",
            "Epoch 8/200\n",
            "49/49 [==============================] - 564s 11s/step - loss: 0.0683 - recall_1: 0.9097 - precision_1: 0.9801 - accuracy: 0.9770 - auc_1: 0.9949 - val_loss: 0.0691 - val_recall_1: 0.9032 - val_precision_1: 0.9790 - val_accuracy: 0.9769 - val_auc_1: 0.9941\n",
            "Epoch 9/200\n",
            "49/49 [==============================] - 569s 12s/step - loss: 0.0508 - recall_1: 0.9301 - precision_1: 0.9808 - accuracy: 0.9825 - auc_1: 0.9974 - val_loss: 0.0626 - val_recall_1: 0.9226 - val_precision_1: 0.9662 - val_accuracy: 0.9782 - val_auc_1: 0.9960\n",
            "Epoch 10/200\n",
            "49/49 [==============================] - 573s 12s/step - loss: 0.0529 - recall_1: 0.9220 - precision_1: 0.9789 - accuracy: 0.9806 - auc_1: 0.9979 - val_loss: 0.0625 - val_recall_1: 0.9032 - val_precision_1: 0.9790 - val_accuracy: 0.9769 - val_auc_1: 0.9958\n",
            "Epoch 11/200\n",
            "49/49 [==============================] - 568s 12s/step - loss: 0.0499 - recall_1: 0.9393 - precision_1: 0.9908 - accuracy: 0.9851 - auc_1: 0.9974 - val_loss: 0.0576 - val_recall_1: 0.9032 - val_precision_1: 0.9929 - val_accuracy: 0.9795 - val_auc_1: 0.9972\n",
            "Epoch 12/200\n",
            "49/49 [==============================] - 569s 12s/step - loss: 0.0409 - recall_1: 0.9386 - precision_1: 0.9942 - accuracy: 0.9864 - auc_1: 0.9986 - val_loss: 0.0592 - val_recall_1: 0.9484 - val_precision_1: 0.9545 - val_accuracy: 0.9808 - val_auc_1: 0.9969\n",
            "16/16 [==============================] - 21s 1s/step - loss: 0.0503 - recall_1: 0.9596 - precision_1: 0.9694 - accuracy: 0.9856 - auc_1: 0.9982\n",
            "Model Loss score: 0.05\n",
            "Model Recall score: 0.96\n",
            "Model Precision score: 0.97\n",
            "Model Accuracy Evaluation : 0.99\n",
            "Model AUC Evaluation : 1.0\n"
          ],
          "name": "stdout"
        },
        {
          "output_type": "display_data",
          "data": {
            "image/png": "[encoded data removed]",
            "text/plain": [
              "<Figure size 1080x288 with 1 Axes>"
            ]
          },
          "metadata": {
            "tags": [],
            "needs_background": "light"
          }
        },
        {
          "output_type": "stream",
          "text": [
            "The model is saved to /content/drive/MyDrive/ai_assignment_aidock/data/my_model.h5\n"
          ],
          "name": "stdout"
        }
      ]
    },
    {
      "cell_type": "markdown",
      "metadata": {
        "id": "HPAxr3xHXELg"
      },
      "source": [
        "## The end"
      ]
    },
    {
      "cell_type": "code",
      "metadata": {
        "id": "hU4fXJ3hXHYW"
      },
      "source": [
        ""
      ],
      "execution_count": null,
      "outputs": []
    }
  ]
}