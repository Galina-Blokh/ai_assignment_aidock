{
  "nbformat": 4,
  "nbformat_minor": 0,
  "metadata": {
    "colab": {
      "name": "preprocess_and_transformer.ipynb",
      "provenance": []
    },
    "kernelspec": {
      "name": "python3",
      "display_name": "Python 3"
    },
    "accelerator": "GPU",
    "widgets": {
      "application/vnd.jupyter.widget-state+json": {
        "baa1001840524f90b3561c178a61e651": {
          "model_module": "@jupyter-widgets/controls",
          "model_name": "HBoxModel",
          "state": {
            "_view_name": "HBoxView",
            "_dom_classes": [],
            "_model_name": "HBoxModel",
            "_view_module": "@jupyter-widgets/controls",
            "_model_module_version": "1.5.0",
            "_view_count": null,
            "_view_module_version": "1.5.0",
            "box_style": "",
            "layout": "IPY_MODEL_e26a202e56f74149b3864c989d782e74",
            "_model_module": "@jupyter-widgets/controls",
            "children": [
              "IPY_MODEL_71dda30851454c8ca4a6ddc569b9c24b",
              "IPY_MODEL_c1bd63a47f0a462b9b065e5ead5e8621"
            ]
          }
        },
        "e26a202e56f74149b3864c989d782e74": {
          "model_module": "@jupyter-widgets/base",
          "model_name": "LayoutModel",
          "state": {
            "_view_name": "LayoutView",
            "grid_template_rows": null,
            "right": null,
            "justify_content": null,
            "_view_module": "@jupyter-widgets/base",
            "overflow": null,
            "_model_module_version": "1.2.0",
            "_view_count": null,
            "flex_flow": null,
            "width": null,
            "min_width": null,
            "border": null,
            "align_items": null,
            "bottom": null,
            "_model_module": "@jupyter-widgets/base",
            "top": null,
            "grid_column": null,
            "overflow_y": null,
            "overflow_x": null,
            "grid_auto_flow": null,
            "grid_area": null,
            "grid_template_columns": null,
            "flex": null,
            "_model_name": "LayoutModel",
            "justify_items": null,
            "grid_row": null,
            "max_height": null,
            "align_content": null,
            "visibility": null,
            "align_self": null,
            "height": null,
            "min_height": null,
            "padding": null,
            "grid_auto_rows": null,
            "grid_gap": null,
            "max_width": null,
            "order": null,
            "_view_module_version": "1.2.0",
            "grid_template_areas": null,
            "object_position": null,
            "object_fit": null,
            "grid_auto_columns": null,
            "margin": null,
            "display": null,
            "left": null
          }
        },
        "71dda30851454c8ca4a6ddc569b9c24b": {
          "model_module": "@jupyter-widgets/controls",
          "model_name": "FloatProgressModel",
          "state": {
            "_view_name": "ProgressView",
            "style": "IPY_MODEL_4621739a31094160aae88eb92a39f9e8",
            "_dom_classes": [],
            "description": "Downloading: 100%",
            "_model_name": "FloatProgressModel",
            "bar_style": "success",
            "max": 231508,
            "_view_module": "@jupyter-widgets/controls",
            "_model_module_version": "1.5.0",
            "value": 231508,
            "_view_count": null,
            "_view_module_version": "1.5.0",
            "orientation": "horizontal",
            "min": 0,
            "description_tooltip": null,
            "_model_module": "@jupyter-widgets/controls",
            "layout": "IPY_MODEL_da3118a5ff514d18818890f64aad0c5f"
          }
        },
        "c1bd63a47f0a462b9b065e5ead5e8621": {
          "model_module": "@jupyter-widgets/controls",
          "model_name": "HTMLModel",
          "state": {
            "_view_name": "HTMLView",
            "style": "IPY_MODEL_c2a07b12f7344daab0a021a8ba3a5fb0",
            "_dom_classes": [],
            "description": "",
            "_model_name": "HTMLModel",
            "placeholder": "​",
            "_view_module": "@jupyter-widgets/controls",
            "_model_module_version": "1.5.0",
            "value": " 232k/232k [00:00&lt;00:00, 1.13MB/s]",
            "_view_count": null,
            "_view_module_version": "1.5.0",
            "description_tooltip": null,
            "_model_module": "@jupyter-widgets/controls",
            "layout": "IPY_MODEL_5be2b33c4b3048c69a62c9bafe2bb7a0"
          }
        },
        "4621739a31094160aae88eb92a39f9e8": {
          "model_module": "@jupyter-widgets/controls",
          "model_name": "ProgressStyleModel",
          "state": {
            "_view_name": "StyleView",
            "_model_name": "ProgressStyleModel",
            "description_width": "initial",
            "_view_module": "@jupyter-widgets/base",
            "_model_module_version": "1.5.0",
            "_view_count": null,
            "_view_module_version": "1.2.0",
            "bar_color": null,
            "_model_module": "@jupyter-widgets/controls"
          }
        },
        "da3118a5ff514d18818890f64aad0c5f": {
          "model_module": "@jupyter-widgets/base",
          "model_name": "LayoutModel",
          "state": {
            "_view_name": "LayoutView",
            "grid_template_rows": null,
            "right": null,
            "justify_content": null,
            "_view_module": "@jupyter-widgets/base",
            "overflow": null,
            "_model_module_version": "1.2.0",
            "_view_count": null,
            "flex_flow": null,
            "width": null,
            "min_width": null,
            "border": null,
            "align_items": null,
            "bottom": null,
            "_model_module": "@jupyter-widgets/base",
            "top": null,
            "grid_column": null,
            "overflow_y": null,
            "overflow_x": null,
            "grid_auto_flow": null,
            "grid_area": null,
            "grid_template_columns": null,
            "flex": null,
            "_model_name": "LayoutModel",
            "justify_items": null,
            "grid_row": null,
            "max_height": null,
            "align_content": null,
            "visibility": null,
            "align_self": null,
            "height": null,
            "min_height": null,
            "padding": null,
            "grid_auto_rows": null,
            "grid_gap": null,
            "max_width": null,
            "order": null,
            "_view_module_version": "1.2.0",
            "grid_template_areas": null,
            "object_position": null,
            "object_fit": null,
            "grid_auto_columns": null,
            "margin": null,
            "display": null,
            "left": null
          }
        },
        "c2a07b12f7344daab0a021a8ba3a5fb0": {
          "model_module": "@jupyter-widgets/controls",
          "model_name": "DescriptionStyleModel",
          "state": {
            "_view_name": "StyleView",
            "_model_name": "DescriptionStyleModel",
            "description_width": "",
            "_view_module": "@jupyter-widgets/base",
            "_model_module_version": "1.5.0",
            "_view_count": null,
            "_view_module_version": "1.2.0",
            "_model_module": "@jupyter-widgets/controls"
          }
        },
        "5be2b33c4b3048c69a62c9bafe2bb7a0": {
          "model_module": "@jupyter-widgets/base",
          "model_name": "LayoutModel",
          "state": {
            "_view_name": "LayoutView",
            "grid_template_rows": null,
            "right": null,
            "justify_content": null,
            "_view_module": "@jupyter-widgets/base",
            "overflow": null,
            "_model_module_version": "1.2.0",
            "_view_count": null,
            "flex_flow": null,
            "width": null,
            "min_width": null,
            "border": null,
            "align_items": null,
            "bottom": null,
            "_model_module": "@jupyter-widgets/base",
            "top": null,
            "grid_column": null,
            "overflow_y": null,
            "overflow_x": null,
            "grid_auto_flow": null,
            "grid_area": null,
            "grid_template_columns": null,
            "flex": null,
            "_model_name": "LayoutModel",
            "justify_items": null,
            "grid_row": null,
            "max_height": null,
            "align_content": null,
            "visibility": null,
            "align_self": null,
            "height": null,
            "min_height": null,
            "padding": null,
            "grid_auto_rows": null,
            "grid_gap": null,
            "max_width": null,
            "order": null,
            "_view_module_version": "1.2.0",
            "grid_template_areas": null,
            "object_position": null,
            "object_fit": null,
            "grid_auto_columns": null,
            "margin": null,
            "display": null,
            "left": null
          }
        },
        "4eff512395e241148a7a0d4e3d717fe3": {
          "model_module": "@jupyter-widgets/controls",
          "model_name": "HBoxModel",
          "state": {
            "_view_name": "HBoxView",
            "_dom_classes": [],
            "_model_name": "HBoxModel",
            "_view_module": "@jupyter-widgets/controls",
            "_model_module_version": "1.5.0",
            "_view_count": null,
            "_view_module_version": "1.5.0",
            "box_style": "",
            "layout": "IPY_MODEL_ecb452901bd749eca96854a7ac2f8d23",
            "_model_module": "@jupyter-widgets/controls",
            "children": [
              "IPY_MODEL_00bd613728e7445fb7c7ab9fdb869457",
              "IPY_MODEL_9c0c1699fb504c6584f416f2a431f258"
            ]
          }
        },
        "ecb452901bd749eca96854a7ac2f8d23": {
          "model_module": "@jupyter-widgets/base",
          "model_name": "LayoutModel",
          "state": {
            "_view_name": "LayoutView",
            "grid_template_rows": null,
            "right": null,
            "justify_content": null,
            "_view_module": "@jupyter-widgets/base",
            "overflow": null,
            "_model_module_version": "1.2.0",
            "_view_count": null,
            "flex_flow": null,
            "width": null,
            "min_width": null,
            "border": null,
            "align_items": null,
            "bottom": null,
            "_model_module": "@jupyter-widgets/base",
            "top": null,
            "grid_column": null,
            "overflow_y": null,
            "overflow_x": null,
            "grid_auto_flow": null,
            "grid_area": null,
            "grid_template_columns": null,
            "flex": null,
            "_model_name": "LayoutModel",
            "justify_items": null,
            "grid_row": null,
            "max_height": null,
            "align_content": null,
            "visibility": null,
            "align_self": null,
            "height": null,
            "min_height": null,
            "padding": null,
            "grid_auto_rows": null,
            "grid_gap": null,
            "max_width": null,
            "order": null,
            "_view_module_version": "1.2.0",
            "grid_template_areas": null,
            "object_position": null,
            "object_fit": null,
            "grid_auto_columns": null,
            "margin": null,
            "display": null,
            "left": null
          }
        },
        "00bd613728e7445fb7c7ab9fdb869457": {
          "model_module": "@jupyter-widgets/controls",
          "model_name": "FloatProgressModel",
          "state": {
            "_view_name": "ProgressView",
            "style": "IPY_MODEL_afbf7074c3324c31ada310a6aa4a549a",
            "_dom_classes": [],
            "description": "Downloading: 100%",
            "_model_name": "FloatProgressModel",
            "bar_style": "success",
            "max": 48,
            "_view_module": "@jupyter-widgets/controls",
            "_model_module_version": "1.5.0",
            "value": 48,
            "_view_count": null,
            "_view_module_version": "1.5.0",
            "orientation": "horizontal",
            "min": 0,
            "description_tooltip": null,
            "_model_module": "@jupyter-widgets/controls",
            "layout": "IPY_MODEL_e04548a08d304e6db3a3be9482c70052"
          }
        },
        "9c0c1699fb504c6584f416f2a431f258": {
          "model_module": "@jupyter-widgets/controls",
          "model_name": "HTMLModel",
          "state": {
            "_view_name": "HTMLView",
            "style": "IPY_MODEL_29b7f2c018b845fea5491686f5faac35",
            "_dom_classes": [],
            "description": "",
            "_model_name": "HTMLModel",
            "placeholder": "​",
            "_view_module": "@jupyter-widgets/controls",
            "_model_module_version": "1.5.0",
            "value": " 48.0/48.0 [00:00&lt;00:00, 558B/s]",
            "_view_count": null,
            "_view_module_version": "1.5.0",
            "description_tooltip": null,
            "_model_module": "@jupyter-widgets/controls",
            "layout": "IPY_MODEL_9034dfde3fa64dc6a1a106476ff3351d"
          }
        },
        "afbf7074c3324c31ada310a6aa4a549a": {
          "model_module": "@jupyter-widgets/controls",
          "model_name": "ProgressStyleModel",
          "state": {
            "_view_name": "StyleView",
            "_model_name": "ProgressStyleModel",
            "description_width": "initial",
            "_view_module": "@jupyter-widgets/base",
            "_model_module_version": "1.5.0",
            "_view_count": null,
            "_view_module_version": "1.2.0",
            "bar_color": null,
            "_model_module": "@jupyter-widgets/controls"
          }
        },
        "e04548a08d304e6db3a3be9482c70052": {
          "model_module": "@jupyter-widgets/base",
          "model_name": "LayoutModel",
          "state": {
            "_view_name": "LayoutView",
            "grid_template_rows": null,
            "right": null,
            "justify_content": null,
            "_view_module": "@jupyter-widgets/base",
            "overflow": null,
            "_model_module_version": "1.2.0",
            "_view_count": null,
            "flex_flow": null,
            "width": null,
            "min_width": null,
            "border": null,
            "align_items": null,
            "bottom": null,
            "_model_module": "@jupyter-widgets/base",
            "top": null,
            "grid_column": null,
            "overflow_y": null,
            "overflow_x": null,
            "grid_auto_flow": null,
            "grid_area": null,
            "grid_template_columns": null,
            "flex": null,
            "_model_name": "LayoutModel",
            "justify_items": null,
            "grid_row": null,
            "max_height": null,
            "align_content": null,
            "visibility": null,
            "align_self": null,
            "height": null,
            "min_height": null,
            "padding": null,
            "grid_auto_rows": null,
            "grid_gap": null,
            "max_width": null,
            "order": null,
            "_view_module_version": "1.2.0",
            "grid_template_areas": null,
            "object_position": null,
            "object_fit": null,
            "grid_auto_columns": null,
            "margin": null,
            "display": null,
            "left": null
          }
        },
        "29b7f2c018b845fea5491686f5faac35": {
          "model_module": "@jupyter-widgets/controls",
          "model_name": "DescriptionStyleModel",
          "state": {
            "_view_name": "StyleView",
            "_model_name": "DescriptionStyleModel",
            "description_width": "",
            "_view_module": "@jupyter-widgets/base",
            "_model_module_version": "1.5.0",
            "_view_count": null,
            "_view_module_version": "1.2.0",
            "_model_module": "@jupyter-widgets/controls"
          }
        },
        "9034dfde3fa64dc6a1a106476ff3351d": {
          "model_module": "@jupyter-widgets/base",
          "model_name": "LayoutModel",
          "state": {
            "_view_name": "LayoutView",
            "grid_template_rows": null,
            "right": null,
            "justify_content": null,
            "_view_module": "@jupyter-widgets/base",
            "overflow": null,
            "_model_module_version": "1.2.0",
            "_view_count": null,
            "flex_flow": null,
            "width": null,
            "min_width": null,
            "border": null,
            "align_items": null,
            "bottom": null,
            "_model_module": "@jupyter-widgets/base",
            "top": null,
            "grid_column": null,
            "overflow_y": null,
            "overflow_x": null,
            "grid_auto_flow": null,
            "grid_area": null,
            "grid_template_columns": null,
            "flex": null,
            "_model_name": "LayoutModel",
            "justify_items": null,
            "grid_row": null,
            "max_height": null,
            "align_content": null,
            "visibility": null,
            "align_self": null,
            "height": null,
            "min_height": null,
            "padding": null,
            "grid_auto_rows": null,
            "grid_gap": null,
            "max_width": null,
            "order": null,
            "_view_module_version": "1.2.0",
            "grid_template_areas": null,
            "object_position": null,
            "object_fit": null,
            "grid_auto_columns": null,
            "margin": null,
            "display": null,
            "left": null
          }
        },
        "7924b357a66b4c40aa9b7b1202324a60": {
          "model_module": "@jupyter-widgets/controls",
          "model_name": "HBoxModel",
          "state": {
            "_view_name": "HBoxView",
            "_dom_classes": [],
            "_model_name": "HBoxModel",
            "_view_module": "@jupyter-widgets/controls",
            "_model_module_version": "1.5.0",
            "_view_count": null,
            "_view_module_version": "1.5.0",
            "box_style": "",
            "layout": "IPY_MODEL_0db44a9de83d4993bc88d72fe95941ba",
            "_model_module": "@jupyter-widgets/controls",
            "children": [
              "IPY_MODEL_5b2b3dced0694f079c6954d997c36a84",
              "IPY_MODEL_e1157411c7174d76b65076fa6d5a3134"
            ]
          }
        },
        "0db44a9de83d4993bc88d72fe95941ba": {
          "model_module": "@jupyter-widgets/base",
          "model_name": "LayoutModel",
          "state": {
            "_view_name": "LayoutView",
            "grid_template_rows": null,
            "right": null,
            "justify_content": null,
            "_view_module": "@jupyter-widgets/base",
            "overflow": null,
            "_model_module_version": "1.2.0",
            "_view_count": null,
            "flex_flow": null,
            "width": null,
            "min_width": null,
            "border": null,
            "align_items": null,
            "bottom": null,
            "_model_module": "@jupyter-widgets/base",
            "top": null,
            "grid_column": null,
            "overflow_y": null,
            "overflow_x": null,
            "grid_auto_flow": null,
            "grid_area": null,
            "grid_template_columns": null,
            "flex": null,
            "_model_name": "LayoutModel",
            "justify_items": null,
            "grid_row": null,
            "max_height": null,
            "align_content": null,
            "visibility": null,
            "align_self": null,
            "height": null,
            "min_height": null,
            "padding": null,
            "grid_auto_rows": null,
            "grid_gap": null,
            "max_width": null,
            "order": null,
            "_view_module_version": "1.2.0",
            "grid_template_areas": null,
            "object_position": null,
            "object_fit": null,
            "grid_auto_columns": null,
            "margin": null,
            "display": null,
            "left": null
          }
        },
        "5b2b3dced0694f079c6954d997c36a84": {
          "model_module": "@jupyter-widgets/controls",
          "model_name": "FloatProgressModel",
          "state": {
            "_view_name": "ProgressView",
            "style": "IPY_MODEL_6ef3a20ce99147dda336abed87f46271",
            "_dom_classes": [],
            "description": "Downloading: 100%",
            "_model_name": "FloatProgressModel",
            "bar_style": "success",
            "max": 629,
            "_view_module": "@jupyter-widgets/controls",
            "_model_module_version": "1.5.0",
            "value": 629,
            "_view_count": null,
            "_view_module_version": "1.5.0",
            "orientation": "horizontal",
            "min": 0,
            "description_tooltip": null,
            "_model_module": "@jupyter-widgets/controls",
            "layout": "IPY_MODEL_83ba4437388843508d88cb69089e394f"
          }
        },
        "e1157411c7174d76b65076fa6d5a3134": {
          "model_module": "@jupyter-widgets/controls",
          "model_name": "HTMLModel",
          "state": {
            "_view_name": "HTMLView",
            "style": "IPY_MODEL_aafb7658e7cb4ff4838d1616d73347c5",
            "_dom_classes": [],
            "description": "",
            "_model_name": "HTMLModel",
            "placeholder": "​",
            "_view_module": "@jupyter-widgets/controls",
            "_model_module_version": "1.5.0",
            "value": " 629/629 [00:00&lt;00:00, 3.26kB/s]",
            "_view_count": null,
            "_view_module_version": "1.5.0",
            "description_tooltip": null,
            "_model_module": "@jupyter-widgets/controls",
            "layout": "IPY_MODEL_4c7b12bd6b9649e1b32408238d7a3a9a"
          }
        },
        "6ef3a20ce99147dda336abed87f46271": {
          "model_module": "@jupyter-widgets/controls",
          "model_name": "ProgressStyleModel",
          "state": {
            "_view_name": "StyleView",
            "_model_name": "ProgressStyleModel",
            "description_width": "initial",
            "_view_module": "@jupyter-widgets/base",
            "_model_module_version": "1.5.0",
            "_view_count": null,
            "_view_module_version": "1.2.0",
            "bar_color": null,
            "_model_module": "@jupyter-widgets/controls"
          }
        },
        "83ba4437388843508d88cb69089e394f": {
          "model_module": "@jupyter-widgets/base",
          "model_name": "LayoutModel",
          "state": {
            "_view_name": "LayoutView",
            "grid_template_rows": null,
            "right": null,
            "justify_content": null,
            "_view_module": "@jupyter-widgets/base",
            "overflow": null,
            "_model_module_version": "1.2.0",
            "_view_count": null,
            "flex_flow": null,
            "width": null,
            "min_width": null,
            "border": null,
            "align_items": null,
            "bottom": null,
            "_model_module": "@jupyter-widgets/base",
            "top": null,
            "grid_column": null,
            "overflow_y": null,
            "overflow_x": null,
            "grid_auto_flow": null,
            "grid_area": null,
            "grid_template_columns": null,
            "flex": null,
            "_model_name": "LayoutModel",
            "justify_items": null,
            "grid_row": null,
            "max_height": null,
            "align_content": null,
            "visibility": null,
            "align_self": null,
            "height": null,
            "min_height": null,
            "padding": null,
            "grid_auto_rows": null,
            "grid_gap": null,
            "max_width": null,
            "order": null,
            "_view_module_version": "1.2.0",
            "grid_template_areas": null,
            "object_position": null,
            "object_fit": null,
            "grid_auto_columns": null,
            "margin": null,
            "display": null,
            "left": null
          }
        },
        "aafb7658e7cb4ff4838d1616d73347c5": {
          "model_module": "@jupyter-widgets/controls",
          "model_name": "DescriptionStyleModel",
          "state": {
            "_view_name": "StyleView",
            "_model_name": "DescriptionStyleModel",
            "description_width": "",
            "_view_module": "@jupyter-widgets/base",
            "_model_module_version": "1.5.0",
            "_view_count": null,
            "_view_module_version": "1.2.0",
            "_model_module": "@jupyter-widgets/controls"
          }
        },
        "4c7b12bd6b9649e1b32408238d7a3a9a": {
          "model_module": "@jupyter-widgets/base",
          "model_name": "LayoutModel",
          "state": {
            "_view_name": "LayoutView",
            "grid_template_rows": null,
            "right": null,
            "justify_content": null,
            "_view_module": "@jupyter-widgets/base",
            "overflow": null,
            "_model_module_version": "1.2.0",
            "_view_count": null,
            "flex_flow": null,
            "width": null,
            "min_width": null,
            "border": null,
            "align_items": null,
            "bottom": null,
            "_model_module": "@jupyter-widgets/base",
            "top": null,
            "grid_column": null,
            "overflow_y": null,
            "overflow_x": null,
            "grid_auto_flow": null,
            "grid_area": null,
            "grid_template_columns": null,
            "flex": null,
            "_model_name": "LayoutModel",
            "justify_items": null,
            "grid_row": null,
            "max_height": null,
            "align_content": null,
            "visibility": null,
            "align_self": null,
            "height": null,
            "min_height": null,
            "padding": null,
            "grid_auto_rows": null,
            "grid_gap": null,
            "max_width": null,
            "order": null,
            "_view_module_version": "1.2.0",
            "grid_template_areas": null,
            "object_position": null,
            "object_fit": null,
            "grid_auto_columns": null,
            "margin": null,
            "display": null,
            "left": null
          }
        },
        "e515959e4e3c4136bc259d71af0a5709": {
          "model_module": "@jupyter-widgets/controls",
          "model_name": "HBoxModel",
          "state": {
            "_view_name": "HBoxView",
            "_dom_classes": [],
            "_model_name": "HBoxModel",
            "_view_module": "@jupyter-widgets/controls",
            "_model_module_version": "1.5.0",
            "_view_count": null,
            "_view_module_version": "1.5.0",
            "box_style": "",
            "layout": "IPY_MODEL_e0f05120d2fa419fb1dfcea25e33feae",
            "_model_module": "@jupyter-widgets/controls",
            "children": [
              "IPY_MODEL_e0f5713488e944779acc7aa5243c7ed2",
              "IPY_MODEL_15595cc21bfe4b958d0e4f14b1757008"
            ]
          }
        },
        "e0f05120d2fa419fb1dfcea25e33feae": {
          "model_module": "@jupyter-widgets/base",
          "model_name": "LayoutModel",
          "state": {
            "_view_name": "LayoutView",
            "grid_template_rows": null,
            "right": null,
            "justify_content": null,
            "_view_module": "@jupyter-widgets/base",
            "overflow": null,
            "_model_module_version": "1.2.0",
            "_view_count": null,
            "flex_flow": null,
            "width": null,
            "min_width": null,
            "border": null,
            "align_items": null,
            "bottom": null,
            "_model_module": "@jupyter-widgets/base",
            "top": null,
            "grid_column": null,
            "overflow_y": null,
            "overflow_x": null,
            "grid_auto_flow": null,
            "grid_area": null,
            "grid_template_columns": null,
            "flex": null,
            "_model_name": "LayoutModel",
            "justify_items": null,
            "grid_row": null,
            "max_height": null,
            "align_content": null,
            "visibility": null,
            "align_self": null,
            "height": null,
            "min_height": null,
            "padding": null,
            "grid_auto_rows": null,
            "grid_gap": null,
            "max_width": null,
            "order": null,
            "_view_module_version": "1.2.0",
            "grid_template_areas": null,
            "object_position": null,
            "object_fit": null,
            "grid_auto_columns": null,
            "margin": null,
            "display": null,
            "left": null
          }
        },
        "e0f5713488e944779acc7aa5243c7ed2": {
          "model_module": "@jupyter-widgets/controls",
          "model_name": "FloatProgressModel",
          "state": {
            "_view_name": "ProgressView",
            "style": "IPY_MODEL_51b95a26b92640e59ff3499297814aa4",
            "_dom_classes": [],
            "description": "Downloading: 100%",
            "_model_name": "FloatProgressModel",
            "bar_style": "success",
            "max": 267949840,
            "_view_module": "@jupyter-widgets/controls",
            "_model_module_version": "1.5.0",
            "value": 267949840,
            "_view_count": null,
            "_view_module_version": "1.5.0",
            "orientation": "horizontal",
            "min": 0,
            "description_tooltip": null,
            "_model_module": "@jupyter-widgets/controls",
            "layout": "IPY_MODEL_90c4f8b15f6446aeaff4bb736a9047e0"
          }
        },
        "15595cc21bfe4b958d0e4f14b1757008": {
          "model_module": "@jupyter-widgets/controls",
          "model_name": "HTMLModel",
          "state": {
            "_view_name": "HTMLView",
            "style": "IPY_MODEL_64820488c63143259f2b1a4262098392",
            "_dom_classes": [],
            "description": "",
            "_model_name": "HTMLModel",
            "placeholder": "​",
            "_view_module": "@jupyter-widgets/controls",
            "_model_module_version": "1.5.0",
            "value": " 268M/268M [00:04&lt;00:00, 66.0MB/s]",
            "_view_count": null,
            "_view_module_version": "1.5.0",
            "description_tooltip": null,
            "_model_module": "@jupyter-widgets/controls",
            "layout": "IPY_MODEL_7c57bbb5cd754c748abcba39e720d5a6"
          }
        },
        "51b95a26b92640e59ff3499297814aa4": {
          "model_module": "@jupyter-widgets/controls",
          "model_name": "ProgressStyleModel",
          "state": {
            "_view_name": "StyleView",
            "_model_name": "ProgressStyleModel",
            "description_width": "initial",
            "_view_module": "@jupyter-widgets/base",
            "_model_module_version": "1.5.0",
            "_view_count": null,
            "_view_module_version": "1.2.0",
            "bar_color": null,
            "_model_module": "@jupyter-widgets/controls"
          }
        },
        "90c4f8b15f6446aeaff4bb736a9047e0": {
          "model_module": "@jupyter-widgets/base",
          "model_name": "LayoutModel",
          "state": {
            "_view_name": "LayoutView",
            "grid_template_rows": null,
            "right": null,
            "justify_content": null,
            "_view_module": "@jupyter-widgets/base",
            "overflow": null,
            "_model_module_version": "1.2.0",
            "_view_count": null,
            "flex_flow": null,
            "width": null,
            "min_width": null,
            "border": null,
            "align_items": null,
            "bottom": null,
            "_model_module": "@jupyter-widgets/base",
            "top": null,
            "grid_column": null,
            "overflow_y": null,
            "overflow_x": null,
            "grid_auto_flow": null,
            "grid_area": null,
            "grid_template_columns": null,
            "flex": null,
            "_model_name": "LayoutModel",
            "justify_items": null,
            "grid_row": null,
            "max_height": null,
            "align_content": null,
            "visibility": null,
            "align_self": null,
            "height": null,
            "min_height": null,
            "padding": null,
            "grid_auto_rows": null,
            "grid_gap": null,
            "max_width": null,
            "order": null,
            "_view_module_version": "1.2.0",
            "grid_template_areas": null,
            "object_position": null,
            "object_fit": null,
            "grid_auto_columns": null,
            "margin": null,
            "display": null,
            "left": null
          }
        },
        "64820488c63143259f2b1a4262098392": {
          "model_module": "@jupyter-widgets/controls",
          "model_name": "DescriptionStyleModel",
          "state": {
            "_view_name": "StyleView",
            "_model_name": "DescriptionStyleModel",
            "description_width": "",
            "_view_module": "@jupyter-widgets/base",
            "_model_module_version": "1.5.0",
            "_view_count": null,
            "_view_module_version": "1.2.0",
            "_model_module": "@jupyter-widgets/controls"
          }
        },
        "7c57bbb5cd754c748abcba39e720d5a6": {
          "model_module": "@jupyter-widgets/base",
          "model_name": "LayoutModel",
          "state": {
            "_view_name": "LayoutView",
            "grid_template_rows": null,
            "right": null,
            "justify_content": null,
            "_view_module": "@jupyter-widgets/base",
            "overflow": null,
            "_model_module_version": "1.2.0",
            "_view_count": null,
            "flex_flow": null,
            "width": null,
            "min_width": null,
            "border": null,
            "align_items": null,
            "bottom": null,
            "_model_module": "@jupyter-widgets/base",
            "top": null,
            "grid_column": null,
            "overflow_y": null,
            "overflow_x": null,
            "grid_auto_flow": null,
            "grid_area": null,
            "grid_template_columns": null,
            "flex": null,
            "_model_name": "LayoutModel",
            "justify_items": null,
            "grid_row": null,
            "max_height": null,
            "align_content": null,
            "visibility": null,
            "align_self": null,
            "height": null,
            "min_height": null,
            "padding": null,
            "grid_auto_rows": null,
            "grid_gap": null,
            "max_width": null,
            "order": null,
            "_view_module_version": "1.2.0",
            "grid_template_areas": null,
            "object_position": null,
            "object_fit": null,
            "grid_auto_columns": null,
            "margin": null,
            "display": null,
            "left": null
          }
        }
      }
    }
  },
  "cells": [
    {
      "cell_type": "code",
      "metadata": {
        "id": "nEKJ-C3xt2GB"
      },
      "source": [
        "!wget --no-check-certificate -nc https://github.com/Galina-Blokh/ai_assignment_aidock/blob/distilbert_impl/data/new_recipe.pkl?raw=true -O new_recipe.pkl\r\n",
        "\r\n",
        "!pip install transformers"
      ],
      "execution_count": null,
      "outputs": []
    },
    {
      "cell_type": "code",
      "metadata": {
        "id": "UoFT7iAIz_Tw"
      },
      "source": [
        "import pandas as pd\r\n",
        "import numpy as np\r\n",
        "import matplotlib.pyplot as plt\r\n",
        "import seaborn as sns\r\n",
        "import warnings\r\n",
        "import tensorflow as tf\r\n",
        "import transformers\r\n",
        "\r\n",
        "from sklearn.model_selection import train_test_split\r\n",
        "from transformers import DistilBertTokenizer\r\n",
        "from transformers import TFDistilBertForSequenceClassification\r\n",
        "\r\n",
        "pd.set_option('display.max_colwidth', None)\r\n",
        "\r\n",
        "warnings.filterwarnings('ignore')\r\n",
        "\r\n",
        "MODEL_NAME = 'distilbert-base-uncased-finetuned-sst-2-english'# This model is a fine-tune checkpoint of DistilBERT-base-uncased, fine-tuned on SST-2.\r\n",
        "BATCH_SIZE = 16\r\n",
        "N_EPOCHS = 10"
      ],
      "execution_count": 3,
      "outputs": []
    },
    {
      "cell_type": "code",
      "metadata": {
        "colab": {
          "base_uri": "https://localhost:8080/",
          "height": 298
        },
        "id": "oFQ3taozzb8a",
        "outputId": "6e123c05-0f33-4de2-8b3c-74343a54fd4a"
      },
      "source": [
        "df = pd.DataFrame(pd.read_pickle('new_recipe.pkl'))\n",
        "df[700:702]"
      ],
      "execution_count": 4,
      "outputs": [
        {
          "output_type": "execute_result",
          "data": {
            "text/html": [
              "<div>\n",
              "<style scoped>\n",
              "    .dataframe tbody tr th:only-of-type {\n",
              "        vertical-align: middle;\n",
              "    }\n",
              "\n",
              "    .dataframe tbody tr th {\n",
              "        vertical-align: top;\n",
              "    }\n",
              "\n",
              "    .dataframe thead th {\n",
              "        text-align: right;\n",
              "    }\n",
              "</style>\n",
              "<table border=\"1\" class=\"dataframe\">\n",
              "  <thead>\n",
              "    <tr style=\"text-align: right;\">\n",
              "      <th></th>\n",
              "      <th>Recipe</th>\n",
              "      <th>INSTRUCTIONS</th>\n",
              "    </tr>\n",
              "  </thead>\n",
              "  <tbody>\n",
              "    <tr>\n",
              "      <th>700</th>\n",
              "      <td>[1 cup uncooked brown rice, well rinsed, 2 cups water, 1 teaspoon extra-virgin olive oil]</td>\n",
              "      <td>Combine the rinsed rice, water, and olive oil in a pot and bring to a boil. Cover, reduce the heat to low, and simmer for 45 minutes.\\n\\nRemove from the heat and let it sit, covered for 10 more minutes. Fluff with a fork.</td>\n",
              "    </tr>\n",
              "    <tr>\n",
              "      <th>701</th>\n",
              "      <td>[Butternut squash, Beet, Cucumber, Carrot, Daikon radish, Summer squash, Kohlrabi, Sweet potato, Zucchini]</td>\n",
              "      <td>Butternut squash noodles: Look for a squash with a long neck. Chop off the fat, seedy base of the squash and save it for another use (see suggestions in the post above). Peel the squash and use a spiralizer to make noodles.\\n\\nBeet noodles: Look for a large beet. Peel off the skin and use a spiralizer to make noodles.\\n\\nCucumber noodles: Look for a large English cucumber. Use a spiralizer or julienne peeler to make noodles (no need to peel).\\n\\nCarrot noodles: Look for a fat carrot. Scrub well or peel if it’s too dirty. Use a spiralizer or julienne peeler to make noodles.\\n\\nDaikon noodles: Use a spiralizer to make noodles.\\n\\nSummer squash noodles: Look for a large yellow squash. Use a spiralizer or julienne peeler to make noodles. Or use a regular vegetable peeler and peel into thick ribbon-shaped noodles. There’s no need to peel the skin of the squash.\\n\\nKohlrabi noodles: Chop the greens off and save for another use. Peel off any nubby parts from the kohlrabi bulb. Use a spiralizer to make noodles.\\n\\nSweet potato noodles: Look for a thick sweet potato. Peel the sweet potato and use a spiralizer to make noodles.\\n\\nZucchini noodles: Look for a large zucchini. Use a spiralizer or julienne peeler to make noodles. Or use a regular vegetable peeler and peel into thick ribbon-shaped noodles. There’s no need to peel the skin of the zucchini.</td>\n",
              "    </tr>\n",
              "  </tbody>\n",
              "</table>\n",
              "</div>"
            ],
            "text/plain": [
              "                                                                                                         Recipe                                                                                                                                                                                                                                                                                                                                                                                                                                                                                                                                                                                                                                                                                                                                                                                                                                                                                                                                                                                                                                                                                                                                                                                                                                                                                                                                                                                                        INSTRUCTIONS\n",
              "700                   [1 cup uncooked brown rice, well rinsed, 2 cups water, 1 teaspoon extra-virgin olive oil]                                                                                                                                                                                                                                                                                                                                                                                                                                                                                                                                                                                                                                                                                                                                                                                                                                                                                                                                                                                                                                                                                                                                                                                       Combine the rinsed rice, water, and olive oil in a pot and bring to a boil. Cover, reduce the heat to low, and simmer for 45 minutes.\\n\\nRemove from the heat and let it sit, covered for 10 more minutes. Fluff with a fork.\n",
              "701  [Butternut squash, Beet, Cucumber, Carrot, Daikon radish, Summer squash, Kohlrabi, Sweet potato, Zucchini]  Butternut squash noodles: Look for a squash with a long neck. Chop off the fat, seedy base of the squash and save it for another use (see suggestions in the post above). Peel the squash and use a spiralizer to make noodles.\\n\\nBeet noodles: Look for a large beet. Peel off the skin and use a spiralizer to make noodles.\\n\\nCucumber noodles: Look for a large English cucumber. Use a spiralizer or julienne peeler to make noodles (no need to peel).\\n\\nCarrot noodles: Look for a fat carrot. Scrub well or peel if it’s too dirty. Use a spiralizer or julienne peeler to make noodles.\\n\\nDaikon noodles: Use a spiralizer to make noodles.\\n\\nSummer squash noodles: Look for a large yellow squash. Use a spiralizer or julienne peeler to make noodles. Or use a regular vegetable peeler and peel into thick ribbon-shaped noodles. There’s no need to peel the skin of the squash.\\n\\nKohlrabi noodles: Chop the greens off and save for another use. Peel off any nubby parts from the kohlrabi bulb. Use a spiralizer to make noodles.\\n\\nSweet potato noodles: Look for a thick sweet potato. Peel the sweet potato and use a spiralizer to make noodles.\\n\\nZucchini noodles: Look for a large zucchini. Use a spiralizer or julienne peeler to make noodles. Or use a regular vegetable peeler and peel into thick ribbon-shaped noodles. There’s no need to peel the skin of the zucchini."
            ]
          },
          "metadata": {
            "tags": []
          },
          "execution_count": 4
        }
      ]
    },
    {
      "cell_type": "code",
      "metadata": {
        "colab": {
          "base_uri": "https://localhost:8080/",
          "height": 182
        },
        "id": "nSHPXBxIzeBL",
        "outputId": "9b24dc5a-220c-4d11-9ba1-5192f1ef5609"
      },
      "source": [
        "def create_dataset(df):\r\n",
        "  recipe_col = df[\"Recipe\"].apply(lambda series: ' '.join([words for words in series])).to_numpy()\r\n",
        "\r\n",
        "  recipe = recipe_col.reshape(-1, 1)\r\n",
        "  recipe = np.hstack((recipe, np.ones(len(recipe), int).reshape(-1, 1)))\r\n",
        "\r\n",
        "  instr_col = df[\"INSTRUCTIONS\"].str.split('\\n\\n').to_numpy()\r\n",
        "\r\n",
        "  instr = np.concatenate(instr_col).reshape(-1, 1)\r\n",
        "  instr = np.hstack((instr, np.zeros(len(instr), int).reshape(-1, 1)))\r\n",
        "\r\n",
        "  # concatinate two ndArrays into one\r\n",
        "  data = np.concatenate((instr, recipe), axis=0)\r\n",
        "  print('The concatenated set  shape: ',data.shape)\r\n",
        "\r\n",
        "  # remove duplicates\r\n",
        "  unique = np.unique(data.astype(str), axis=0)\r\n",
        "  print(\"The set without duplicates  shape: \",unique.shape)\r\n",
        "\r\n",
        "  # #remove empty string rows(from table)\r\n",
        "  unique = np.delete(unique.astype(str), np.where(unique == ''), axis=0)\r\n",
        "  print(\"The set without empty rows  shape: \",unique.shape)\r\n",
        "\r\n",
        "  data =  pd.DataFrame(unique, columns=['paragraph', 'label'])\r\n",
        "  return data\r\n",
        "\r\n",
        "data = create_dataset(df)\r\n",
        "data.tail(2)"
      ],
      "execution_count": 5,
      "outputs": [
        {
          "output_type": "stream",
          "text": [
            "The concatenated set  shape:  (5190, 2)\n",
            "The set without duplicates  shape:  (4919, 2)\n",
            "The set without empty rows  shape:  (4917, 2)\n"
          ],
          "name": "stdout"
        },
        {
          "output_type": "execute_result",
          "data": {
            "text/html": [
              "<div>\n",
              "<style scoped>\n",
              "    .dataframe tbody tr th:only-of-type {\n",
              "        vertical-align: middle;\n",
              "    }\n",
              "\n",
              "    .dataframe tbody tr th {\n",
              "        vertical-align: top;\n",
              "    }\n",
              "\n",
              "    .dataframe thead th {\n",
              "        text-align: right;\n",
              "    }\n",
              "</style>\n",
              "<table border=\"1\" class=\"dataframe\">\n",
              "  <thead>\n",
              "    <tr style=\"text-align: right;\">\n",
              "      <th></th>\n",
              "      <th>paragraph</th>\n",
              "      <th>label</th>\n",
              "    </tr>\n",
              "  </thead>\n",
              "  <tbody>\n",
              "    <tr>\n",
              "      <th>4915</th>\n",
              "      <td>⅔ cup good quality coffee beans (or buy them pre-ground). 3 cups filtered water Almond Breeze Almondmilk Original (about 1 cup per latte)</td>\n",
              "      <td>1</td>\n",
              "    </tr>\n",
              "    <tr>\n",
              "      <th>4916</th>\n",
              "      <td>⅔ cup sliced leeks (the tender white and light green parts only) Extra-virgin olive oil, for drizzling 1 garlic clove, chopped 2 small zucchini, chopped + a few strands of spiralized or julienned zucchini for garnish ¼ cup hemp seeds juice of ½ lemon, more to taste ½ tablespoon miso paste 1 cup water, more as needed for consistency ½ cup packed fresh basil sea salt and freshly ground black pepper 2 cups cubed sourdough bread ½ garlic clove, minced Extra-virgin olive oil, for drizzling</td>\n",
              "      <td>1</td>\n",
              "    </tr>\n",
              "  </tbody>\n",
              "</table>\n",
              "</div>"
            ],
            "text/plain": [
              "                                                                                                                                                                                                                                                                                                                                                                                                                                                                                                      paragraph label\n",
              "4915                                                                                                                                                                                                                                                                                                                                                                  ⅔ cup good quality coffee beans (or buy them pre-ground). 3 cups filtered water Almond Breeze Almondmilk Original (about 1 cup per latte)     1\n",
              "4916  ⅔ cup sliced leeks (the tender white and light green parts only) Extra-virgin olive oil, for drizzling 1 garlic clove, chopped 2 small zucchini, chopped + a few strands of spiralized or julienned zucchini for garnish ¼ cup hemp seeds juice of ½ lemon, more to taste ½ tablespoon miso paste 1 cup water, more as needed for consistency ½ cup packed fresh basil sea salt and freshly ground black pepper 2 cups cubed sourdough bread ½ garlic clove, minced Extra-virgin olive oil, for drizzling     1"
            ]
          },
          "metadata": {
            "tags": []
          },
          "execution_count": 5
        }
      ]
    },
    {
      "cell_type": "code",
      "metadata": {
        "colab": {
          "base_uri": "https://localhost:8080/",
          "height": 747
        },
        "id": "xqSVfVc8z12x",
        "outputId": "121e59c7-baf4-4f58-e672-bdd545c4aae0"
      },
      "source": [
        "def split_and_plot_target(data):\r\n",
        "  X = data['paragraph'].copy()\r\n",
        "  y = data['label'].astype(int).copy()\r\n",
        "  X_train, X_test, y_train, y_test = train_test_split(X, y,\r\n",
        "                                                      stratify=y, \r\n",
        "                                                      test_size=0.2, \r\n",
        "                                                      random_state=42)\r\n",
        "\r\n",
        "  print('The proportion in y_train\\n',y_train.value_counts(normalize=True).mul(100))\r\n",
        "  print('The proportion in y_test\\n',y_test.value_counts(normalize=True).mul(100))\r\n",
        "  print('The proportion in data\\n',data.label.value_counts(normalize=True).mul(100))\r\n",
        "\r\n",
        "\r\n",
        "  plt.figure(figsize=(25,5))\r\n",
        "  for vector, name,i in zip([data.label,y_train, y_test],['data','y_train', 'y_test'],np.arange(3)):\r\n",
        "      plt.subplot(1,3,i+1)\r\n",
        "      bar = sns.countplot(vector,palette='husl')\r\n",
        "      plt.text(0.5, len(vector)*0.9,f\"Target variable in {str(name)} set\",\r\n",
        "          horizontalalignment='center',\r\n",
        "          verticalalignment='center',\r\n",
        "              fontsize=25)\r\n",
        "      plt.subplots_adjust(top=1.3)\r\n",
        "      for p in bar.patches:\r\n",
        "              bar.annotate('{}%'.format(round(p.get_height()/len(vector)*100,2), '.2f'), \\\r\n",
        "                            (p.get_x() + p.get_width() / 2.,p.get_height()),ha = 'center', \\\r\n",
        "                            va = 'center',xytext = (0, 10),textcoords = 'offset points',size = 20);\r\n",
        "  return X_train, X_test, y_train, y_test\r\n",
        "\r\n",
        "\r\n",
        "X_train, X_test, y_train, y_test = split_and_plot_target(data)"
      ],
      "execution_count": 6,
      "outputs": [
        {
          "output_type": "stream",
          "text": [
            "The proportion in y_train\n",
            " 0    79.532164\n",
            "1    20.467836\n",
            "Name: label, dtype: float64\n",
            "The proportion in y_test\n",
            " 0    79.471545\n",
            "1    20.528455\n",
            "Name: label, dtype: float64\n",
            "The proportion in data\n",
            " 0    79.520033\n",
            "1    20.479967\n",
            "Name: label, dtype: float64\n"
          ],
          "name": "stdout"
        },
        {
          "output_type": "display_data",
          "data": {
            "image/png": "[encoded data removed]",
            "text/plain": [
              "<Figure size 1800x360 with 3 Axes>"
            ]
          },
          "metadata": {
            "tags": [],
            "needs_background": "light"
          }
        }
      ]
    },
    {
      "cell_type": "code",
      "metadata": {
        "id": "SdFKJ2bn0a1Q"
      },
      "source": [
        "train = pd.DataFrame(X_train, columns=['paragraph'])\r\n",
        "test = pd.DataFrame(X_test, columns=['paragraph'])\r\n",
        "\r\n"
      ],
      "execution_count": 8,
      "outputs": []
    },
    {
      "cell_type": "code",
      "metadata": {
        "colab": {
          "base_uri": "https://localhost:8080/"
        },
        "id": "UkFBVb5e9CRC",
        "outputId": "2cdd293f-9350-4b50-ead0-58aada4c216b"
      },
      "source": [
        "MAX_LEN = train ['paragraph'].apply(lambda series: len([x for x in series.split()])).max()\r\n",
        "MAX_LEN"
      ],
      "execution_count": 9,
      "outputs": [
        {
          "output_type": "execute_result",
          "data": {
            "text/plain": [
              "242"
            ]
          },
          "metadata": {
            "tags": []
          },
          "execution_count": 9
        }
      ]
    },
    {
      "cell_type": "code",
      "metadata": {
        "id": "J5N1MZDg09Bt"
      },
      "source": [
        "X_train =list(train.paragraph.values)\r\n",
        "X_test =list(test.paragraph.values)\r\n",
        "y_train = list(y_train)\r\n",
        "y_test = list(y_test)"
      ],
      "execution_count": 10,
      "outputs": []
    },
    {
      "cell_type": "code",
      "metadata": {
        "colab": {
          "base_uri": "https://localhost:8080/",
          "height": 117,
          "referenced_widgets": [
            "baa1001840524f90b3561c178a61e651",
            "e26a202e56f74149b3864c989d782e74",
            "71dda30851454c8ca4a6ddc569b9c24b",
            "c1bd63a47f0a462b9b065e5ead5e8621",
            "4621739a31094160aae88eb92a39f9e8",
            "da3118a5ff514d18818890f64aad0c5f",
            "c2a07b12f7344daab0a021a8ba3a5fb0",
            "5be2b33c4b3048c69a62c9bafe2bb7a0",
            "4eff512395e241148a7a0d4e3d717fe3",
            "ecb452901bd749eca96854a7ac2f8d23",
            "00bd613728e7445fb7c7ab9fdb869457",
            "9c0c1699fb504c6584f416f2a431f258",
            "afbf7074c3324c31ada310a6aa4a549a",
            "e04548a08d304e6db3a3be9482c70052",
            "29b7f2c018b845fea5491686f5faac35",
            "9034dfde3fa64dc6a1a106476ff3351d"
          ]
        },
        "id": "HPsE104j1_xw",
        "outputId": "07a89923-0195-4d3e-ab40-21739a3fc692"
      },
      "source": [
        "tokenizer = DistilBertTokenizer.from_pretrained(MODEL_NAME)\r\n",
        "\r\n",
        "train_encodings = tokenizer(X_train, max_length=MAX_LEN, truncation=True, padding=True)\r\n",
        "test_encodings = tokenizer(X_test, max_length=MAX_LEN, truncation=True, padding=True)\r\n",
        "\r\n",
        "train_dataset = tf.data.Dataset.from_tensor_slices((dict(train_encodings),\r\n",
        "                                                    y_train))\r\n",
        "\r\n",
        "test_dataset = tf.data.Dataset.from_tensor_slices((dict(test_encodings),\r\n",
        "                                                    y_test))"
      ],
      "execution_count": 11,
      "outputs": [
        {
          "output_type": "display_data",
          "data": {
            "application/vnd.jupyter.widget-view+json": {
              "model_id": "baa1001840524f90b3561c178a61e651",
              "version_minor": 0,
              "version_major": 2
            },
            "text/plain": [
              "HBox(children=(FloatProgress(value=0.0, description='Downloading', max=231508.0, style=ProgressStyle(descripti…"
            ]
          },
          "metadata": {
            "tags": []
          }
        },
        {
          "output_type": "stream",
          "text": [
            "\n"
          ],
          "name": "stdout"
        },
        {
          "output_type": "display_data",
          "data": {
            "application/vnd.jupyter.widget-view+json": {
              "model_id": "4eff512395e241148a7a0d4e3d717fe3",
              "version_minor": 0,
              "version_major": 2
            },
            "text/plain": [
              "HBox(children=(FloatProgress(value=0.0, description='Downloading', max=48.0, style=ProgressStyle(description_w…"
            ]
          },
          "metadata": {
            "tags": []
          }
        },
        {
          "output_type": "stream",
          "text": [
            "\n"
          ],
          "name": "stdout"
        }
      ]
    },
    {
      "cell_type": "code",
      "metadata": {
        "colab": {
          "base_uri": "https://localhost:8080/",
          "height": 911,
          "referenced_widgets": [
            "7924b357a66b4c40aa9b7b1202324a60",
            "0db44a9de83d4993bc88d72fe95941ba",
            "5b2b3dced0694f079c6954d997c36a84",
            "e1157411c7174d76b65076fa6d5a3134",
            "6ef3a20ce99147dda336abed87f46271",
            "83ba4437388843508d88cb69089e394f",
            "aafb7658e7cb4ff4838d1616d73347c5",
            "4c7b12bd6b9649e1b32408238d7a3a9a",
            "e515959e4e3c4136bc259d71af0a5709",
            "e0f05120d2fa419fb1dfcea25e33feae",
            "e0f5713488e944779acc7aa5243c7ed2",
            "15595cc21bfe4b958d0e4f14b1757008",
            "51b95a26b92640e59ff3499297814aa4",
            "90c4f8b15f6446aeaff4bb736a9047e0",
            "64820488c63143259f2b1a4262098392",
            "7c57bbb5cd754c748abcba39e720d5a6"
          ]
        },
        "id": "jHyQKV-Y8goi",
        "outputId": "e08fe4a2-10cb-4154-e85f-99511c2b9ed3"
      },
      "source": [
        "model = TFDistilBertForSequenceClassification.from_pretrained(MODEL_NAME)\r\n",
        "\r\n",
        "optimizer = tf.keras.optimizers.Adam(learning_rate=5e-5)\r\n",
        "losss = tf.keras.losses.SparseCategoricalCrossentropy(from_logits=True)\r\n",
        "model.compile(optimizer=optimizer,\r\n",
        "              loss=losss,\r\n",
        "              metrics=['accuracy'])\r\n",
        "\r\n",
        "es = tf.keras.callbacks.EarlyStopping(monitor='loss', mode='min')\r\n",
        "callback=[es]\r\n",
        "\r\n",
        "model.fit(train_dataset.shuffle(len(X_train)).batch(BATCH_SIZE), \r\n",
        "          epochs=N_EPOCHS,\r\n",
        "          batch_size=BATCH_SIZE,\r\n",
        "          callbacks=callback)"
      ],
      "execution_count": 12,
      "outputs": [
        {
          "output_type": "display_data",
          "data": {
            "application/vnd.jupyter.widget-view+json": {
              "model_id": "7924b357a66b4c40aa9b7b1202324a60",
              "version_minor": 0,
              "version_major": 2
            },
            "text/plain": [
              "HBox(children=(FloatProgress(value=0.0, description='Downloading', max=629.0, style=ProgressStyle(description_…"
            ]
          },
          "metadata": {
            "tags": []
          }
        },
        {
          "output_type": "stream",
          "text": [
            "\n"
          ],
          "name": "stdout"
        },
        {
          "output_type": "display_data",
          "data": {
            "application/vnd.jupyter.widget-view+json": {
              "model_id": "e515959e4e3c4136bc259d71af0a5709",
              "version_minor": 0,
              "version_major": 2
            },
            "text/plain": [
              "HBox(children=(FloatProgress(value=0.0, description='Downloading', max=267949840.0, style=ProgressStyle(descri…"
            ]
          },
          "metadata": {
            "tags": []
          }
        },
        {
          "output_type": "stream",
          "text": [
            "\n"
          ],
          "name": "stdout"
        },
        {
          "output_type": "stream",
          "text": [
            "All model checkpoint layers were used when initializing TFDistilBertForSequenceClassification.\n",
            "\n",
            "All the layers of TFDistilBertForSequenceClassification were initialized from the model checkpoint at distilbert-base-uncased-finetuned-sst-2-english.\n",
            "If your task is similar to the task the model of the checkpoint was trained on, you can already use TFDistilBertForSequenceClassification for predictions without further training.\n"
          ],
          "name": "stderr"
        },
        {
          "output_type": "stream",
          "text": [
            "Epoch 1/10\n",
            "WARNING:tensorflow:The parameters `output_attentions`, `output_hidden_states` and `use_cache` cannot be updated when calling a model.They have to be set to True/False in the config object (i.e.: `config=XConfig.from_pretrained('name', output_attentions=True)`).WARNING:tensorflow:AutoGraph could not transform <bound method Socket.send of <zmq.sugar.socket.Socket object at 0x7fc2045db6c8>> and will run it as-is.\n",
            "Please report this to the TensorFlow team. When filing the bug, set the verbosity to 10 (on Linux, `export AUTOGRAPH_VERBOSITY=10`) and attach the full output.\n",
            "Cause: <cyfunction Socket.send at 0x7fc221ac02a0> is not a module, class, method, function, traceback, frame, or code object\n",
            "To silence this warning, decorate the function with @tf.autograph.experimental.do_not_convert\n",
            "WARNING: AutoGraph could not transform <bound method Socket.send of <zmq.sugar.socket.Socket object at 0x7fc2045db6c8>> and will run it as-is.\n",
            "Please report this to the TensorFlow team. When filing the bug, set the verbosity to 10 (on Linux, `export AUTOGRAPH_VERBOSITY=10`) and attach the full output.\n",
            "Cause: <cyfunction Socket.send at 0x7fc221ac02a0> is not a module, class, method, function, traceback, frame, or code object\n",
            "To silence this warning, decorate the function with @tf.autograph.experimental.do_not_convert\n",
            "\n",
            "WARNING:tensorflow:AutoGraph could not transform <function wrap at 0x7fc21f895c80> and will run it as-is.\n",
            "Cause: while/else statement not yet supported\n",
            "To silence this warning, decorate the function with @tf.autograph.experimental.do_not_convert\n",
            "WARNING: AutoGraph could not transform <function wrap at 0x7fc21f895c80> and will run it as-is.\n",
            "Cause: while/else statement not yet supported\n",
            "To silence this warning, decorate the function with @tf.autograph.experimental.do_not_convert\n",
            "WARNING:tensorflow:The parameter `return_dict` cannot be set in graph mode and will always be set to `True`.\n",
            "WARNING:tensorflow:The parameters `output_attentions`, `output_hidden_states` and `use_cache` cannot be updated when calling a model.They have to be set to True/False in the config object (i.e.: `config=XConfig.from_pretrained('name', output_attentions=True)`).\n",
            "WARNING:tensorflow:The parameter `return_dict` cannot be set in graph mode and will always be set to `True`.\n",
            "246/246 [==============================] - 135s 381ms/step - loss: 0.1191 - accuracy: 0.9657\n",
            "Epoch 2/10\n",
            "246/246 [==============================] - 98s 399ms/step - loss: 0.0044 - accuracy: 0.9981\n",
            "Epoch 3/10\n",
            "246/246 [==============================] - 101s 409ms/step - loss: 6.7498e-05 - accuracy: 1.0000\n",
            "Epoch 4/10\n",
            "246/246 [==============================] - 102s 415ms/step - loss: 1.9562e-05 - accuracy: 1.0000\n",
            "Epoch 5/10\n",
            "246/246 [==============================] - 103s 417ms/step - loss: 1.1957e-05 - accuracy: 1.0000\n",
            "Epoch 6/10\n",
            "246/246 [==============================] - 102s 416ms/step - loss: 6.3131e-06 - accuracy: 1.0000\n",
            "Epoch 7/10\n",
            "246/246 [==============================] - 102s 416ms/step - loss: 3.4511e-06 - accuracy: 1.0000\n",
            "Epoch 8/10\n",
            "246/246 [==============================] - 102s 416ms/step - loss: 2.1563e-06 - accuracy: 1.0000\n",
            "Epoch 9/10\n",
            "246/246 [==============================] - 102s 416ms/step - loss: 1.5257e-06 - accuracy: 1.0000\n",
            "Epoch 10/10\n",
            "246/246 [==============================] - 102s 416ms/step - loss: 1.1690e-06 - accuracy: 1.0000\n"
          ],
          "name": "stdout"
        },
        {
          "output_type": "execute_result",
          "data": {
            "text/plain": [
              "<tensorflow.python.keras.callbacks.History at 0x7fc0e1f89cf8>"
            ]
          },
          "metadata": {
            "tags": []
          },
          "execution_count": 12
        }
      ]
    },
    {
      "cell_type": "code",
      "metadata": {
        "colab": {
          "base_uri": "https://localhost:8080/"
        },
        "id": "an65Uvxv_L4P",
        "outputId": "b0530dd8-cd0b-4fa8-d6cf-abfe77c7d579"
      },
      "source": [
        "model.evaluate(test_dataset.shuffle(len(X_test)).batch(BATCH_SIZE), return_dict=True, batch_size=BATCH_SIZE)"
      ],
      "execution_count": 15,
      "outputs": [
        {
          "output_type": "stream",
          "text": [
            "WARNING:tensorflow:The parameters `output_attentions`, `output_hidden_states` and `use_cache` cannot be updated when calling a model.They have to be set to True/False in the config object (i.e.: `config=XConfig.from_pretrained('name', output_attentions=True)`).\n",
            "WARNING:tensorflow:The parameter `return_dict` cannot be set in graph mode and will always be set to `True`.\n",
            "62/62 [==============================] - 10s 141ms/step - loss: 1.2940e-06 - accuracy: 1.0000\n"
          ],
          "name": "stdout"
        },
        {
          "output_type": "execute_result",
          "data": {
            "text/plain": [
              "{'accuracy': 1.0, 'loss': 1.2940317901666276e-06}"
            ]
          },
          "metadata": {
            "tags": []
          },
          "execution_count": 15
        }
      ]
    },
    {
      "cell_type": "code",
      "metadata": {
        "id": "Yg49wCdWIow7"
      },
      "source": [
        "def predict_proba(text_list, model, tokenizer):\n",
        "  \"\"\"\n",
        "  To get array with predicted probabilities for 0 - instructions, 1- ingredients classes \n",
        "  for each paragraph in the list of strings\n",
        "  :param text_list: list[str]\n",
        "  :param model: transformers.models.distilbert.modeling_tf_distilbert.TFDistilBertForSequenceClassification\n",
        "  :param tokenizer: transformers.models.distilbert.tokenization_distilbert.DistilBertTokenizer\n",
        "  :return res: numpy.ndarray\n",
        "  \"\"\"\n",
        "     \n",
        "  encodings = tokenizer(text_list, max_length=MAX_LEN, truncation=True, padding=True)\n",
        "  dataset = tf.data.Dataset.from_tensor_slices((dict(encodings))) \n",
        "  preds = model.predict(dataset.batch(1)).logits\n",
        "  res = tf.nn.softmax(preds, axis=1).numpy()\n",
        "    \n",
        "  return res"
      ],
      "execution_count": 13,
      "outputs": []
    },
    {
      "cell_type": "code",
      "metadata": {
        "colab": {
          "base_uri": "https://localhost:8080/"
        },
        "id": "xkvObYK2kQw5",
        "outputId": "9503b7b4-b470-4511-f298-03cae0ee1713"
      },
      "source": [
        "#8. https://www.loveandlemons.com/lemon-chive-ricotta-bruschetta/\n",
        "\n",
        "strings_list =[\"\"\"\n",
        "                  6-8 slices whole grain bread\n",
        "                  1 garlic clove (use half to rub bread with, mince other half for ricotta mixture)\n",
        "                  1 tomato\n",
        "                  ½ cup fresh, high quality ricotta cheese\n",
        "                  1-2 tablespoons lemon juice\n",
        "                  ½-1 teaspoon lemon zest\n",
        "                  1-2 teaspoons honey\n",
        "                  2 tablespoons chopped chives\n",
        "                  Extra-virgin olive oil, for drizzling\n",
        "                  Sea salt and fresh black pepper\n",
        "                  Basil, chopped\n",
        "                  Sprouts\n",
        "                  \"\"\",\n",
        "                  'Drizzle the bread slices with olive oil and season with a pinch of salt. Toast under the broiler, or grill.'\n",
        "                  ,\n",
        "                  'lice garlic clove in half. Once the bread is nicely toasted, rub it with the open side of the garlic. Set aside.'\n",
        "                  ,\n",
        "                  'Slice the tomato, sprinkle it with some salt, and set aside.'\n",
        "                  ,\n",
        "                  'Mix together the ricotta, lemon juice, lemon zest, minced garlic, honey, chives, and pinches of salt and pepper. Taste and adjust seasonings.'\n",
        "                  ,\n",
        "                  'Assemble and top with chopped basil and sprouts.']\n",
        "predict_proba(strings_list, model, tokenizer)"
      ],
      "execution_count": 16,
      "outputs": [
        {
          "output_type": "stream",
          "text": [
            "WARNING:tensorflow:The parameters `output_attentions`, `output_hidden_states` and `use_cache` cannot be updated when calling a model.They have to be set to True/False in the config object (i.e.: `config=XConfig.from_pretrained('name', output_attentions=True)`).\n",
            "WARNING:tensorflow:The parameter `return_dict` cannot be set in graph mode and will always be set to `True`.\n"
          ],
          "name": "stdout"
        },
        {
          "output_type": "execute_result",
          "data": {
            "text/plain": [
              "array([[6.7040730e-07, 9.9999928e-01],\n",
              "       [9.9999988e-01, 1.4920236e-07],\n",
              "       [9.9999988e-01, 1.5305788e-07],\n",
              "       [9.9999976e-01, 1.8989410e-07],\n",
              "       [9.9999988e-01, 1.7221697e-07],\n",
              "       [9.9999988e-01, 1.5906457e-07]], dtype=float32)"
            ]
          },
          "metadata": {
            "tags": []
          },
          "execution_count": 16
        }
      ]
    },
    {
      "cell_type": "code",
      "metadata": {
        "id": "lLXLKMUikWFJ"
      },
      "source": [
        ""
      ],
      "execution_count": null,
      "outputs": []
    }
  ]
}