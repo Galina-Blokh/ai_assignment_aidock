{
  "nbformat": 4,
  "nbformat_minor": 0,
  "metadata": {
    "kernelspec": {
      "display_name": "Python 3",
      "language": "python",
      "name": "python3"
    },
    "language_info": {
      "codemirror_mode": {
        "name": "ipython",
        "version": 3
      },
      "file_extension": ".py",
      "mimetype": "text/x-python",
      "name": "python",
      "nbconvert_exporter": "python",
      "pygments_lexer": "ipython3",
      "version": "3.8.5"
    },
    "colab": {
      "name": "LSTM.ipynb",
      "provenance": [],
      "collapsed_sections": [],
      "toc_visible": true
    },
    "accelerator": "GPU"
  },
  "cells": [
    {
      "cell_type": "code",
      "metadata": {
        "id": "YnWcbPXH07Tl"
      },
      "source": [
        "import tensorflow as tf\n",
        "from tensorflow.keras.preprocessing.sequence import pad_sequences\n",
        "from tensorflow.keras.layers import Input,Dense, Dropout, LSTM, Embedding, Bidirectional\n",
        "from tensorflow.keras.models import Sequential\n",
        "from tensorflow.keras import Model\n",
        "from tensorflow.keras.preprocessing.text import Tokenizer\n",
        "from tensorflow.keras.preprocessing.sequence import pad_sequences\n",
        "from tensorflow.keras.utils import to_categorical\n",
        "from tensorflow.keras.callbacks import TensorBoard\n",
        "import numpy as np\n",
        "import pickle\n",
        "import random\n",
        "import os\n",
        "import pandas as pd\n",
        "import re\n",
        "pd.set_option('display.max_colwidth', None)"
      ],
      "execution_count": 1,
      "outputs": []
    },
    {
      "cell_type": "code",
      "metadata": {
        "colab": {
          "base_uri": "https://localhost:8080/"
        },
        "id": "GTY7-iLd1LRo",
        "outputId": "7f239a7e-8d7e-4dc5-cfea-756cff29e196"
      },
      "source": [
        "from google.colab import drive\n",
        "drive.mount('/content/drive')"
      ],
      "execution_count": 2,
      "outputs": [
        {
          "output_type": "stream",
          "text": [
            "Drive already mounted at /content/drive; to attempt to forcibly remount, call drive.mount(\"/content/drive\", force_remount=True).\n"
          ],
          "name": "stdout"
        }
      ]
    },
    {
      "cell_type": "markdown",
      "metadata": {
        "id": "PTd5uvNPh4Am"
      },
      "source": [
        "##Load the data"
      ]
    },
    {
      "cell_type": "code",
      "metadata": {
        "colab": {
          "base_uri": "https://localhost:8080/"
        },
        "id": "x-DL99uT07U2",
        "outputId": "f5ffb1ed-f063-4cd8-aee1-476c9e41b4d0"
      },
      "source": [
        "train = pd.read_pickle('/content/drive/MyDrive/ai_assignment_aidock/data/train_data_clean.pkl')\n",
        "round(train['label'].value_counts()/len(train)*100,2)"
      ],
      "execution_count": 3,
      "outputs": [
        {
          "output_type": "execute_result",
          "data": {
            "text/plain": [
              "0    79.71\n",
              "1    20.29\n",
              "Name: label, dtype: float64"
            ]
          },
          "metadata": {
            "tags": []
          },
          "execution_count": 3
        }
      ]
    },
    {
      "cell_type": "code",
      "metadata": {
        "colab": {
          "base_uri": "https://localhost:8080/"
        },
        "id": "fPY_G8bM07U9",
        "outputId": "28dfc277-388e-44ed-8fde-6f209cdce4b5"
      },
      "source": [
        "\n",
        "test = pd.read_pickle('/content/drive/MyDrive/ai_assignment_aidock/data/test_data_clean.pkl')\n",
        "round(test['label'].value_counts()/len(test)*100,2)"
      ],
      "execution_count": 4,
      "outputs": [
        {
          "output_type": "execute_result",
          "data": {
            "text/plain": [
              "0    79.69\n",
              "1    20.31\n",
              "Name: label, dtype: float64"
            ]
          },
          "metadata": {
            "tags": []
          },
          "execution_count": 4
        }
      ]
    },
    {
      "cell_type": "code",
      "metadata": {
        "id": "Q5jJmYr_07VC"
      },
      "source": [
        "#Sentences array for train and test sets + target variable for train and test\n",
        "text_train = train['remove_stop_words']\n",
        "y_train = train['label']\n",
        "\n",
        "text_test = test['remove_stop_words']\n",
        "y_test = test['label']\n"
      ],
      "execution_count": 5,
      "outputs": []
    },
    {
      "cell_type": "markdown",
      "metadata": {
        "id": "rvqPd6xehj5o"
      },
      "source": [
        "##Count hyper parameters"
      ]
    },
    {
      "cell_type": "code",
      "metadata": {
        "colab": {
          "base_uri": "https://localhost:8080/"
        },
        "id": "Flq1anA607VE",
        "outputId": "956bc037-96ac-4560-f043-090c7e5f4fa9"
      },
      "source": [
        "#vocab_size count\n",
        "results = set()\n",
        "train.remove_stop_words.str.split().apply(results.update)\n",
        "vocab_size = len(results)\n",
        "vocab_size"
      ],
      "execution_count": 6,
      "outputs": [
        {
          "output_type": "execute_result",
          "data": {
            "text/plain": [
              "2284"
            ]
          },
          "metadata": {
            "tags": []
          },
          "execution_count": 6
        }
      ]
    },
    {
      "cell_type": "code",
      "metadata": {
        "colab": {
          "base_uri": "https://localhost:8080/"
        },
        "id": "R9NpYmhP07VH",
        "outputId": "9c134f38-039d-420f-aee7-821671a8b2aa"
      },
      "source": [
        "maxSequenceLength_train = train['clean_paragraph_len'].max()\n",
        "maxSequenceLength_test = test['clean_paragraph_len'].max()\n",
        "maxSequenceLength_test, maxSequenceLength_train #(81, 121),"
      ],
      "execution_count": 7,
      "outputs": [
        {
          "output_type": "execute_result",
          "data": {
            "text/plain": [
              "(121, 121)"
            ]
          },
          "metadata": {
            "tags": []
          },
          "execution_count": 7
        }
      ]
    },
    {
      "cell_type": "markdown",
      "metadata": {
        "id": "Hdd0AmCehcvz"
      },
      "source": [
        "##Prepare sequence and additional features\n",
        "\n",
        "###First, commented cell makes simple sent2vec. Second, not commented cell makes TFIDF sequences vectors"
      ]
    },
    {
      "cell_type": "code",
      "metadata": {
        "id": "SQI8fhWm07VK"
      },
      "source": [
        "# def sent2vec(texts, max_sequence_length,vocab_size):\n",
        "#     \"\"\" Create a union train set vocabulary and turn text in set\n",
        "#     into  padded sequences (word --> num )\n",
        "#     :param texts: series of prepared strings\n",
        "#            max_sequence_length: int max len of sentence in series\n",
        "#     :return ndArray with transformed series of text to int\n",
        "#             with 0-padding up to max_sequence_length\"\"\"\n",
        "        \n",
        "#     tokenizer = Tokenizer(num_words=vocab_size)\n",
        "#     tokenizer.fit_on_texts(texts)\n",
        "# #     print('vocab len',vocab_size,len(tokenizer.word_index))\n",
        "    \n",
        "#     # Turn text into  padded sequences (word --> num )\n",
        "#     text_sequences = tokenizer.texts_to_sequences(texts)\n",
        "#     return pad_sequences(text_sequences, maxlen=max_sequence_length,\n",
        "#                          dtype=\"int32\", padding=\"post\", value=0)\n",
        "    \n",
        "    "
      ],
      "execution_count": 8,
      "outputs": []
    },
    {
      "cell_type": "code",
      "metadata": {
        "id": "s26Dbrv-ho4K"
      },
      "source": [
        "def tfidf(texts,vocab_size):\n",
        "    \"\"\" Create a union train set vocabulary and turn text in set\n",
        "    into  padded sequences (word --> num )\n",
        "    :param texts: series of prepared strings\n",
        "           max_sequence_length: int max len of sentence in series\n",
        "    :return ndArray with transformed series of text to int\n",
        "            with 0-padding up to max_sequence_length\"\"\"\n",
        "        \n",
        "    tokenizer = Tokenizer(num_words=vocab_size)\n",
        "    tokenizer.fit_on_texts(texts)\n",
        "#     print('vocab len',vocab_size,len(tokenizer.word_index))\n",
        "    \n",
        "    # Turn text into  padded sequences (word --> num )\n",
        "    text_sequences = tokenizer.texts_to_sequences(texts)\n",
        "    \n",
        "    return tokenizer.sequences_to_matrix(text_sequences, mode='tfidf')\n",
        "\n"
      ],
      "execution_count": 9,
      "outputs": []
    },
    {
      "cell_type": "code",
      "metadata": {
        "id": "pzNs-crw07VR"
      },
      "source": [
        "#for test nlp\n",
        "# sent2vec_test = sent2vec(text_test, maxSequenceLength_train,vocab_size)\n",
        "\n",
        "# index_max_len_sent = train[train['clean_paragraph_len'] == maxSequenceLength_train].index \n",
        "# sent2vec_train[index_max_len_sent]\n",
        "X_meta_test = test[['sent_count','num_count','clean_paragraph_len','verb_count','contains_pron']]\n",
        "# sent2vec_test.shape, X_meta_test.shape"
      ],
      "execution_count": 10,
      "outputs": []
    },
    {
      "cell_type": "code",
      "metadata": {
        "id": "2TPvPDaj07VO"
      },
      "source": [
        "#for train nlp\n",
        "# sent2vec_train = sent2vec(text_train, maxSequenceLength_train,vocab_size)\n",
        "\n",
        "# index_max_len_sent = train[train['clean_paragraph_len'] == maxSequenceLength_train].index \n",
        "# sent2vec_train[index_max_len_sent]\n",
        "X_meta_train = train[['sent_count','num_count','clean_paragraph_len','verb_count','contains_pron']]\n",
        "# sent2vec_train.shape, X_meta_train.shape\n",
        "\n",
        "embedding_dimensions = 128\n",
        "BATCH_SIZE= 128 \n",
        "EPOCHS=200\n",
        "THRESHOLD=0.5"
      ],
      "execution_count": 11,
      "outputs": []
    },
    {
      "cell_type": "code",
      "metadata": {
        "id": "lL0RvYtQifFF"
      },
      "source": [
        "# sent2vec_train.shape, X_meta_train.shape"
      ],
      "execution_count": 12,
      "outputs": []
    },
    {
      "cell_type": "code",
      "metadata": {
        "id": "fFsg5CPDh3X6"
      },
      "source": [
        "tf_idf_train = tfidf(text_train,vocab_size)\n",
        "tf_idf_test = tfidf(text_test,vocab_size)"
      ],
      "execution_count": 13,
      "outputs": []
    },
    {
      "cell_type": "code",
      "metadata": {
        "colab": {
          "base_uri": "https://localhost:8080/"
        },
        "id": "pkptGB_BiUD4",
        "outputId": "25d83ff4-ef5e-4a7b-bdc3-5cb7991ff247"
      },
      "source": [
        "tf_idf_train.shape, tf_idf_test.shape"
      ],
      "execution_count": 14,
      "outputs": [
        {
          "output_type": "execute_result",
          "data": {
            "text/plain": [
              "((3844, 2284), (960, 2284))"
            ]
          },
          "metadata": {
            "tags": []
          },
          "execution_count": 14
        }
      ]
    },
    {
      "cell_type": "markdown",
      "metadata": {
        "id": "38vs67n4hOtc"
      },
      "source": [
        "## Create, build, train the model"
      ]
    },
    {
      "cell_type": "code",
      "metadata": {
        "id": "8fhA5vD707VT"
      },
      "source": [
        "from tensorflow.keras import regularizers\n",
        "\n",
        "def get_model(tf_idf_train,X_meta_train, results,embedding_dimensions):\n",
        "    \n",
        "    # nlp_input = Input(shape=(sent2vec_train.shape[1],)) \n",
        "\n",
        "    tf_idf_input = Input(shape=(tf_idf_train.shape[1],))\n",
        "\n",
        "    meta_input = Input(shape=(X_meta_train.shape[1],))\n",
        "\n",
        "    # emb1 = Embedding(output_dim=embedding_dimensions, \n",
        "    #                 input_dim=len(results) + 1, \n",
        "    #                 input_length=sent2vec_train.shape[1],\n",
        "    #                 mask_zero=True)(nlp_input)  # Use masking to handle the variable sequence lengths\n",
        "\n",
        "    emb2 = Embedding(output_dim=embedding_dimensions, \n",
        "                        input_dim=len(results) + 1, \n",
        "                        input_length=tf_idf_train.shape[1],\n",
        "                        mask_zero=True)(tf_idf_input)  # Use masking to handle the variable sequence lengths\n",
        "\n",
        "    # emb_concat =  tf.concat([emb1, emb2], axis=0)    \n",
        "\n",
        "    nlp_out = LSTM(128)(emb2) #\n",
        "\n",
        "    concat = tf.concat([nlp_out, meta_input], axis=1) \n",
        "\n",
        "    classifier = Dense(32,kernel_regularizer=regularizers.l2(0.005),activation='relu')(concat) \n",
        "\n",
        "    drop = Dropout(0.3)(classifier) #0.2 to avoid overfit\n",
        "\n",
        "    output = Dense(1,kernel_regularizer=regularizers.l2(0.005), activation='sigmoid')(drop) \n",
        "\n",
        "    model = Model(inputs=[tf_idf_input , meta_input], outputs=[output])\n",
        "\n",
        "    \n",
        "    return model"
      ],
      "execution_count": 15,
      "outputs": []
    },
    {
      "cell_type": "code",
      "metadata": {
        "id": "lrp93s4n07VY"
      },
      "source": [
        "concat_lstm = get_model(tf_idf_train,X_meta_train, results,embedding_dimensions)"
      ],
      "execution_count": 16,
      "outputs": []
    },
    {
      "cell_type": "code",
      "metadata": {
        "scrolled": false,
        "colab": {
          "base_uri": "https://localhost:8080/"
        },
        "id": "XG3IP83s07Va",
        "outputId": "e74cb4d6-0b1e-4b60-cd69-7105d1e67ff4"
      },
      "source": [
        "concat_biLstm.summary()"
      ],
      "execution_count": 17,
      "outputs": [
        {
          "output_type": "stream",
          "text": [
            "Model: \"model\"\n",
            "__________________________________________________________________________________________________\n",
            "Layer (type)                    Output Shape         Param #     Connected to                     \n",
            "==================================================================================================\n",
            "input_1 (InputLayer)            [(None, 2284)]       0                                            \n",
            "__________________________________________________________________________________________________\n",
            "embedding (Embedding)           (None, 2284, 128)    292480      input_1[0][0]                    \n",
            "__________________________________________________________________________________________________\n",
            "lstm (LSTM)                     (None, 128)          131584      embedding[0][0]                  \n",
            "__________________________________________________________________________________________________\n",
            "input_2 (InputLayer)            [(None, 5)]          0                                            \n",
            "__________________________________________________________________________________________________\n",
            "tf.concat (TFOpLambda)          (None, 133)          0           lstm[0][0]                       \n",
            "                                                                 input_2[0][0]                    \n",
            "__________________________________________________________________________________________________\n",
            "dense (Dense)                   (None, 32)           4288        tf.concat[0][0]                  \n",
            "__________________________________________________________________________________________________\n",
            "dropout (Dropout)               (None, 32)           0           dense[0][0]                      \n",
            "__________________________________________________________________________________________________\n",
            "dense_1 (Dense)                 (None, 1)            33          dropout[0][0]                    \n",
            "==================================================================================================\n",
            "Total params: 428,385\n",
            "Trainable params: 428,385\n",
            "Non-trainable params: 0\n",
            "__________________________________________________________________________________________________\n"
          ],
          "name": "stdout"
        }
      ]
    },
    {
      "cell_type": "code",
      "metadata": {
        "id": "9mZh3qhE07Vc"
      },
      "source": [
        "concat_lstm.compile(optimizer='adam',\n",
        "                  loss='binary_crossentropy',\n",
        "                  metrics=[tf.keras.metrics.Recall(),\n",
        "                           tf.keras.metrics.Precision(),\n",
        "                           'accuracy',\n",
        "                           tf.keras.metrics.AUC()])"
      ],
      "execution_count": 18,
      "outputs": []
    },
    {
      "cell_type": "code",
      "metadata": {
        "colab": {
          "base_uri": "https://localhost:8080/"
        },
        "id": "Z-TGv_v907Ve",
        "outputId": "5badcd67-12c3-4977-dd30-3ad207357752"
      },
      "source": [
        "es = tf.keras.callbacks.EarlyStopping(monitor='val_loss'\n",
        "          , mode='min')\n",
        "callbacks=[es]\n",
        "history = concat_lstm.fit([tf_idf_train,X_meta_train], y_train\n",
        "                    , batch_size=BATCH_SIZE\n",
        "                    , epochs=EPOCHS\n",
        "                    , validation_split=0.2\n",
        "                    , callbacks=callbacks)"
      ],
      "execution_count": 19,
      "outputs": [
        {
          "output_type": "stream",
          "text": [
            "Epoch 1/200\n",
            "25/25 [==============================] - 144s 6s/step - loss: 0.8140 - recall: 0.0822 - precision: 0.2632 - accuracy: 0.7623 - auc: 0.5824 - val_loss: 0.5429 - val_recall: 0.1722 - val_precision: 1.0000 - val_accuracy: 0.8375 - val_auc: 0.9576\n",
            "Epoch 2/200\n",
            "25/25 [==============================] - 134s 5s/step - loss: 0.5474 - recall: 0.2901 - precision: 0.9177 - accuracy: 0.8529 - auc: 0.8885 - val_loss: 0.4170 - val_recall: 0.4768 - val_precision: 1.0000 - val_accuracy: 0.8973 - val_auc: 0.9884\n",
            "Epoch 3/200\n",
            "25/25 [==============================] - 135s 5s/step - loss: 0.4300 - recall: 0.4462 - precision: 0.9235 - accuracy: 0.8804 - auc: 0.9553 - val_loss: 0.3060 - val_recall: 0.7417 - val_precision: 1.0000 - val_accuracy: 0.9493 - val_auc: 0.9905\n",
            "Epoch 4/200\n",
            "25/25 [==============================] - 135s 5s/step - loss: 0.3409 - recall: 0.5972 - precision: 0.9519 - accuracy: 0.9129 - auc: 0.9658 - val_loss: 0.2477 - val_recall: 0.9139 - val_precision: 0.9583 - val_accuracy: 0.9753 - val_auc: 0.9844\n",
            "Epoch 5/200\n",
            "25/25 [==============================] - 133s 5s/step - loss: 0.2764 - recall: 0.8201 - precision: 0.9072 - accuracy: 0.9491 - auc: 0.9704 - val_loss: 0.1996 - val_recall: 0.9073 - val_precision: 0.9856 - val_accuracy: 0.9792 - val_auc: 0.9853\n",
            "Epoch 6/200\n",
            "25/25 [==============================] - 132s 5s/step - loss: 0.2266 - recall: 0.8493 - precision: 0.9508 - accuracy: 0.9605 - auc: 0.9794 - val_loss: 0.1765 - val_recall: 0.9073 - val_precision: 0.9786 - val_accuracy: 0.9779 - val_auc: 0.9926\n",
            "Epoch 7/200\n",
            "25/25 [==============================] - 132s 5s/step - loss: 0.2091 - recall: 0.8599 - precision: 0.9581 - accuracy: 0.9643 - auc: 0.9797 - val_loss: 0.1593 - val_recall: 0.9007 - val_precision: 0.9855 - val_accuracy: 0.9779 - val_auc: 0.9905\n",
            "Epoch 8/200\n",
            "25/25 [==============================] - 133s 5s/step - loss: 0.1918 - recall: 0.8509 - precision: 0.9687 - accuracy: 0.9632 - auc: 0.9810 - val_loss: 0.1478 - val_recall: 0.8940 - val_precision: 0.9783 - val_accuracy: 0.9753 - val_auc: 0.9944\n",
            "Epoch 9/200\n",
            "25/25 [==============================] - 131s 5s/step - loss: 0.1688 - recall: 0.8537 - precision: 0.9673 - accuracy: 0.9649 - auc: 0.9879 - val_loss: 0.1384 - val_recall: 0.9007 - val_precision: 0.9784 - val_accuracy: 0.9766 - val_auc: 0.9951\n",
            "Epoch 10/200\n",
            "25/25 [==============================] - 133s 5s/step - loss: 0.1660 - recall: 0.8691 - precision: 0.9541 - accuracy: 0.9641 - auc: 0.9875 - val_loss: 0.1287 - val_recall: 0.9073 - val_precision: 0.9716 - val_accuracy: 0.9766 - val_auc: 0.9947\n",
            "Epoch 11/200\n",
            "25/25 [==============================] - 138s 6s/step - loss: 0.1559 - recall: 0.8815 - precision: 0.9523 - accuracy: 0.9657 - auc: 0.9888 - val_loss: 0.1226 - val_recall: 0.9205 - val_precision: 0.9720 - val_accuracy: 0.9792 - val_auc: 0.9936\n",
            "Epoch 12/200\n",
            "25/25 [==============================] - 135s 5s/step - loss: 0.1450 - recall: 0.8853 - precision: 0.9684 - accuracy: 0.9696 - auc: 0.9895 - val_loss: 0.1225 - val_recall: 0.9007 - val_precision: 0.9645 - val_accuracy: 0.9740 - val_auc: 0.9956\n",
            "Epoch 13/200\n",
            "25/25 [==============================] - 139s 6s/step - loss: 0.1421 - recall: 0.8765 - precision: 0.9606 - accuracy: 0.9670 - auc: 0.9912 - val_loss: 0.1147 - val_recall: 0.9205 - val_precision: 0.9653 - val_accuracy: 0.9779 - val_auc: 0.9951\n",
            "Epoch 14/200\n",
            "25/25 [==============================] - 135s 5s/step - loss: 0.1408 - recall: 0.8996 - precision: 0.9455 - accuracy: 0.9694 - auc: 0.9899 - val_loss: 0.1143 - val_recall: 0.9205 - val_precision: 0.9653 - val_accuracy: 0.9779 - val_auc: 0.9953\n",
            "Epoch 15/200\n",
            "25/25 [==============================] - 138s 6s/step - loss: 0.1357 - recall: 0.8899 - precision: 0.9431 - accuracy: 0.9669 - auc: 0.9937 - val_loss: 0.1065 - val_recall: 0.9205 - val_precision: 0.9720 - val_accuracy: 0.9792 - val_auc: 0.9951\n",
            "Epoch 16/200\n",
            "25/25 [==============================] - 134s 5s/step - loss: 0.1461 - recall: 0.8600 - precision: 0.9587 - accuracy: 0.9639 - auc: 0.9847 - val_loss: 0.1051 - val_recall: 0.9205 - val_precision: 0.9720 - val_accuracy: 0.9792 - val_auc: 0.9957\n",
            "Epoch 17/200\n",
            "25/25 [==============================] - 138s 6s/step - loss: 0.1453 - recall: 0.8508 - precision: 0.9664 - accuracy: 0.9642 - auc: 0.9881 - val_loss: 0.1075 - val_recall: 0.9205 - val_precision: 0.9586 - val_accuracy: 0.9766 - val_auc: 0.9958\n"
          ],
          "name": "stdout"
        }
      ]
    },
    {
      "cell_type": "markdown",
      "metadata": {
        "id": "_1cy7mqnhFgI"
      },
      "source": [
        "##Evaluate the model"
      ]
    },
    {
      "cell_type": "code",
      "metadata": {
        "colab": {
          "base_uri": "https://localhost:8080/"
        },
        "id": "rOhTwg7607Vh",
        "outputId": "b25bb8b2-c34f-422e-d383-104faccf127f"
      },
      "source": [
        "score = concat_lstm.evaluate([tf_idf_test,X_meta_test], y_test,\n",
        "                       batch_size=BATCH_SIZE, verbose=1)\n",
        "print()\n",
        "print(u'Model Loss score: {}'.format(score[0]))\n",
        "print(u'Model Recall class 1 Evaluation : {}'.format(score[1]))\n"
      ],
      "execution_count": 20,
      "outputs": [
        {
          "output_type": "stream",
          "text": [
            "8/8 [==============================] - 3s 431ms/step - loss: 0.1068 - recall: 0.9282 - precision: 0.9628 - accuracy: 0.9781 - auc: 0.9967\n",
            "\n",
            "Model Loss score: 0.1067771166563034\n",
            "Model Recall class 1 Evaluation : 0.928205132484436\n"
          ],
          "name": "stdout"
        }
      ]
    },
    {
      "cell_type": "code",
      "metadata": {
        "colab": {
          "base_uri": "https://localhost:8080/"
        },
        "id": "B5KJkQTaAGxe",
        "outputId": "340b839e-39e8-4aef-9895-e444bbfb41c6"
      },
      "source": [
        "for i,j in zip(['Loss','Recall','Precision','Accuracy','AUC'],score):\n",
        "  print(i,j)"
      ],
      "execution_count": 21,
      "outputs": [
        {
          "output_type": "stream",
          "text": [
            "Loss 0.1067771166563034\n",
            "Recall 0.928205132484436\n",
            "Precision 0.9627659320831299\n",
            "Accuracy 0.9781249761581421\n",
            "AUC 0.9967353940010071\n"
          ],
          "name": "stdout"
        }
      ]
    },
    {
      "cell_type": "markdown",
      "metadata": {
        "id": "A1BZFTGGgvLJ"
      },
      "source": [
        "##Plot the loss. (On the legend are loss and recall values)"
      ]
    },
    {
      "cell_type": "code",
      "metadata": {
        "colab": {
          "base_uri": "https://localhost:8080/",
          "height": 294
        },
        "id": "GW0L8V9r07Vi",
        "outputId": "d279d5af-bcb7-48a5-9325-8f251401c01d"
      },
      "source": [
        "import matplotlib.pyplot as plt\n",
        "%matplotlib inline\n",
        "import warnings\n",
        "warnings.simplefilter(action='ignore')\n",
        "warnings.filterwarnings('ignore')\n",
        "\n",
        "#plot the accuracy \n",
        "plt.figure(figsize=(15,4))\n",
        "plt.plot(history.history['loss'], 'r', label=f'loss {round(score[0],2)}')\n",
        "plt.plot(history.history['val_loss'], 'g--', label=f'val_loss {round(score[1],2)}')\n",
        "plt.xlabel('Epoch')\n",
        "plt.ylabel('Loss')\n",
        "\n",
        "plt.title('The Loss vs val_Loss LSTM concat, activation = relu')\n",
        "plt.legend(loc='best');"
      ],
      "execution_count": 22,
      "outputs": [
        {
          "output_type": "display_data",
          "data": {
            "image/png": "[encoded data removed]",
            "text/plain": [
              "<Figure size 1080x288 with 1 Axes>"
            ]
          },
          "metadata": {
            "tags": [],
            "needs_background": "light"
          }
        }
      ]
    },
    {
      "cell_type": "markdown",
      "metadata": {
        "id": "hV5S5aMl07Vj"
      },
      "source": [
        "### Saving/restoring the model"
      ]
    },
    {
      "cell_type": "code",
      "metadata": {
        "id": "acm12uSK07Vp"
      },
      "source": [
        "# concat_biLstm.save('/content/drive/MyDrive/ai_assignment_aidock/data/my_model-92-11-tfidf.h5')"
      ],
      "execution_count": 29,
      "outputs": []
    },
    {
      "cell_type": "markdown",
      "metadata": {
        "id": "eEgLo3KILA3o"
      },
      "source": [
        "# New Section"
      ]
    },
    {
      "cell_type": "code",
      "metadata": {
        "id": "UOXC5A2q07Vr"
      },
      "source": [
        "# new_model = tf.keras.models.load_model('my_model3.h5')"
      ],
      "execution_count": 24,
      "outputs": []
    },
    {
      "cell_type": "code",
      "metadata": {
        "id": "9PNe9GRI07Vt"
      },
      "source": [
        "# new_model.summary()"
      ],
      "execution_count": 25,
      "outputs": []
    },
    {
      "cell_type": "markdown",
      "metadata": {
        "id": "lIGOacXI47Kg"
      },
      "source": [
        "## All in one cell\n",
        "\n",
        "### The code doesn't run on my laptop - not enough powers, only googlecollab\n",
        "\n",
        "\n",
        "### different in dropout layer: 0.3 in the model abow and  0.2 in the model below"
      ]
    },
    {
      "cell_type": "code",
      "metadata": {
        "id": "WV41owF607Vv",
        "colab": {
          "base_uri": "https://localhost:8080/",
          "height": 1000
        },
        "outputId": "ec786ce4-9a66-472c-eff1-0e3327a4d2f9"
      },
      "source": [
        "import tensorflow\n",
        "import matplotlib.pyplot as plt\n",
        "import pandas as pd\n",
        "\n",
        "BATCH_SIZE = 128\n",
        "EPOCHS = 200 \n",
        "MODEL_NAME = '/content/drive/MyDrive/ai_assignment_aidock/data/my_model.h5'\n",
        "TRAIN_DATA_CLEAN = '/content/drive/MyDrive/ai_assignment_aidock/data/train_data_clean.pkl'\n",
        "TEST_DATA_CLEAN = '/content/drive/MyDrive/ai_assignment_aidock/data/test_data_clean.pkl'\n",
        "EMBEDDING_DIM = 128\n",
        "THRESHOLD=0.5\n",
        "\n",
        "def tfidf(texts, vocab_size):\n",
        "    \"\"\" Create a union train set vocabulary and turn text in set\n",
        "    into  padded sequences (word --> num )\n",
        "    :param texts: series of prepared strings\n",
        "           max_sequence_length: int max len of sentence in series\n",
        "    :return ndArray with transformed series of text to arrays of float Tf-IdF coefficients\"\"\"\n",
        "\n",
        "    tokenizer = Tokenizer(num_words=vocab_size)\n",
        "    tokenizer.fit_on_texts(texts)\n",
        "\n",
        "    # Turn text into  padded sequences (word --> num )\n",
        "    text_sequences = tokenizer.texts_to_sequences(texts)\n",
        "\n",
        "    return tokenizer.sequences_to_matrix(text_sequences, mode='tfidf')\n",
        "\n",
        "\n",
        "\n",
        "\n",
        "def get_model(tf_idf_train, X_meta_train, results,\n",
        "              embedding_dimensions=EMBEDDING_DIM):  # TODO move it into model_train.py\n",
        "    \"\"\"\n",
        "    The function creates the model for 2 different input data:\n",
        "    NLP set and additional features not NLP set\n",
        "    Layers: Embedding - TFIDF MATRIX Use masking to handle the variable sequence lengths,\n",
        "            BiLSTM, concatenation of 2 data types,\n",
        "            Dense/fully connected layer with activation function \"relu\",\n",
        "            Dropout layer to avoid overfitting,\n",
        "            Dense/fully connected layer with activation function \"sigmoid\"\n",
        "            All hyper-parameters as constants are in config.py\n",
        "    :params tf_idf_train: ndArray(ndArray(int)) - a set with tfidf vectors\n",
        "    :params X_meta_train: ndArray(int))- a set with non-nlp features\n",
        "    :params results: set{str} - word vocabulary of the train set (config.VOCAB_SIZE=2263)\n",
        "    :params embedding_dimensions:int hyper-parameter, can be done as = int(len(results)**0.25)\n",
        "    :return a model\n",
        "    \"\"\"\n",
        "    nlp_input = Input(shape=(tf_idf_train.shape[1],))\n",
        "\n",
        "    meta_input = Input(shape=(X_meta_train.shape[1],))\n",
        "\n",
        "    emb = Embedding(output_dim=embedding_dimensions,\n",
        "                    input_dim=len(results) + 1,\n",
        "                    input_length=tf_idf_train.shape[1],\n",
        "                    mask_zero=True)(nlp_input)\n",
        "\n",
        "    nlp_out = LSTM(128)(emb)\n",
        "\n",
        "    concat = tensorflow.concat([nlp_out, meta_input], axis=1)\n",
        "\n",
        "    classifier = Dense(32, kernel_regularizer=regularizers.l2(0.005), activation='relu')(concat)\n",
        "\n",
        "    drop = Dropout(0.2)(classifier)\n",
        "\n",
        "    output = Dense(1, kernel_regularizer=regularizers.l2(0.005), activation='sigmoid')(drop)\n",
        "    model = Model(inputs=[nlp_input, meta_input], outputs=[output])\n",
        "\n",
        "    return model\n",
        "\n",
        "\n",
        "\n",
        "def model_train(train_data_clean_path= TRAIN_DATA_CLEAN, test_data_clean_path=TEST_DATA_CLEAN):\n",
        "    \"\"\"Read train and test data from pkl files\n",
        "            count max len sent/sequence\n",
        "            count vocabulary size\n",
        "            transform data into sequences\n",
        "            split data into nlp and meta sets for test and train\n",
        "            train the model, evaluate and plot loss vs val_loss\n",
        "            save the model into 'data/lstm_concat-86-85.h5' file\n",
        "    :param train_data_clean_path: str - default  config.TRAIN_DATA_CLEAN\n",
        "    :param test_data_clean_path: str - default config.TEST_DATA_CLEAN\n",
        "    :return void\n",
        "    \"\"\"\n",
        "\n",
        "    train_data_clean = pd.read_pickle(train_data_clean_path)\n",
        "    print(f'In train {round(train_data_clean.label.value_counts() / len(train_data_clean) * 100, 2)}')\n",
        "\n",
        "    test_data_clean = pd.read_pickle(test_data_clean_path)\n",
        "    print(f'In test {round(test_data_clean.label.value_counts() / len(test_data_clean) * 100, 2)}')\n",
        "\n",
        "    # max len sequence count will be constanta at the end  (it is 121 in train - we will use it)\n",
        "    max_sequence_length = train_data_clean['clean_paragraph_len'].max()\n",
        "    print(f'The max_sequence_len is {max_sequence_length}')\n",
        "    # vocab_size - count in train set\n",
        "    results = set()\n",
        "    train_data_clean.remove_stop_words.str.split().apply(results.update)\n",
        "    vocab_size = len(results)\n",
        "    print(f'The vocab_size is {vocab_size}')\n",
        "\n",
        "    # sent to sequence only for  NLP TRAIN\n",
        "    tf_idf_train = tfidf(train_data_clean.remove_stop_words, vocab_size)\n",
        "    # for other features train\n",
        "    X_meta_train = train_data_clean[['sent_count', 'num_count', 'clean_paragraph_len', 'verb_count','contains_pron']]\n",
        "    y_train = train_data_clean['label']\n",
        "\n",
        "    # for NLP TEST\n",
        "    tf_idf_test = tfidf(test_data_clean.remove_stop_words, vocab_size)\n",
        "    # for other features test\n",
        "    X_meta_test = test_data_clean[['sent_count', 'num_count', 'clean_paragraph_len', 'verb_count','contains_pron']]\n",
        "    y_test = test_data_clean['label']\n",
        "\n",
        "    # create and train the MODEL\n",
        "    model = get_model(tf_idf_train, X_meta_train, results)\n",
        "    model.compile(optimizer='adam',\n",
        "                          loss='binary_crossentropy',\n",
        "                          metrics=[tensorflow.keras.metrics.Recall(),\n",
        "                                   tensorflow.keras.metrics.Precision(),\n",
        "                                   'accuracy',\n",
        "                                   tensorflow.keras.metrics.AUC()])\n",
        "    es = tensorflow.keras.callbacks.EarlyStopping(monitor='val_loss')\n",
        "    history = model.fit([tf_idf_train, X_meta_train],\n",
        "                                y_train,\n",
        "                                batch_size=BATCH_SIZE,\n",
        "                                epochs=EPOCHS,\n",
        "                                validation_split=0.2,\n",
        "                                callbacks=[es])\n",
        "    # evaluate the model\n",
        "    score = model.evaluate([tf_idf_test, X_meta_test], y_test, batch_size=BATCH_SIZE, verbose=1)\n",
        "    print(f'Model Loss score: {round(score[0], 2)}')\n",
        "    print(f'Model Recall score: {round(score[1], 2)}')\n",
        "    print(f'Model Precision score: {round(score[2], 2)}')\n",
        "    print(f'Model Accuracy Evaluation : {round(score[3], 2)}')\n",
        "    print(f'Model AUC Evaluation : {round(score[4], 2)}')\n",
        "\n",
        "\n",
        "    # plot the loss\n",
        "    plt.figure(figsize=(15, 4))\n",
        "    plt.plot(history.history['loss'], 'r', label=f'loss  ')\n",
        "    plt.plot(history.history['val_loss'], 'g--', label=f'val_loss ')\n",
        "    plt.xlabel('Epoch')\n",
        "    plt.ylabel('Loss')\n",
        "    plt.title('The Loss vs val_Loss LSTM Concat, activation = relu')\n",
        "    plt.legend(loc='best')\n",
        "    plt.show()\n",
        "\n",
        "    model.save(MODEL_NAME)\n",
        "    print(f'The model is saved to {MODEL_NAME}')\n",
        "\n",
        "\n",
        "# if __name__ == '__main__':\n",
        "model_train()\n"
      ],
      "execution_count": 27,
      "outputs": [
        {
          "output_type": "stream",
          "text": [
            "In train 0    79.71\n",
            "1    20.29\n",
            "Name: label, dtype: float64\n",
            "In test 0    79.69\n",
            "1    20.31\n",
            "Name: label, dtype: float64\n",
            "The max_sequence_len is 121\n",
            "The vocab_size is 2284\n",
            "Epoch 1/200\n",
            "25/25 [==============================] - 143s 6s/step - loss: 3.3670 - recall_1: 0.8009 - precision_1: 0.2089 - accuracy: 0.3254 - auc_1: 0.5010 - val_loss: 0.8640 - val_recall_1: 0.0000e+00 - val_precision_1: 0.0000e+00 - val_accuracy: 0.7997 - val_auc_1: 0.5462\n",
            "Epoch 2/200\n",
            "25/25 [==============================] - 137s 5s/step - loss: 0.8740 - recall_1: 0.0902 - precision_1: 0.2778 - accuracy: 0.7618 - auc_1: 0.5441 - val_loss: 0.6239 - val_recall_1: 0.0331 - val_precision_1: 0.7143 - val_accuracy: 0.8075 - val_auc_1: 0.7894\n",
            "Epoch 3/200\n",
            "25/25 [==============================] - 134s 5s/step - loss: 0.6827 - recall_1: 0.1184 - precision_1: 0.4875 - accuracy: 0.7889 - auc_1: 0.6867 - val_loss: 0.5424 - val_recall_1: 0.0397 - val_precision_1: 1.0000 - val_accuracy: 0.8114 - val_auc_1: 0.8930\n",
            "Epoch 4/200\n",
            "25/25 [==============================] - 135s 5s/step - loss: 0.5995 - recall_1: 0.1387 - precision_1: 0.5854 - accuracy: 0.7997 - auc_1: 0.7773 - val_loss: 0.4653 - val_recall_1: 0.1126 - val_precision_1: 1.0000 - val_accuracy: 0.8257 - val_auc_1: 0.9699\n",
            "Epoch 5/200\n",
            "25/25 [==============================] - 137s 6s/step - loss: 0.5091 - recall_1: 0.2241 - precision_1: 0.7578 - accuracy: 0.8296 - auc_1: 0.8770 - val_loss: 0.4143 - val_recall_1: 0.2649 - val_precision_1: 1.0000 - val_accuracy: 0.8557 - val_auc_1: 0.9857\n",
            "Epoch 6/200\n",
            "25/25 [==============================] - 133s 5s/step - loss: 0.4653 - recall_1: 0.3220 - precision_1: 0.8969 - accuracy: 0.8440 - auc_1: 0.9182 - val_loss: 0.3691 - val_recall_1: 0.5430 - val_precision_1: 1.0000 - val_accuracy: 0.9103 - val_auc_1: 0.9935\n",
            "Epoch 7/200\n",
            "25/25 [==============================] - 131s 5s/step - loss: 0.4112 - recall_1: 0.4490 - precision_1: 0.9441 - accuracy: 0.8794 - auc_1: 0.9511 - val_loss: 0.3341 - val_recall_1: 0.6556 - val_precision_1: 0.9900 - val_accuracy: 0.9311 - val_auc_1: 0.9930\n",
            "Epoch 8/200\n",
            "25/25 [==============================] - 130s 5s/step - loss: 0.3682 - recall_1: 0.5760 - precision_1: 0.9315 - accuracy: 0.9102 - auc_1: 0.9631 - val_loss: 0.3027 - val_recall_1: 0.7947 - val_precision_1: 0.9836 - val_accuracy: 0.9571 - val_auc_1: 0.9942\n",
            "Epoch 9/200\n",
            "25/25 [==============================] - 131s 5s/step - loss: 0.3487 - recall_1: 0.6490 - precision_1: 0.9352 - accuracy: 0.9172 - auc_1: 0.9652 - val_loss: 0.2756 - val_recall_1: 0.8079 - val_precision_1: 0.9839 - val_accuracy: 0.9597 - val_auc_1: 0.9940\n",
            "Epoch 10/200\n",
            "25/25 [==============================] - 129s 5s/step - loss: 0.3126 - recall_1: 0.6935 - precision_1: 0.9314 - accuracy: 0.9266 - auc_1: 0.9766 - val_loss: 0.2515 - val_recall_1: 0.8344 - val_precision_1: 0.9767 - val_accuracy: 0.9636 - val_auc_1: 0.9942\n",
            "Epoch 11/200\n",
            "25/25 [==============================] - 133s 5s/step - loss: 0.2908 - recall_1: 0.7635 - precision_1: 0.9223 - accuracy: 0.9394 - auc_1: 0.9771 - val_loss: 0.2300 - val_recall_1: 0.8411 - val_precision_1: 1.0000 - val_accuracy: 0.9688 - val_auc_1: 0.9947\n",
            "Epoch 12/200\n",
            "25/25 [==============================] - 133s 5s/step - loss: 0.2680 - recall_1: 0.7546 - precision_1: 0.9369 - accuracy: 0.9391 - auc_1: 0.9776 - val_loss: 0.2021 - val_recall_1: 0.8675 - val_precision_1: 0.9850 - val_accuracy: 0.9714 - val_auc_1: 0.9941\n",
            "Epoch 13/200\n",
            "25/25 [==============================] - 133s 5s/step - loss: 0.2479 - recall_1: 0.7927 - precision_1: 0.9292 - accuracy: 0.9469 - auc_1: 0.9781 - val_loss: 0.1821 - val_recall_1: 0.9073 - val_precision_1: 0.9856 - val_accuracy: 0.9792 - val_auc_1: 0.9927\n",
            "Epoch 14/200\n",
            "25/25 [==============================] - 133s 5s/step - loss: 0.2207 - recall_1: 0.8521 - precision_1: 0.9528 - accuracy: 0.9624 - auc_1: 0.9775 - val_loss: 0.1751 - val_recall_1: 0.9073 - val_precision_1: 0.9716 - val_accuracy: 0.9766 - val_auc_1: 0.9950\n",
            "Epoch 15/200\n",
            "25/25 [==============================] - 132s 5s/step - loss: 0.2073 - recall_1: 0.8173 - precision_1: 0.9522 - accuracy: 0.9545 - auc_1: 0.9870 - val_loss: 0.1649 - val_recall_1: 0.9205 - val_precision_1: 0.9653 - val_accuracy: 0.9779 - val_auc_1: 0.9943\n",
            "Epoch 16/200\n",
            "25/25 [==============================] - 134s 5s/step - loss: 0.2095 - recall_1: 0.8416 - precision_1: 0.9391 - accuracy: 0.9547 - auc_1: 0.9820 - val_loss: 0.1564 - val_recall_1: 0.9139 - val_precision_1: 0.9718 - val_accuracy: 0.9779 - val_auc_1: 0.9943\n",
            "Epoch 17/200\n",
            "25/25 [==============================] - 131s 5s/step - loss: 0.1900 - recall_1: 0.8512 - precision_1: 0.9408 - accuracy: 0.9598 - auc_1: 0.9855 - val_loss: 0.1549 - val_recall_1: 0.9007 - val_precision_1: 0.9714 - val_accuracy: 0.9753 - val_auc_1: 0.9948\n",
            "Epoch 18/200\n",
            "25/25 [==============================] - 133s 5s/step - loss: 0.1900 - recall_1: 0.8349 - precision_1: 0.9652 - accuracy: 0.9606 - auc_1: 0.9844 - val_loss: 0.1502 - val_recall_1: 0.9139 - val_precision_1: 0.9718 - val_accuracy: 0.9779 - val_auc_1: 0.9948\n",
            "Epoch 19/200\n",
            "25/25 [==============================] - 131s 5s/step - loss: 0.1812 - recall_1: 0.8582 - precision_1: 0.9554 - accuracy: 0.9610 - auc_1: 0.9881 - val_loss: 0.1402 - val_recall_1: 0.9205 - val_precision_1: 0.9720 - val_accuracy: 0.9792 - val_auc_1: 0.9944\n",
            "Epoch 20/200\n",
            "25/25 [==============================] - 134s 5s/step - loss: 0.1785 - recall_1: 0.8444 - precision_1: 0.9590 - accuracy: 0.9600 - auc_1: 0.9861 - val_loss: 0.1368 - val_recall_1: 0.9205 - val_precision_1: 0.9653 - val_accuracy: 0.9779 - val_auc_1: 0.9941\n",
            "Epoch 21/200\n",
            "25/25 [==============================] - 131s 5s/step - loss: 0.1584 - recall_1: 0.8832 - precision_1: 0.9686 - accuracy: 0.9704 - auc_1: 0.9899 - val_loss: 0.1433 - val_recall_1: 0.9205 - val_precision_1: 0.9521 - val_accuracy: 0.9753 - val_auc_1: 0.9945\n",
            "8/8 [==============================] - 3s 403ms/step - loss: 0.1428 - recall_1: 0.9487 - precision_1: 0.9439 - accuracy: 0.9781 - auc_1: 0.9964\n",
            "Model Loss score: 0.14\n",
            "Model Recall score: 0.95\n",
            "Model Precision score: 0.94\n",
            "Model Accuracy Evaluation : 0.98\n",
            "Model AUC Evaluation : 1.0\n"
          ],
          "name": "stdout"
        },
        {
          "output_type": "display_data",
          "data": {
            "image/png": "[encoded data removed]",
            "text/plain": [
              "<Figure size 1080x288 with 1 Axes>"
            ]
          },
          "metadata": {
            "tags": [],
            "needs_background": "light"
          }
        },
        {
          "output_type": "stream",
          "text": [
            "The model is saved to /content/drive/MyDrive/ai_assignment_aidock/data/my_model.h5\n"
          ],
          "name": "stdout"
        }
      ]
    },
    {
      "cell_type": "markdown",
      "metadata": {
        "id": "kN5F9Pfq6Ejz"
      },
      "source": [
        ""
      ]
    }
  ]
}