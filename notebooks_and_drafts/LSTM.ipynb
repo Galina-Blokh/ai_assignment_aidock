{
 "nbformat": 4,
 "nbformat_minor": 0,
 "metadata": {
  "kernelspec": {
   "display_name": "Python 3",
   "language": "python",
   "name": "python3"
  },
  "language_info": {
   "codemirror_mode": {
    "name": "ipython",
    "version": 3
   },
   "file_extension": ".py",
   "mimetype": "text/x-python",
   "name": "python",
   "nbconvert_exporter": "python",
   "pygments_lexer": "ipython3",
   "version": "3.8.5"
  },
  "colab": {
   "name": "biLSTM.ipynb",
   "provenance": [],
   "collapsed_sections": []
  },
  "accelerator": "GPU"
 },
 "cells": [
  {
   "cell_type": "code",
   "metadata": {
    "id": "YnWcbPXH07Tl"
   },
   "source": [
    "import tensorflow as tf\n",
    "from tensorflow.keras.preprocessing.sequence import pad_sequences\n",
    "from tensorflow.keras.layers import Input,Dense, Dropout, LSTM, Embedding, Bidirectional\n",
    "from tensorflow.keras.models import Sequential\n",
    "from tensorflow.keras import Model\n",
    "from tensorflow.keras.preprocessing.text import Tokenizer\n",
    "from tensorflow.keras.preprocessing.sequence import pad_sequences\n",
    "from tensorflow.keras.utils import to_categorical\n",
    "from tensorflow.keras.callbacks import TensorBoard\n",
    "import numpy as np\n",
    "import pickle\n",
    "import random\n",
    "import os\n",
    "import pandas as pd\n",
    "import re\n",
    "pd.set_option('display.max_colwidth', None)"
   ],
   "execution_count": 1,
   "outputs": []
  },
  {
   "cell_type": "code",
   "metadata": {
    "colab": {
     "base_uri": "https://localhost:8080/"
    },
    "id": "GTY7-iLd1LRo",
    "outputId": "a6d9cb99-87fd-4c6a-fb3c-2492ab0c6227"
   },
   "source": [
    "# from google.colab import drive\n",
    "# drive.mount('/content/drive')\n",
    "#"
   ],
   "execution_count": 2,
   "outputs": [
    {
     "output_type": "stream",
     "text": [
      "Drive already mounted at /content/drive; to attempt to forcibly remount, call drive.mount(\"/content/drive\", force_remount=True).\n"
     ],
     "name": "stdout"
    }
   ]
  },
  {
   "cell_type": "markdown",
   "metadata": {
    "id": "PTd5uvNPh4Am"
   },
   "source": [
    "##Load the data"
   ]
  },
  {
   "cell_type": "code",
   "metadata": {
    "colab": {
     "base_uri": "https://localhost:8080/"
    },
    "id": "x-DL99uT07U2",
    "outputId": "5fd620d9-5210-4e1a-f1ef-51982bd9a84f"
   },
   "source": [
    "train = pd.read_pickle('/content/drive/MyDrive/ai_assignment_aidock/data/train_data_clean.pkl')\n",
    "round(train['label'].value_counts()/len(train)*100,2)"
   ],
   "execution_count": 3,
   "outputs": [
    {
     "output_type": "execute_result",
     "data": {
      "text/plain": [
       "0    79.72\n",
       "1    20.28\n",
       "Name: label, dtype: float64"
      ]
     },
     "metadata": {
      "tags": []
     },
     "execution_count": 3
    }
   ]
  },
  {
   "cell_type": "code",
   "metadata": {
    "colab": {
     "base_uri": "https://localhost:8080/"
    },
    "id": "fPY_G8bM07U9",
    "outputId": "e81ec07a-c0ec-418f-c3cc-84fc91564227"
   },
   "source": [
    "\n",
    "test = pd.read_pickle('/content/drive/MyDrive/ai_assignment_aidock/data/test_data_clean.pkl')\n",
    "round(test['label'].value_counts()/len(test)*100,2)"
   ],
   "execution_count": 4,
   "outputs": [
    {
     "output_type": "execute_result",
     "data": {
      "text/plain": [
       "0    79.71\n",
       "1    20.29\n",
       "Name: label, dtype: float64"
      ]
     },
     "metadata": {
      "tags": []
     },
     "execution_count": 4
    }
   ]
  },
  {
   "cell_type": "code",
   "metadata": {
    "id": "Q5jJmYr_07VC"
   },
   "source": [
    "#Sentences array for train and test sets + target variable for train and test\n",
    "text_train = train['remove_stop_words']\n",
    "y_train = train['label']\n",
    "\n",
    "text_test = test['remove_stop_words']\n",
    "y_test = test['label']\n"
   ],
   "execution_count": 6,
   "outputs": []
  },
  {
   "cell_type": "markdown",
   "metadata": {
    "id": "rvqPd6xehj5o"
   },
   "source": [
    "##Count hyper parameters"
   ]
  },
  {
   "cell_type": "code",
   "metadata": {
    "colab": {
     "base_uri": "https://localhost:8080/"
    },
    "id": "Flq1anA607VE",
    "outputId": "ca7da626-0ae2-4be4-9078-1a2eb7ad4243"
   },
   "source": [
    "#vocab_size count\n",
    "results = set()\n",
    "train.remove_stop_words.str.split().apply(results.update)\n",
    "vocab_size = len(results)\n",
    "vocab_size"
   ],
   "execution_count": 7,
   "outputs": [
    {
     "output_type": "execute_result",
     "data": {
      "text/plain": [
       "2263"
      ]
     },
     "metadata": {
      "tags": []
     },
     "execution_count": 7
    }
   ]
  },
  {
   "cell_type": "code",
   "metadata": {
    "colab": {
     "base_uri": "https://localhost:8080/"
    },
    "id": "R9NpYmhP07VH",
    "outputId": "58c9f0bf-a2a2-4307-d2c9-18b08aad5e54"
   },
   "source": [
    "maxSequenceLength_train = train['clean_paragraph_len'].max()\n",
    "maxSequenceLength_test = test['clean_paragraph_len'].max()\n",
    "maxSequenceLength_test, maxSequenceLength_train #(81, 121),"
   ],
   "execution_count": 8,
   "outputs": [
    {
     "output_type": "execute_result",
     "data": {
      "text/plain": [
       "(83, 121)"
      ]
     },
     "metadata": {
      "tags": []
     },
     "execution_count": 8
    }
   ]
  },
  {
   "cell_type": "markdown",
   "metadata": {
    "id": "Hdd0AmCehcvz"
   },
   "source": [
    "##Prepare sequence and additional features"
   ]
  },
  {
   "cell_type": "code",
   "metadata": {
    "id": "SQI8fhWm07VK"
   },
   "source": [
    "# def sent2vec(texts, max_sequence_length,vocab_size):\n",
    "#     \"\"\" Create a union train set vocabulary and turn text in set\n",
    "#     into  padded sequences (word --> num )\n",
    "#     :param texts: series of prepared strings\n",
    "#            max_sequence_length: int max len of sentence in series\n",
    "#     :return ndArray with transformed series of text to int\n",
    "#             with 0-padding up to max_sequence_length\"\"\"\n",
    "        \n",
    "#     tokenizer = Tokenizer(num_words=vocab_size)\n",
    "#     tokenizer.fit_on_texts(texts)\n",
    "# #     print('vocab len',vocab_size,len(tokenizer.word_index))\n",
    "    \n",
    "#     # Turn text into  padded sequences (word --> num )\n",
    "#     text_sequences = tokenizer.texts_to_sequences(texts)\n",
    "#     return pad_sequences(text_sequences, maxlen=max_sequence_length,\n",
    "#                          dtype=\"int32\", padding=\"post\", value=0)\n",
    "    \n",
    "    "
   ],
   "execution_count": 9,
   "outputs": []
  },
  {
   "cell_type": "code",
   "metadata": {
    "id": "s26Dbrv-ho4K"
   },
   "source": [
    "def tfidf(texts,vocab_size):\n",
    "    \"\"\" Create a union train set vocabulary and turn text in set\n",
    "    into  padded sequences (word --> num )\n",
    "    :param texts: series of prepared strings\n",
    "           max_sequence_length: int max len of sentence in series\n",
    "    :return ndArray with transformed series of text to int\n",
    "            with 0-padding up to max_sequence_length\"\"\"\n",
    "        \n",
    "    tokenizer = Tokenizer(num_words=vocab_size)\n",
    "    tokenizer.fit_on_texts(texts)\n",
    "#     print('vocab len',vocab_size,len(tokenizer.word_index))\n",
    "    \n",
    "    # Turn text into  padded sequences (word --> num )\n",
    "    text_sequences = tokenizer.texts_to_sequences(texts)\n",
    "    \n",
    "    return tokenizer.sequences_to_matrix(text_sequences, mode='tfidf')\n",
    "\n"
   ],
   "execution_count": 10,
   "outputs": []
  },
  {
   "cell_type": "code",
   "metadata": {
    "id": "pzNs-crw07VR"
   },
   "source": [
    "#for test nlp\n",
    "# sent2vec_test = sent2vec(text_test, maxSequenceLength_train,vocab_size)\n",
    "\n",
    "# index_max_len_sent = train[train['clean_paragraph_len'] == maxSequenceLength_train].index \n",
    "# sent2vec_train[index_max_len_sent]\n",
    "X_meta_test = test[['sent_count','num_count','clean_paragraph_len','verb_count','contains_pron']]\n",
    "# sent2vec_test.shape, X_meta_test.shape"
   ],
   "execution_count": 11,
   "outputs": []
  },
  {
   "cell_type": "code",
   "metadata": {
    "id": "2TPvPDaj07VO"
   },
   "source": [
    "#for train nlp\n",
    "# sent2vec_train = sent2vec(text_train, maxSequenceLength_train,vocab_size)\n",
    "\n",
    "# index_max_len_sent = train[train['clean_paragraph_len'] == maxSequenceLength_train].index \n",
    "# sent2vec_train[index_max_len_sent]\n",
    "X_meta_train = train[['sent_count','num_count','clean_paragraph_len','verb_count','contains_pron']]\n",
    "# sent2vec_train.shape, X_meta_train.shape\n",
    "\n",
    "embedding_dimensions = 128\n",
    "BATCH_SIZE= 128 \n",
    "EPOCHS=200\n",
    "THRESHOLD=0.5"
   ],
   "execution_count": 12,
   "outputs": []
  },
  {
   "cell_type": "code",
   "metadata": {
    "id": "lL0RvYtQifFF"
   },
   "source": [
    "# sent2vec_train.shape, X_meta_train.shape"
   ],
   "execution_count": 13,
   "outputs": []
  },
  {
   "cell_type": "code",
   "metadata": {
    "id": "fFsg5CPDh3X6"
   },
   "source": [
    "tf_idf_train = tfidf(text_train,vocab_size)\n",
    "tf_idf_test = tfidf(text_test,vocab_size)"
   ],
   "execution_count": 14,
   "outputs": []
  },
  {
   "cell_type": "code",
   "metadata": {
    "colab": {
     "base_uri": "https://localhost:8080/"
    },
    "id": "pkptGB_BiUD4",
    "outputId": "64bb8e5f-f2ba-4ae1-ab94-0148be99f52a"
   },
   "source": [
    "tf_idf_train.shape, tf_idf_test.shape"
   ],
   "execution_count": 15,
   "outputs": [
    {
     "output_type": "execute_result",
     "data": {
      "text/plain": [
       "((3846, 2263), (961, 2263))"
      ]
     },
     "metadata": {
      "tags": []
     },
     "execution_count": 15
    }
   ]
  },
  {
   "cell_type": "markdown",
   "metadata": {
    "id": "38vs67n4hOtc"
   },
   "source": [
    "## Create, build, train the model"
   ]
  },
  {
   "cell_type": "code",
   "metadata": {
    "id": "8fhA5vD707VT"
   },
   "source": [
    "from tensorflow.keras import regularizers\n",
    "\n",
    "def get_model(tf_idf_train,X_meta_train, results,embedding_dimensions):\n",
    "    \n",
    "    # nlp_input = Input(shape=(sent2vec_train.shape[1],)) \n",
    "\n",
    "    tf_idf_input = Input(shape=(tf_idf_train.shape[1],))\n",
    "\n",
    "    meta_input = Input(shape=(X_meta_train.shape[1],))\n",
    "\n",
    "    # emb1 = Embedding(output_dim=embedding_dimensions, \n",
    "    #                 input_dim=len(results) + 1, \n",
    "    #                 input_length=sent2vec_train.shape[1],\n",
    "    #                 mask_zero=True)(nlp_input)  # Use masking to handle the variable sequence lengths\n",
    "\n",
    "    emb2 = Embedding(output_dim=embedding_dimensions, \n",
    "                        input_dim=len(results) + 1, \n",
    "                        input_length=tf_idf_train.shape[1],\n",
    "                        mask_zero=True)(tf_idf_input)  # Use masking to handle the variable sequence lengths\n",
    "\n",
    "    # emb_concat =  tf.concat([emb1, emb2], axis=0)    \n",
    "\n",
    "    nlp_out = LSTM(128)(emb2) #\n",
    "\n",
    "    concat = tf.concat([nlp_out, meta_input], axis=1) \n",
    "\n",
    "    classifier = Dense(32,kernel_regularizer=regularizers.l2(0.005),activation='relu')(concat) \n",
    "\n",
    "    drop = Dropout(0.3)(classifier) #0.2 to avoid overfit\n",
    "\n",
    "    output = Dense(1,kernel_regularizer=regularizers.l2(0.005), activation='sigmoid')(drop) \n",
    "\n",
    "    model = Model(inputs=[tf_idf_input , meta_input], outputs=[output])\n",
    "\n",
    "    \n",
    "    return model"
   ],
   "execution_count": 16,
   "outputs": []
  },
  {
   "cell_type": "code",
   "metadata": {
    "id": "lrp93s4n07VY"
   },
   "source": [
    "concat_biLstm = get_model(tf_idf_train,X_meta_train, results,embedding_dimensions)"
   ],
   "execution_count": 17,
   "outputs": []
  },
  {
   "cell_type": "code",
   "metadata": {
    "scrolled": false,
    "colab": {
     "base_uri": "https://localhost:8080/"
    },
    "id": "XG3IP83s07Va",
    "outputId": "72d0521e-4eb5-4f35-dcf7-c3dcd7cce13c"
   },
   "source": [
    "concat_biLstm.summary()"
   ],
   "execution_count": 18,
   "outputs": [
    {
     "output_type": "stream",
     "text": [
      "Model: \"model\"\n",
      "__________________________________________________________________________________________________\n",
      "Layer (type)                    Output Shape         Param #     Connected to                     \n",
      "==================================================================================================\n",
      "input_1 (InputLayer)            [(None, 2263)]       0                                            \n",
      "__________________________________________________________________________________________________\n",
      "embedding (Embedding)           (None, 2263, 128)    289792      input_1[0][0]                    \n",
      "__________________________________________________________________________________________________\n",
      "lstm (LSTM)                     (None, 128)          131584      embedding[0][0]                  \n",
      "__________________________________________________________________________________________________\n",
      "input_2 (InputLayer)            [(None, 5)]          0                                            \n",
      "__________________________________________________________________________________________________\n",
      "tf.concat (TFOpLambda)          (None, 133)          0           lstm[0][0]                       \n",
      "                                                                 input_2[0][0]                    \n",
      "__________________________________________________________________________________________________\n",
      "dense (Dense)                   (None, 32)           4288        tf.concat[0][0]                  \n",
      "__________________________________________________________________________________________________\n",
      "dropout (Dropout)               (None, 32)           0           dense[0][0]                      \n",
      "__________________________________________________________________________________________________\n",
      "dense_1 (Dense)                 (None, 1)            33          dropout[0][0]                    \n",
      "==================================================================================================\n",
      "Total params: 425,697\n",
      "Trainable params: 425,697\n",
      "Non-trainable params: 0\n",
      "__________________________________________________________________________________________________\n"
     ],
     "name": "stdout"
    }
   ]
  },
  {
   "cell_type": "code",
   "metadata": {
    "id": "9mZh3qhE07Vc"
   },
   "source": [
    "concat_biLstm.compile(optimizer='adam',\n",
    "                  loss='binary_crossentropy',\n",
    "                  metrics=[tf.keras.metrics.Recall(),\n",
    "                           tf.keras.metrics.Precision(),\n",
    "                           'accuracy',\n",
    "                           tf.keras.metrics.AUC()])"
   ],
   "execution_count": 19,
   "outputs": []
  },
  {
   "cell_type": "code",
   "metadata": {
    "colab": {
     "base_uri": "https://localhost:8080/"
    },
    "id": "Z-TGv_v907Ve",
    "outputId": "43a52aa3-9f64-4388-84c4-b37fed3d4cb7"
   },
   "source": [
    "es = tf.keras.callbacks.EarlyStopping(monitor='val_loss'\n",
    "          , mode='min')\n",
    "callbacks=[es]\n",
    "history = concat_biLstm.fit([tf_idf_train,X_meta_train], y_train\n",
    "                    , batch_size=BATCH_SIZE\n",
    "                    , epochs=EPOCHS\n",
    "                    , validation_split=0.2\n",
    "                    , callbacks=callbacks)"
   ],
   "execution_count": 20,
   "outputs": [
    {
     "output_type": "stream",
     "text": [
      "Epoch 1/200\n",
      "25/25 [==============================] - 121s 5s/step - loss: 1.1130 - recall: 0.0688 - precision: 0.3551 - accuracy: 0.8008 - auc: 0.5576 - val_loss: 0.8712 - val_recall: 0.0000e+00 - val_precision: 0.0000e+00 - val_accuracy: 0.7636 - val_auc: 0.7189\n",
      "Epoch 2/200\n",
      "25/25 [==============================] - 116s 5s/step - loss: 0.7911 - recall: 0.2191 - precision: 0.6850 - accuracy: 0.8179 - auc: 0.7309 - val_loss: 0.5994 - val_recall: 0.4231 - val_precision: 1.0000 - val_accuracy: 0.8636 - val_auc: 0.9121\n",
      "Epoch 3/200\n",
      "25/25 [==============================] - 116s 5s/step - loss: 0.5062 - recall: 0.5338 - precision: 0.9118 - accuracy: 0.8954 - auc: 0.9237 - val_loss: 0.4225 - val_recall: 0.5824 - val_precision: 0.9907 - val_accuracy: 0.9000 - val_auc: 0.9790\n",
      "Epoch 4/200\n",
      "25/25 [==============================] - 116s 5s/step - loss: 0.3927 - recall: 0.5520 - precision: 0.9572 - accuracy: 0.9124 - auc: 0.9530 - val_loss: 0.3322 - val_recall: 0.7363 - val_precision: 0.9781 - val_accuracy: 0.9338 - val_auc: 0.9672\n",
      "Epoch 5/200\n",
      "25/25 [==============================] - 116s 5s/step - loss: 0.2990 - recall: 0.7389 - precision: 0.9302 - accuracy: 0.9404 - auc: 0.9697 - val_loss: 0.2863 - val_recall: 0.8077 - val_precision: 0.9866 - val_accuracy: 0.9519 - val_auc: 0.9749\n",
      "Epoch 6/200\n",
      "25/25 [==============================] - 115s 5s/step - loss: 0.2569 - recall: 0.8614 - precision: 0.9674 - accuracy: 0.9660 - auc: 0.9804 - val_loss: 0.2483 - val_recall: 0.8132 - val_precision: 0.9801 - val_accuracy: 0.9519 - val_auc: 0.9846\n",
      "Epoch 7/200\n",
      "25/25 [==============================] - 115s 5s/step - loss: 0.2250 - recall: 0.8570 - precision: 0.9640 - accuracy: 0.9655 - auc: 0.9841 - val_loss: 0.2264 - val_recall: 0.8407 - val_precision: 0.9808 - val_accuracy: 0.9584 - val_auc: 0.9813\n",
      "Epoch 8/200\n",
      "25/25 [==============================] - 116s 5s/step - loss: 0.1936 - recall: 0.8301 - precision: 0.9718 - accuracy: 0.9640 - auc: 0.9867 - val_loss: 0.2058 - val_recall: 0.8462 - val_precision: 0.9686 - val_accuracy: 0.9571 - val_auc: 0.9850\n",
      "Epoch 9/200\n",
      "25/25 [==============================] - 119s 5s/step - loss: 0.1765 - recall: 0.8563 - precision: 0.9619 - accuracy: 0.9667 - auc: 0.9870 - val_loss: 0.1923 - val_recall: 0.8626 - val_precision: 0.9458 - val_accuracy: 0.9558 - val_auc: 0.9860\n",
      "Epoch 10/200\n",
      "25/25 [==============================] - 117s 5s/step - loss: 0.1674 - recall: 0.8831 - precision: 0.9568 - accuracy: 0.9690 - auc: 0.9889 - val_loss: 0.1824 - val_recall: 0.8681 - val_precision: 0.9405 - val_accuracy: 0.9558 - val_auc: 0.9881\n",
      "Epoch 11/200\n",
      "25/25 [==============================] - 116s 5s/step - loss: 0.1601 - recall: 0.8854 - precision: 0.9623 - accuracy: 0.9698 - auc: 0.9899 - val_loss: 0.1773 - val_recall: 0.8297 - val_precision: 0.9742 - val_accuracy: 0.9545 - val_auc: 0.9887\n",
      "Epoch 12/200\n",
      "25/25 [==============================] - 116s 5s/step - loss: 0.1510 - recall: 0.8591 - precision: 0.9784 - accuracy: 0.9696 - auc: 0.9895 - val_loss: 0.1735 - val_recall: 0.8681 - val_precision: 0.9405 - val_accuracy: 0.9558 - val_auc: 0.9872\n",
      "Epoch 13/200\n",
      "25/25 [==============================] - 115s 5s/step - loss: 0.1478 - recall: 0.8721 - precision: 0.9563 - accuracy: 0.9665 - auc: 0.9900 - val_loss: 0.1698 - val_recall: 0.8681 - val_precision: 0.9240 - val_accuracy: 0.9519 - val_auc: 0.9875\n",
      "Epoch 14/200\n",
      "25/25 [==============================] - 115s 5s/step - loss: 0.1376 - recall: 0.8897 - precision: 0.9594 - accuracy: 0.9707 - auc: 0.9930 - val_loss: 0.1714 - val_recall: 0.8791 - val_precision: 0.9143 - val_accuracy: 0.9519 - val_auc: 0.9859\n"
     ],
     "name": "stdout"
    }
   ]
  },
  {
   "cell_type": "markdown",
   "metadata": {
    "id": "_1cy7mqnhFgI"
   },
   "source": [
    "##Evaluate the model"
   ]
  },
  {
   "cell_type": "code",
   "metadata": {
    "colab": {
     "base_uri": "https://localhost:8080/"
    },
    "id": "rOhTwg7607Vh",
    "outputId": "0aac40a8-d116-4c6e-8ad5-bf05bd453e01"
   },
   "source": [
    "score = concat_biLstm.evaluate([tf_idf_test,X_meta_test], y_test,\n",
    "                       batch_size=BATCH_SIZE, verbose=1)\n",
    "print()\n",
    "print(u'Model Loss score: {}'.format(score[0]))\n",
    "print(u'Model Recall class 1 Evaluation : {}'.format(score[1]))\n"
   ],
   "execution_count": 21,
   "outputs": [
    {
     "output_type": "stream",
     "text": [
      "8/8 [==============================] - 3s 357ms/step - loss: 0.1286 - recall: 0.9128 - precision: 0.9368 - accuracy: 0.9698 - auc: 0.9951\n",
      "\n",
      "Model Loss score: 0.1286478489637375\n",
      "Model Recall class 1 Evaluation : 0.9128205180168152\n"
     ],
     "name": "stdout"
    }
   ]
  },
  {
   "cell_type": "code",
   "metadata": {
    "colab": {
     "base_uri": "https://localhost:8080/"
    },
    "id": "B5KJkQTaAGxe",
    "outputId": "a9fcef4d-0632-44c8-b385-c157df27959b"
   },
   "source": [
    "for i,j in zip(['Loss','Recall','Precision','Accuracy','AUC'],score):\n",
    "  print(i,j)"
   ],
   "execution_count": 22,
   "outputs": [
    {
     "output_type": "stream",
     "text": [
      "Loss 0.1286478489637375\n",
      "Recall 0.9128205180168152\n",
      "Precision 0.9368420839309692\n",
      "Accuracy 0.9698231220245361\n",
      "AUC 0.9951194524765015\n"
     ],
     "name": "stdout"
    }
   ]
  },
  {
   "cell_type": "markdown",
   "metadata": {
    "id": "A1BZFTGGgvLJ"
   },
   "source": [
    "##Plot the loss. (On the legen are loss and recal values)"
   ]
  },
  {
   "cell_type": "code",
   "metadata": {
    "colab": {
     "base_uri": "https://localhost:8080/",
     "height": 294
    },
    "id": "GW0L8V9r07Vi",
    "outputId": "8f03300d-d6fd-4e44-f799-d6690759b5fb"
   },
   "source": [
    "import matplotlib.pyplot as plt\n",
    "%matplotlib inline\n",
    "import warnings\n",
    "warnings.simplefilter(action='ignore')\n",
    "warnings.filterwarnings('ignore')\n",
    "\n",
    "#plot the accuracy \n",
    "plt.figure(figsize=(15,4))\n",
    "plt.plot(history.history['loss'], 'r', label=f'loss {round(score[0],2)}')\n",
    "plt.plot(history.history['val_loss'], 'g--', label=f'val_loss {round(score[1],2)}')\n",
    "plt.xlabel('Epoch')\n",
    "plt.ylabel('Loss')\n",
    "\n",
    "plt.title('The Loss vs val_Loss LSTM concat, activation = relu')\n",
    "plt.legend(loc='best');"
   ],
   "execution_count": 23,
   "outputs": [
    {
     "output_type": "display_data",
     "data": {
      "image/png": "[encoded data removed]",
      "text/plain": [
       "<Figure size 1080x288 with 1 Axes>"
      ]
     },
     "metadata": {
      "tags": [],
      "needs_background": "light"
     }
    }
   ]
  },
  {
   "cell_type": "markdown",
   "metadata": {
    "id": "hV5S5aMl07Vj"
   },
   "source": [
    "### Saving/restoring the model"
   ]
  },
  {
   "cell_type": "code",
   "metadata": {
    "id": "acm12uSK07Vp"
   },
   "source": [
    "# concat_biLstm.save('/content/drive/MyDrive/ai_assignment_aidock/data/my_model-91-13-tfidf.h5')"
   ],
   "execution_count": 27,
   "outputs": []
  },
  {
   "cell_type": "markdown",
   "metadata": {
    "id": "eEgLo3KILA3o"
   },
   "source": [
    "# New Section"
   ]
  },
  {
   "cell_type": "code",
   "metadata": {
    "id": "UOXC5A2q07Vr"
   },
   "source": [
    "# new_model = tf.keras.models.load_model('my_model3.h5')"
   ],
   "execution_count": 25,
   "outputs": []
  },
  {
   "cell_type": "code",
   "metadata": {
    "id": "9PNe9GRI07Vt"
   },
   "source": [
    "# new_model.summary()"
   ],
   "execution_count": 26,
   "outputs": []
  },
  {
   "cell_type": "code",
   "metadata": {
    "id": "WV41owF607Vv"
   },
   "source": [
    ""
   ],
   "execution_count": 26,
   "outputs": []
  }
 ]
}